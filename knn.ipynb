{
 "cells": [
  {
   "cell_type": "markdown",
   "metadata": {},
   "source": [
    "*Python Executables*"
   ]
  },
  {
   "cell_type": "code",
   "execution_count": 1,
   "metadata": {},
   "outputs": [
    {
     "data": {
      "text/plain": [
       "'/Library/Frameworks/Python.framework/Versions/3.6/bin/python3'"
      ]
     },
     "execution_count": 1,
     "metadata": {},
     "output_type": "execute_result"
    }
   ],
   "source": [
    "import sys\n",
    "sys.executable"
   ]
  },
  {
   "cell_type": "markdown",
   "metadata": {},
   "source": [
    "# K Nearest Neighbour"
   ]
  },
  {
   "cell_type": "code",
   "execution_count": 2,
   "metadata": {},
   "outputs": [],
   "source": [
    "import pandas as pd\n",
    "import numpy as np\n",
    "from vega3 import VegaLite\n",
    "from IPython.display import clear_output"
   ]
  },
  {
   "cell_type": "markdown",
   "metadata": {},
   "source": [
    "## Prepare data"
   ]
  },
  {
   "cell_type": "markdown",
   "metadata": {},
   "source": [
    "Here is the logic to generate our own clustered dataset. This is fairly simple. First the logic creates cluster center randomly. Then it generates points with a given standard deviation"
   ]
  },
  {
   "cell_type": "code",
   "execution_count": 3,
   "metadata": {},
   "outputs": [],
   "source": [
    "# %load gen_points.py\n",
    "import numpy as np\n",
    "import random\n",
    "import math\n",
    "\n",
    "def gen_points(val_seed_xy=(80, 100), num_class=2, num_points=100, global_std=20):\n",
    "    # cluster center\n",
    "    centers = []\n",
    "    for i in range(num_class):\n",
    "        centers.append((val_seed_xy[0] * random.random(), val_seed_xy[1] * random.random()))\n",
    "    \n",
    "    # Points near centers\n",
    "    X = np.empty(shape=[0, 2])\n",
    "    y = np.empty(shape=[0, 1])\n",
    "    for i in range(num_points):\n",
    "        cls = num_class * random.random()\n",
    "        cls = math.floor(cls)\n",
    "        xcord = centers[cls][0] + global_std * random.random()\n",
    "        ycord = centers[cls][1] + global_std * random.random()\n",
    "        X = np.append(X, [[xcord, ycord]], axis=0)\n",
    "        y = np.append(y, [[cls]], axis=0)\n",
    "    \n",
    "    return (X, y)"
   ]
  },
  {
   "cell_type": "markdown",
   "metadata": {},
   "source": [
    "Here we have our own clusters of point. Now visualize it to check if the data which has been generated is according yo our expectation or not."
   ]
  },
  {
   "cell_type": "code",
   "execution_count": 4,
   "metadata": {},
   "outputs": [],
   "source": [
    "(X, y) = gen_points()"
   ]
  },
  {
   "cell_type": "markdown",
   "metadata": {},
   "source": [
    "Now that we have our data ready, lets make a dataframe so that we can visualize it"
   ]
  },
  {
   "cell_type": "code",
   "execution_count": 5,
   "metadata": {},
   "outputs": [
    {
     "data": {
      "text/html": [
       "<div>\n",
       "<style scoped>\n",
       "    .dataframe tbody tr th:only-of-type {\n",
       "        vertical-align: middle;\n",
       "    }\n",
       "\n",
       "    .dataframe tbody tr th {\n",
       "        vertical-align: top;\n",
       "    }\n",
       "\n",
       "    .dataframe thead th {\n",
       "        text-align: right;\n",
       "    }\n",
       "</style>\n",
       "<table border=\"1\" class=\"dataframe\">\n",
       "  <thead>\n",
       "    <tr style=\"text-align: right;\">\n",
       "      <th></th>\n",
       "      <th>x</th>\n",
       "      <th>y</th>\n",
       "      <th>c</th>\n",
       "    </tr>\n",
       "  </thead>\n",
       "  <tbody>\n",
       "    <tr>\n",
       "      <th>0</th>\n",
       "      <td>48.911701</td>\n",
       "      <td>71.369615</td>\n",
       "      <td>0.0</td>\n",
       "    </tr>\n",
       "    <tr>\n",
       "      <th>1</th>\n",
       "      <td>41.116401</td>\n",
       "      <td>84.040545</td>\n",
       "      <td>0.0</td>\n",
       "    </tr>\n",
       "    <tr>\n",
       "      <th>2</th>\n",
       "      <td>51.047836</td>\n",
       "      <td>75.086663</td>\n",
       "      <td>0.0</td>\n",
       "    </tr>\n",
       "    <tr>\n",
       "      <th>3</th>\n",
       "      <td>44.765909</td>\n",
       "      <td>76.905826</td>\n",
       "      <td>0.0</td>\n",
       "    </tr>\n",
       "    <tr>\n",
       "      <th>4</th>\n",
       "      <td>95.139975</td>\n",
       "      <td>71.362285</td>\n",
       "      <td>1.0</td>\n",
       "    </tr>\n",
       "  </tbody>\n",
       "</table>\n",
       "</div>"
      ],
      "text/plain": [
       "           x          y    c\n",
       "0  48.911701  71.369615  0.0\n",
       "1  41.116401  84.040545  0.0\n",
       "2  51.047836  75.086663  0.0\n",
       "3  44.765909  76.905826  0.0\n",
       "4  95.139975  71.362285  1.0"
      ]
     },
     "execution_count": 5,
     "metadata": {},
     "output_type": "execute_result"
    }
   ],
   "source": [
    "columns = [\"x\", \"y\", \"c\"]\n",
    "mat = np.hstack((X, y))\n",
    "df = pd.DataFrame(mat, columns=columns)\n",
    "df.head()"
   ]
  },
  {
   "cell_type": "markdown",
   "metadata": {},
   "source": [
    "Now lets visualize it"
   ]
  },
  {
   "cell_type": "code",
   "execution_count": 6,
   "metadata": {},
   "outputs": [
    {
     "data": {
      "text/html": [
       "<div class=\"vega-embed\" id=\"6b18e5e6-ed3e-4ae2-903c-830792fabc20\"></div>\n",
       "\n",
       "<style>\n",
       ".vega-embed svg, .vega-embed canvas {\n",
       "  border: 1px dotted gray;\n",
       "}\n",
       "\n",
       ".vega-embed .vega-actions a {\n",
       "  margin-right: 6px;\n",
       "}\n",
       "</style>\n"
      ]
     },
     "metadata": {
      "jupyter-vega3": "#6b18e5e6-ed3e-4ae2-903c-830792fabc20"
     },
     "output_type": "display_data"
    },
    {
     "data": {
      "application/javascript": [
       "var spec = {\"mark\": {\"type\": \"point\", \"filled\": \"true\"}, \"encoding\": {\"y\": {\"type\": \"quantitative\", \"field\": \"y\", \"scale\": {\"domain\": [47.47712934502524, 95.27958422246328]}}, \"x\": {\"type\": \"quantitative\", \"field\": \"x\", \"scale\": {\"domain\": [23.56927728851278, 109.68398996219625]}}, \"color\": {\"type\": \"nominal\", \"field\": \"c\"}}, \"data\": {\"values\": [{\"x\": 48.91170149231085, \"y\": 71.36961494346058, \"c\": 0.0}, {\"x\": 41.11640102244158, \"y\": 84.0405453228544, \"c\": 0.0}, {\"x\": 51.04783634192994, \"y\": 75.08666329096707, \"c\": 0.0}, {\"x\": 44.76590947831035, \"y\": 76.90582552679112, \"c\": 0.0}, {\"x\": 95.13997462827693, \"y\": 71.36228461380219, \"c\": 1.0}, {\"x\": 98.43901805369426, \"y\": 69.54590809727148, \"c\": 1.0}, {\"x\": 93.18280938022639, \"y\": 59.93761813539086, \"c\": 1.0}, {\"x\": 99.68398996219625, \"y\": 72.60078716297713, \"c\": 1.0}, {\"x\": 36.61719313242954, \"y\": 83.23803071862918, \"c\": 0.0}, {\"x\": 40.43660290964327, \"y\": 81.23574148500362, \"c\": 0.0}, {\"x\": 42.567729237594314, \"y\": 79.2139847513208, \"c\": 0.0}, {\"x\": 45.368866936854545, \"y\": 70.06847257811377, \"c\": 0.0}, {\"x\": 34.51337571746451, \"y\": 83.66902383103336, \"c\": 0.0}, {\"x\": 48.17837010344448, \"y\": 76.72718111914341, \"c\": 0.0}, {\"x\": 51.45556583957578, \"y\": 67.85889053712867, \"c\": 0.0}, {\"x\": 80.40258712358263, \"y\": 67.69643103271744, \"c\": 1.0}, {\"x\": 94.8167777480319, \"y\": 67.75778546401808, \"c\": 1.0}, {\"x\": 83.83394469742628, \"y\": 60.82592449140842, \"c\": 1.0}, {\"x\": 80.10630257148553, \"y\": 68.9447580956404, \"c\": 1.0}, {\"x\": 82.01071792663255, \"y\": 60.926752304644154, \"c\": 1.0}, {\"x\": 47.00836970917329, \"y\": 73.74280648997176, \"c\": 0.0}, {\"x\": 94.06124566279581, \"y\": 71.87533446736315, \"c\": 1.0}, {\"x\": 80.36331882302373, \"y\": 64.78147594622946, \"c\": 1.0}, {\"x\": 39.82927441199778, \"y\": 65.51933763053012, \"c\": 0.0}, {\"x\": 87.58270634093459, \"y\": 70.29658565811731, \"c\": 1.0}, {\"x\": 96.0779435033327, \"y\": 67.50598150313982, \"c\": 1.0}, {\"x\": 89.51306348297773, \"y\": 75.03513230532086, \"c\": 1.0}, {\"x\": 42.407925260078244, \"y\": 79.26555543897422, \"c\": 0.0}, {\"x\": 96.01254608226931, \"y\": 59.67386268303008, \"c\": 1.0}, {\"x\": 50.747063909685245, \"y\": 66.6718706586041, \"c\": 0.0}, {\"x\": 82.5342355903386, \"y\": 60.45699511965821, \"c\": 1.0}, {\"x\": 97.48680499137711, \"y\": 73.52782440559277, \"c\": 1.0}, {\"x\": 43.23171800950498, \"y\": 77.22104388673775, \"c\": 0.0}, {\"x\": 91.22169710319022, \"y\": 70.73836994829139, \"c\": 1.0}, {\"x\": 98.29841372224934, \"y\": 65.82260292840165, \"c\": 1.0}, {\"x\": 88.89111748230711, \"y\": 60.92611288774903, \"c\": 1.0}, {\"x\": 33.806154121969996, \"y\": 65.64174943309827, \"c\": 0.0}, {\"x\": 98.17544390322962, \"y\": 63.0759549786905, \"c\": 1.0}, {\"x\": 33.6172748975104, \"y\": 74.70843486584329, \"c\": 0.0}, {\"x\": 85.25096080447332, \"y\": 61.65489771718336, \"c\": 1.0}, {\"x\": 89.71595029326717, \"y\": 61.73435305340105, \"c\": 1.0}, {\"x\": 46.93222473618058, \"y\": 68.06926910921088, \"c\": 0.0}, {\"x\": 41.98866081009092, \"y\": 85.27958422246328, \"c\": 0.0}, {\"x\": 81.83250129794, \"y\": 58.059533646259, \"c\": 1.0}, {\"x\": 88.83791730530794, \"y\": 72.64263902264541, \"c\": 1.0}, {\"x\": 48.23648435504093, \"y\": 72.80212346389877, \"c\": 0.0}, {\"x\": 37.6911537261877, \"y\": 70.66644535188692, \"c\": 0.0}, {\"x\": 82.99904388890693, \"y\": 72.24958312452328, \"c\": 1.0}, {\"x\": 98.78302792830935, \"y\": 71.50505967020426, \"c\": 1.0}, {\"x\": 36.00268617561747, \"y\": 75.77654872083932, \"c\": 0.0}, {\"x\": 91.69185681489932, \"y\": 70.50666797632675, \"c\": 1.0}, {\"x\": 50.255396454430084, \"y\": 76.2075501867892, \"c\": 0.0}, {\"x\": 90.88313423746848, \"y\": 65.00683391388174, \"c\": 1.0}, {\"x\": 94.94032945592377, \"y\": 58.67884314538787, \"c\": 1.0}, {\"x\": 94.95817919000972, \"y\": 66.0519188136023, \"c\": 1.0}, {\"x\": 53.28558246358798, \"y\": 74.42782399249475, \"c\": 0.0}, {\"x\": 85.07336431942757, \"y\": 58.98394463594931, \"c\": 1.0}, {\"x\": 36.71861229986796, \"y\": 71.66809917273582, \"c\": 0.0}, {\"x\": 40.023761125573, \"y\": 82.01385644539158, \"c\": 0.0}, {\"x\": 41.362326158725615, \"y\": 84.97012787400365, \"c\": 0.0}, {\"x\": 48.264798689519864, \"y\": 80.62607544853172, \"c\": 0.0}, {\"x\": 95.24682482311599, \"y\": 71.0698856719691, \"c\": 1.0}, {\"x\": 90.53318591567327, \"y\": 64.73138053992759, \"c\": 1.0}, {\"x\": 92.04816387828966, \"y\": 60.676843457109, \"c\": 1.0}, {\"x\": 96.87721160619908, \"y\": 64.00149101839604, \"c\": 1.0}, {\"x\": 97.45234076976104, \"y\": 57.47712934502524, \"c\": 1.0}, {\"x\": 45.04775674907296, \"y\": 74.71786853492011, \"c\": 0.0}, {\"x\": 95.31026179213832, \"y\": 74.18698157636567, \"c\": 1.0}, {\"x\": 97.78890314190222, \"y\": 60.64956413475896, \"c\": 1.0}, {\"x\": 95.51880163232886, \"y\": 69.4214222809379, \"c\": 1.0}, {\"x\": 92.1593698118572, \"y\": 74.1178495550757, \"c\": 1.0}, {\"x\": 43.27115652930449, \"y\": 73.2583648187519, \"c\": 0.0}, {\"x\": 45.40269356574224, \"y\": 66.98101983781706, \"c\": 0.0}, {\"x\": 44.019985205729824, \"y\": 74.79454924812708, \"c\": 0.0}, {\"x\": 88.20575422789443, \"y\": 67.62698844523577, \"c\": 1.0}, {\"x\": 98.75829656375734, \"y\": 71.24850832099438, \"c\": 1.0}, {\"x\": 33.56927728851278, \"y\": 84.29374498966712, \"c\": 0.0}, {\"x\": 90.13443080971034, \"y\": 68.11914251614225, \"c\": 1.0}, {\"x\": 89.48520713486826, \"y\": 74.63404974419858, \"c\": 1.0}, {\"x\": 98.82223084243392, \"y\": 60.66612781787063, \"c\": 1.0}, {\"x\": 35.61932364189987, \"y\": 67.66532832982607, \"c\": 0.0}, {\"x\": 35.271368824806586, \"y\": 79.34076055332024, \"c\": 0.0}, {\"x\": 91.1833698281, \"y\": 62.09819516482943, \"c\": 1.0}, {\"x\": 83.20775043905633, \"y\": 74.27186360833949, \"c\": 1.0}, {\"x\": 48.45018317125583, \"y\": 70.84002806942789, \"c\": 0.0}, {\"x\": 45.89353205709778, \"y\": 67.66928373353684, \"c\": 0.0}, {\"x\": 49.75305775004494, \"y\": 75.18521786195782, \"c\": 0.0}, {\"x\": 41.15359098173662, \"y\": 66.70330788221186, \"c\": 0.0}, {\"x\": 99.1329450491373, \"y\": 76.29309206506423, \"c\": 1.0}, {\"x\": 36.82366112115837, \"y\": 80.35920714553244, \"c\": 0.0}, {\"x\": 98.37758047036246, \"y\": 57.78234832886339, \"c\": 1.0}, {\"x\": 83.41979423667489, \"y\": 76.6092524921522, \"c\": 1.0}, {\"x\": 39.152143575631015, \"y\": 78.17192550078478, \"c\": 0.0}, {\"x\": 45.26341454834036, \"y\": 75.42470271946841, \"c\": 0.0}, {\"x\": 84.9449127825571, \"y\": 76.3263836420188, \"c\": 1.0}, {\"x\": 81.19653391419082, \"y\": 69.57763663706328, \"c\": 1.0}, {\"x\": 52.25943292410332, \"y\": 71.8669937174519, \"c\": 0.0}, {\"x\": 49.38024706168552, \"y\": 68.42455700438578, \"c\": 0.0}, {\"x\": 42.5417044695913, \"y\": 81.07811496593206, \"c\": 0.0}, {\"x\": 39.737411268282884, \"y\": 69.73974639346427, \"c\": 0.0}]}};\n",
       "var selector = \"#6b18e5e6-ed3e-4ae2-903c-830792fabc20\";\n",
       "var type = \"vega-lite\";\n",
       "\n",
       "var output_area = this;\n",
       "require(['nbextensions/jupyter-vega3/index'], function(vega) {\n",
       "  vega.render(selector, spec, type, output_area);\n",
       "}, function (err) {\n",
       "  if (err.requireType !== 'scripterror') {\n",
       "    throw(err);\n",
       "  }\n",
       "});\n"
      ]
     },
     "metadata": {
      "jupyter-vega3": "#6b18e5e6-ed3e-4ae2-903c-830792fabc20"
     },
     "output_type": "display_data"
    },
    {
     "data": {
      "image/png": "[encoded data removed]"
     },
     "metadata": {
      "jupyter-vega3": "#6b18e5e6-ed3e-4ae2-903c-830792fabc20"
     },
     "output_type": "display_data"
    }
   ],
   "source": [
    "VegaLite({\n",
    "    \"mark\": { \"type\": \"point\", \"filled\": \"true\" },\n",
    "    \"encoding\": {\n",
    "        \"y\": { \n",
    "            \"type\": \"quantitative\",\n",
    "            \"field\": \"y\",\n",
    "            \"scale\": { \n",
    "                \"domain\": [df['y'].min() - 10, df['y'].max() + 10]\n",
    "            } \n",
    "        },\n",
    "        \"x\": { \n",
    "            \"type\": \"quantitative\", \n",
    "            \"field\": \"x\", \n",
    "            \"scale\": { \n",
    "                \"domain\": [df['x'].min() - 10, df['x'].max() + 10]\n",
    "            } \n",
    "        },\n",
    "        \"color\": { \"type\": \"nominal\", \"field\": \"c\" }\n",
    "    }\n",
    "}, df)"
   ]
  },
  {
   "cell_type": "markdown",
   "metadata": {},
   "source": [
    "Looks like we can apply clear classification with this dataset."
   ]
  },
  {
   "cell_type": "markdown",
   "metadata": {},
   "source": [
    "*You can optionally save the dataset if you want*"
   ]
  },
  {
   "cell_type": "code",
   "execution_count": 7,
   "metadata": {},
   "outputs": [],
   "source": [
    "df.to_csv('gen-data.csv', index=False)"
   ]
  },
  {
   "cell_type": "markdown",
   "metadata": {},
   "source": [
    "## Algorithm"
   ]
  },
  {
   "cell_type": "markdown",
   "metadata": {},
   "source": [
    "The algorithm is pretty simple. The visual illustration of the algorithm is here [link goes here]"
   ]
  },
  {
   "cell_type": "markdown",
   "metadata": {},
   "source": [
    "Now that our KNN algorithm is ready. Lets use it with our existing dataset"
   ]
  },
  {
   "cell_type": "code",
   "execution_count": 8,
   "metadata": {},
   "outputs": [],
   "source": [
    "# %load knn_algo.py\n",
    "import numpy as np\n",
    "\n",
    "def default_progress_fn(i, total):\n",
    "    pass\n",
    "\n",
    "class KNN:\n",
    "    def __init__ (self, k, progress_fn=default_progress_fn):\n",
    "        \"\"\" Pass k as hyperparameter\"\"\"\n",
    "        self.k = k\n",
    "        self.progress_fn = progress_fn\n",
    "\n",
    "    def train(self, X, y):\n",
    "        \"\"\"\n",
    "            X is example training matrix. Every row of X contains one training example. Each training example\n",
    "            may have `d` features. If there are `m` such examples then X is `m x d` matrix.\n",
    "            y is the label matrix corrosponding to each training example. Hence y is `m x 1` matrix.\n",
    "        \"\"\"\n",
    "\n",
    "        # During training time stores the references of the input only\n",
    "        self.tX = X\n",
    "        self.ty = y\n",
    "\n",
    "    def predict(self, X):\n",
    "        \"\"\"\n",
    "            Predict y based on test data X.\n",
    "        \"\"\"\n",
    "\n",
    "        num_training = X.shape[0]\n",
    "        YPred = np.zeros(num_training, dtype = self.ty.dtype)\n",
    "\n",
    "        for i in range(num_training):\n",
    "            # Euclidean distance is used to find out distance between two datapoint.\n",
    "            distances = np.reshape(np.sqrt(np.sum(np.square(self.tX - X[i, :]), axis=1)), (-1, 1))\n",
    "            # Along with the distance stack the labels so that we can vote easily\n",
    "            distance_label = np.hstack((distances, self.ty))\n",
    "            # Simple majority voting based on the minimum distance\n",
    "            sorted_distance = distance_label[distance_label[:,0].argsort()]\n",
    "            k_sorted_distance = sorted_distance[:self.k,:]\n",
    "            (labels, occurence) = np.unique(k_sorted_distance[:, 1], return_counts=True)\n",
    "            label = labels[occurence.argsort()[0]]\n",
    "            YPred[i] = label\n",
    "\n",
    "            self.progress_fn(i, num_training)\n",
    "\n",
    "        return YPred"
   ]
  },
  {
   "cell_type": "code",
   "execution_count": 9,
   "metadata": {},
   "outputs": [
    {
     "data": {
      "text/plain": [
       "array([0., 0.])"
      ]
     },
     "execution_count": 9,
     "metadata": {},
     "output_type": "execute_result"
    }
   ],
   "source": [
    "import knn_algo as knnalgo\n",
    "knn = knnalgo.KNN(3) # 3 Nearest neighbour\n",
    "knn.train(X, y)\n",
    "knn.predict(np.array([[10, 100], [10, 10]]))"
   ]
  },
  {
   "cell_type": "markdown",
   "metadata": {},
   "source": [
    "Its classifying our data correctly."
   ]
  },
  {
   "cell_type": "markdown",
   "metadata": {},
   "source": [
    "# Real data"
   ]
  },
  {
   "cell_type": "markdown",
   "metadata": {},
   "source": [
    "Base locaiton where data resides.\n",
    "\n",
    "Download the data from http://www.cs.toronto.edu/~kriz/cifar.html"
   ]
  },
  {
   "cell_type": "code",
   "execution_count": 10,
   "metadata": {},
   "outputs": [],
   "source": [
    "basedir_data = \"./data/\""
   ]
  },
  {
   "cell_type": "code",
   "execution_count": 11,
   "metadata": {},
   "outputs": [],
   "source": [
    "rel_path = basedir_data + \"cifar-10-batches-py/\""
   ]
  },
  {
   "cell_type": "markdown",
   "metadata": {},
   "source": [
    "Deserialize image files"
   ]
  },
  {
   "cell_type": "code",
   "execution_count": 12,
   "metadata": {},
   "outputs": [],
   "source": [
    "def unpickle(file):\n",
    "    import pickle\n",
    "    with open(file, 'rb') as fo:\n",
    "        dict = pickle.load(fo, encoding='bytes')\n",
    "    return dict\n",
    "\n",
    "X = unpickle(rel_path + 'data_batch_1')\n",
    "img_data = X[b'data']\n",
    "img_label = X[b'labels']\n",
    "img_label = np.array(img_label).reshape(-1, 1)"
   ]
  },
  {
   "cell_type": "markdown",
   "metadata": {},
   "source": [
    "Now that our data and labels are loaded lets check the same"
   ]
  },
  {
   "cell_type": "code",
   "execution_count": 13,
   "metadata": {},
   "outputs": [
    {
     "name": "stdout",
     "output_type": "stream",
     "text": [
      "[[ 59  43  50 ... 140  84  72]\n",
      " [154 126 105 ... 139 142 144]\n",
      " [255 253 253 ...  83  83  84]\n",
      " ...\n",
      " [ 71  60  74 ...  68  69  68]\n",
      " [250 254 211 ... 215 255 254]\n",
      " [ 62  61  60 ... 130 130 131]]\n",
      "shape (10000, 3072)\n"
     ]
    }
   ],
   "source": [
    "print(img_data)\n",
    "print('shape', img_data.shape)"
   ]
  },
  {
   "cell_type": "markdown",
   "metadata": {},
   "source": [
    "There are 10k rows, hence 10k examples. Each example has 32 x 32 image which is 1024px. Each px has (r, g, b) value hence 3 x 1024 = 3072 values for one single image.\n",
    ">  a 10000x3072 numpy array of uint8s. Each row of the array stores a 32x32 colour image. The first 1024 entries contain the red channel values, the next 1024 the green, and the final 1024 the blue. The image is stored in row-major order, so that the first 32 entries of the array are the red channel values of the first row of the image."
   ]
  },
  {
   "cell_type": "markdown",
   "metadata": {},
   "source": [
    "---"
   ]
  },
  {
   "cell_type": "markdown",
   "metadata": {},
   "source": [
    "Now lets check the labels"
   ]
  },
  {
   "cell_type": "code",
   "execution_count": 14,
   "metadata": {},
   "outputs": [
    {
     "name": "stdout",
     "output_type": "stream",
     "text": [
      "[[6]\n",
      " [9]\n",
      " [9]\n",
      " ...\n",
      " [1]\n",
      " [1]\n",
      " [5]]\n",
      "shape (10000, 1)\n"
     ]
    }
   ],
   "source": [
    "print(img_label)\n",
    "print('shape', img_label.shape)"
   ]
  },
  {
   "cell_type": "markdown",
   "metadata": {},
   "source": [
    "Now we have the labels as 10000 x 1 matrix"
   ]
  },
  {
   "cell_type": "markdown",
   "metadata": {},
   "source": [
    "Now lets load the testing data."
   ]
  },
  {
   "cell_type": "code",
   "execution_count": 15,
   "metadata": {},
   "outputs": [],
   "source": [
    "test_X = unpickle(rel_path + 'test_batch');\n",
    "test_data = test_X[b'data']\n",
    "test_label = test_X[b'labels']\n",
    "test_label = np.array(test_label).reshape(-1, 1)"
   ]
  },
  {
   "cell_type": "markdown",
   "metadata": {},
   "source": [
    "Check if the test data shape is same as training data shape"
   ]
  },
  {
   "cell_type": "code",
   "execution_count": 16,
   "metadata": {},
   "outputs": [
    {
     "name": "stdout",
     "output_type": "stream",
     "text": [
      "[[158 159 165 ... 124 129 110]\n",
      " [235 231 232 ... 178 191 199]\n",
      " [158 158 139 ...   8   3   7]\n",
      " ...\n",
      " [ 20  19  15 ...  50  53  47]\n",
      " [ 25  15  23 ...  80  81  80]\n",
      " [ 73  98  99 ...  94  58  26]]\n",
      "shape (10000, 3072)\n"
     ]
    }
   ],
   "source": [
    "print(test_data)\n",
    "print('shape', test_data.shape)"
   ]
  },
  {
   "cell_type": "markdown",
   "metadata": {},
   "source": [
    "Yes it's same. The number of cols in row the vectors are what we are checking."
   ]
  },
  {
   "cell_type": "markdown",
   "metadata": {},
   "source": [
    "---"
   ]
  },
  {
   "cell_type": "markdown",
   "metadata": {},
   "source": [
    "Lets sample first 5 images from the data and see what the image file contains"
   ]
  },
  {
   "cell_type": "code",
   "execution_count": 17,
   "metadata": {},
   "outputs": [
    {
     "name": "stdout",
     "output_type": "stream",
     "text": [
      "[[ 59  43  50 ... 140  84  72]\n",
      " [154 126 105 ... 139 142 144]\n",
      " [255 253 253 ...  83  83  84]\n",
      " ...\n",
      " [ 28  30  33 ... 100  99  96]\n",
      " [134 131 128 ... 136 137 138]\n",
      " [125 110 102 ...  82  84  86]]\n",
      "shape (10, 3072)\n"
     ]
    }
   ],
   "source": [
    "sample_img_data = img_data[0:10, :]\n",
    "print(sample_img_data)\n",
    "print('shape', sample_img_data.shape)"
   ]
  },
  {
   "cell_type": "markdown",
   "metadata": {},
   "source": [
    "Lets get the batch file so that image name can be displayed"
   ]
  },
  {
   "cell_type": "code",
   "execution_count": 18,
   "metadata": {},
   "outputs": [
    {
     "name": "stdout",
     "output_type": "stream",
     "text": [
      "[b'airplane', b'automobile', b'bird', b'cat', b'deer', b'dog', b'frog', b'horse', b'ship', b'truck']\n"
     ]
    }
   ],
   "source": [
    "batch = unpickle(rel_path + 'batches.meta');\n",
    "meta = batch[b'label_names']\n",
    "print(meta)"
   ]
  },
  {
   "cell_type": "markdown",
   "metadata": {},
   "source": [
    "Here is the procedure to show image"
   ]
  },
  {
   "cell_type": "code",
   "execution_count": 19,
   "metadata": {},
   "outputs": [],
   "source": [
    "# %load show_img.py\n",
    "from PIL import Image\n",
    "import numpy as np\n",
    "from IPython.display import display\n",
    "\n",
    "def default_label_fn(i, original):\n",
    "    return original\n",
    "\n",
    "def show_img(img_arr, label_arr, meta, index, label_fn=default_label_fn):\n",
    "    \"\"\"\n",
    "        Given a numpy array of image from CIFAR-10 labels this method transform the data so that PIL can read and show\n",
    "        the image.\n",
    "        Check here how CIFAR encodes the image http://www.cs.toronto.edu/~kriz/cifar.html\n",
    "    \"\"\"\n",
    "    \n",
    "    one_img = img_arr[index, :]\n",
    "    # Assume image size is 32 x 32. First 1024 px is r, next 1024 px is g, last 1024 px is b from the (r,g b) channel\n",
    "    r = one_img[:1024].reshape(32, 32)\n",
    "    g = one_img[1024:2048].reshape(32, 32)\n",
    "    b = one_img[2048:]. reshape(32, 32)\n",
    "    rgb = np.dstack([r, g, b])\n",
    "    img = Image.fromarray(np.array(rgb), 'RGB')\n",
    "    display(img)\n",
    "    print(label_fn(index, meta[label_arr[index][0]].decode('utf-8')))"
   ]
  },
  {
   "cell_type": "code",
   "execution_count": 20,
   "metadata": {},
   "outputs": [
    {
     "data": {
      "image/png": "[encoded data removed]",
      "text/plain": [
       "<PIL.Image.Image image mode=RGB size=32x32 at 0x115EFCDD8>"
      ]
     },
     "metadata": {},
     "output_type": "display_data"
    },
    {
     "name": "stdout",
     "output_type": "stream",
     "text": [
      "frog\n"
     ]
    },
    {
     "data": {
      "image/png": "[encoded data removed]",
      "text/plain": [
       "<PIL.Image.Image image mode=RGB size=32x32 at 0x115F64DA0>"
      ]
     },
     "metadata": {},
     "output_type": "display_data"
    },
    {
     "name": "stdout",
     "output_type": "stream",
     "text": [
      "truck\n"
     ]
    },
    {
     "data": {
      "image/png": "[encoded data removed]",
      "text/plain": [
       "<PIL.Image.Image image mode=RGB size=32x32 at 0x115F64DD8>"
      ]
     },
     "metadata": {},
     "output_type": "display_data"
    },
    {
     "name": "stdout",
     "output_type": "stream",
     "text": [
      "truck\n"
     ]
    },
    {
     "data": {
      "image/png": "[encoded data removed]",
      "text/plain": [
       "<PIL.Image.Image image mode=RGB size=32x32 at 0x115F64E48>"
      ]
     },
     "metadata": {},
     "output_type": "display_data"
    },
    {
     "name": "stdout",
     "output_type": "stream",
     "text": [
      "deer\n"
     ]
    },
    {
     "data": {
      "image/png": "[encoded data removed]",
      "text/plain": [
       "<PIL.Image.Image image mode=RGB size=32x32 at 0x115F64A58>"
      ]
     },
     "metadata": {},
     "output_type": "display_data"
    },
    {
     "name": "stdout",
     "output_type": "stream",
     "text": [
      "automobile\n"
     ]
    },
    {
     "data": {
      "image/png": "[encoded data removed]",
      "text/plain": [
       "<PIL.Image.Image image mode=RGB size=32x32 at 0x115F64A58>"
      ]
     },
     "metadata": {},
     "output_type": "display_data"
    },
    {
     "name": "stdout",
     "output_type": "stream",
     "text": [
      "automobile\n"
     ]
    },
    {
     "data": {
      "image/png": "[encoded data removed]",
      "text/plain": [
       "<PIL.Image.Image image mode=RGB size=32x32 at 0x115F64A58>"
      ]
     },
     "metadata": {},
     "output_type": "display_data"
    },
    {
     "name": "stdout",
     "output_type": "stream",
     "text": [
      "bird\n"
     ]
    },
    {
     "data": {
      "image/png": "[encoded data removed]",
      "text/plain": [
       "<PIL.Image.Image image mode=RGB size=32x32 at 0x115F64DD8>"
      ]
     },
     "metadata": {},
     "output_type": "display_data"
    },
    {
     "name": "stdout",
     "output_type": "stream",
     "text": [
      "horse\n"
     ]
    },
    {
     "data": {
      "image/png": "[encoded data removed]",
      "text/plain": [
       "<PIL.Image.Image image mode=RGB size=32x32 at 0x115F64E48>"
      ]
     },
     "metadata": {},
     "output_type": "display_data"
    },
    {
     "name": "stdout",
     "output_type": "stream",
     "text": [
      "ship\n"
     ]
    },
    {
     "data": {
      "image/png": "[encoded data removed]",
      "text/plain": [
       "<PIL.Image.Image image mode=RGB size=32x32 at 0x115F64A58>"
      ]
     },
     "metadata": {},
     "output_type": "display_data"
    },
    {
     "name": "stdout",
     "output_type": "stream",
     "text": [
      "cat\n"
     ]
    }
   ],
   "source": [
    "import show_img as si\n",
    "for i in range(0, 10):\n",
    "    si.show_img(sample_img_data, img_label, meta, i)"
   ]
  },
  {
   "cell_type": "markdown",
   "metadata": {},
   "source": [
    "Lets run our KNN algorithm now"
   ]
  },
  {
   "cell_type": "markdown",
   "metadata": {},
   "source": [
    "*Since this algorith is slow, it takes time to run the model and get predicted outcome. Select the number of test data on which you would want to run the model.*"
   ]
  },
  {
   "cell_type": "code",
   "execution_count": 25,
   "metadata": {},
   "outputs": [],
   "source": [
    "data_point_no = 10"
   ]
  },
  {
   "cell_type": "code",
   "execution_count": 26,
   "metadata": {},
   "outputs": [
    {
     "name": "stdout",
     "output_type": "stream",
     "text": [
      "completed 10 of total 10\n"
     ]
    }
   ],
   "source": [
    "import time\n",
    "def progress(i, total):\n",
    "    clear_output(wait=True)\n",
    "    print('completed ' + str(i + 1) + ' of total ' + str(total))\n",
    "    time.sleep(10)\n",
    "    \n",
    "sample_test_data = test_data[:data_point_no, :]\n",
    "knn = knnalgo.KNN(3, progress_fn=progress) # 3 Nearest neighbour\n",
    "knn.train(img_data, img_label)\n",
    "Ypred = knn.predict(sample_test_data)"
   ]
  },
  {
   "cell_type": "markdown",
   "metadata": {},
   "source": [
    "Lets look at the result now"
   ]
  },
  {
   "cell_type": "code",
   "execution_count": 28,
   "metadata": {},
   "outputs": [
    {
     "data": {
      "image/png": "[encoded data removed]",
      "text/plain": [
       "<PIL.Image.Image image mode=RGB size=32x32 at 0x11619A6A0>"
      ]
     },
     "metadata": {},
     "output_type": "display_data"
    },
    {
     "name": "stdout",
     "output_type": "stream",
     "text": [
      "cat::airplane\n"
     ]
    },
    {
     "data": {
      "image/png": "[encoded data removed]",
      "text/plain": [
       "<PIL.Image.Image image mode=RGB size=32x32 at 0x11619A6D8>"
      ]
     },
     "metadata": {},
     "output_type": "display_data"
    },
    {
     "name": "stdout",
     "output_type": "stream",
     "text": [
      "ship::truck\n"
     ]
    },
    {
     "data": {
      "image/png": "[encoded data removed]",
      "text/plain": [
       "<PIL.Image.Image image mode=RGB size=32x32 at 0x11619A6A0>"
      ]
     },
     "metadata": {},
     "output_type": "display_data"
    },
    {
     "name": "stdout",
     "output_type": "stream",
     "text": [
      "ship::ship\n"
     ]
    },
    {
     "data": {
      "image/png": "[encoded data removed]",
      "text/plain": [
       "<PIL.Image.Image image mode=RGB size=32x32 at 0x11619A780>"
      ]
     },
     "metadata": {},
     "output_type": "display_data"
    },
    {
     "name": "stdout",
     "output_type": "stream",
     "text": [
      "airplane::bird\n"
     ]
    },
    {
     "data": {
      "image/png": "[encoded data removed]",
      "text/plain": [
       "<PIL.Image.Image image mode=RGB size=32x32 at 0x11619A7B8>"
      ]
     },
     "metadata": {},
     "output_type": "display_data"
    },
    {
     "name": "stdout",
     "output_type": "stream",
     "text": [
      "frog::cat\n"
     ]
    },
    {
     "data": {
      "image/png": "[encoded data removed]",
      "text/plain": [
       "<PIL.Image.Image image mode=RGB size=32x32 at 0x11619A6D8>"
      ]
     },
     "metadata": {},
     "output_type": "display_data"
    },
    {
     "name": "stdout",
     "output_type": "stream",
     "text": [
      "frog::frog\n"
     ]
    },
    {
     "data": {
      "image/png": "[encoded data removed]",
      "text/plain": [
       "<PIL.Image.Image image mode=RGB size=32x32 at 0x11619A780>"
      ]
     },
     "metadata": {},
     "output_type": "display_data"
    },
    {
     "name": "stdout",
     "output_type": "stream",
     "text": [
      "automobile::bird\n"
     ]
    },
    {
     "data": {
      "image/png": "[encoded data removed]",
      "text/plain": [
       "<PIL.Image.Image image mode=RGB size=32x32 at 0x11619A7B8>"
      ]
     },
     "metadata": {},
     "output_type": "display_data"
    },
    {
     "name": "stdout",
     "output_type": "stream",
     "text": [
      "frog::deer\n"
     ]
    },
    {
     "data": {
      "image/png": "[encoded data removed]",
      "text/plain": [
       "<PIL.Image.Image image mode=RGB size=32x32 at 0x11619A780>"
      ]
     },
     "metadata": {},
     "output_type": "display_data"
    },
    {
     "name": "stdout",
     "output_type": "stream",
     "text": [
      "cat::bird\n"
     ]
    },
    {
     "data": {
      "image/png": "[encoded data removed]",
      "text/plain": [
       "<PIL.Image.Image image mode=RGB size=32x32 at 0x11619A6D8>"
      ]
     },
     "metadata": {},
     "output_type": "display_data"
    },
    {
     "name": "stdout",
     "output_type": "stream",
     "text": [
      "automobile::bird\n"
     ]
    }
   ],
   "source": [
    "def pred_label_fn(i, original):\n",
    "    return original + '::' + meta[Ypred[i]].decode('utf-8');\n",
    "    \n",
    "for i in range(0, len(Ypred)):\n",
    "    si.show_img(sample_test_data, test_label, meta, i, label_fn=pred_label_fn)"
   ]
  },
  {
   "cell_type": "code",
   "execution_count": null,
   "metadata": {},
   "outputs": [],
   "source": []
  }
 ],
 "metadata": {
  "kernelspec": {
   "display_name": "Python 3",
   "language": "python",
   "name": "python3"
  },
  "language_info": {
   "codemirror_mode": {
    "name": "ipython",
    "version": 3
   },
   "file_extension": ".py",
   "mimetype": "text/x-python",
   "name": "python",
   "nbconvert_exporter": "python",
   "pygments_lexer": "ipython3",
   "version": "3.6.1"
  }
 },
 "nbformat": 4,
 "nbformat_minor": 2
}
