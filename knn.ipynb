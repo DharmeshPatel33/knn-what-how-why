{
 "cells": [
  {
   "cell_type": "markdown",
   "metadata": {},
   "source": [
    "*Python Executables*"
   ]
  },
  {
   "cell_type": "code",
   "execution_count": 1,
   "metadata": {},
   "outputs": [
    {
     "data": {
      "text/plain": [
       "'/Library/Frameworks/Python.framework/Versions/3.6/bin/python3'"
      ]
     },
     "execution_count": 1,
     "metadata": {},
     "output_type": "execute_result"
    }
   ],
   "source": [
    "import sys\n",
    "sys.executable"
   ]
  },
  {
   "cell_type": "markdown",
   "metadata": {},
   "source": [
    "# K Nearest Neighbour"
   ]
  },
  {
   "cell_type": "code",
   "execution_count": 2,
   "metadata": {},
   "outputs": [],
   "source": [
    "import pandas as pd\n",
    "import numpy as np\n",
    "from vega3 import VegaLite"
   ]
  },
  {
   "cell_type": "markdown",
   "metadata": {},
   "source": [
    "## Prepare data"
   ]
  },
  {
   "cell_type": "markdown",
   "metadata": {},
   "source": [
    "Here is the logic to generate our own clustered dataset. This is fairly simple. First the logic creates cluster center randomly. Then it generates points with a given standard deviation"
   ]
  },
  {
   "cell_type": "code",
   "execution_count": 3,
   "metadata": {},
   "outputs": [],
   "source": [
    "# %load gen_points.py\n",
    "import numpy as np\n",
    "import random\n",
    "import math\n",
    "\n",
    "def gen_points(val_seed_xy=(80, 100), num_class=2, num_points=100, global_std=20):\n",
    "    # cluster center\n",
    "    centers = []\n",
    "    for i in range(num_class):\n",
    "        centers.append((val_seed_xy[0] * random.random(), val_seed_xy[1] * random.random()))\n",
    "    \n",
    "    # Points near centers\n",
    "    X = np.empty(shape=[0, 2])\n",
    "    y = np.empty(shape=[0, 1])\n",
    "    for i in range(num_points):\n",
    "        cls = num_class * random.random()\n",
    "        cls = math.floor(cls)\n",
    "        xcord = centers[cls][0] + global_std * random.random()\n",
    "        ycord = centers[cls][1] + global_std * random.random()\n",
    "        X = np.append(X, [[xcord, ycord]], axis=0)\n",
    "        y = np.append(y, [[cls]], axis=0)\n",
    "    \n",
    "    return (X, y)"
   ]
  },
  {
   "cell_type": "markdown",
   "metadata": {},
   "source": [
    "Here we have our own clusters of point. Now visualize it to check if the data which has been generated is according yo our expectation or not."
   ]
  },
  {
   "cell_type": "code",
   "execution_count": 7,
   "metadata": {},
   "outputs": [],
   "source": [
    "(X, y) = gen_points()"
   ]
  },
  {
   "cell_type": "markdown",
   "metadata": {},
   "source": [
    "Now that we have our data ready, lets make a dataframe so that we can visualize it"
   ]
  },
  {
   "cell_type": "code",
   "execution_count": 8,
   "metadata": {},
   "outputs": [
    {
     "data": {
      "text/html": [
       "<div>\n",
       "<style scoped>\n",
       "    .dataframe tbody tr th:only-of-type {\n",
       "        vertical-align: middle;\n",
       "    }\n",
       "\n",
       "    .dataframe tbody tr th {\n",
       "        vertical-align: top;\n",
       "    }\n",
       "\n",
       "    .dataframe thead th {\n",
       "        text-align: right;\n",
       "    }\n",
       "</style>\n",
       "<table border=\"1\" class=\"dataframe\">\n",
       "  <thead>\n",
       "    <tr style=\"text-align: right;\">\n",
       "      <th></th>\n",
       "      <th>x</th>\n",
       "      <th>y</th>\n",
       "      <th>c</th>\n",
       "    </tr>\n",
       "  </thead>\n",
       "  <tbody>\n",
       "    <tr>\n",
       "      <th>0</th>\n",
       "      <td>23.016783</td>\n",
       "      <td>43.835505</td>\n",
       "      <td>1.0</td>\n",
       "    </tr>\n",
       "    <tr>\n",
       "      <th>1</th>\n",
       "      <td>12.424017</td>\n",
       "      <td>11.354202</td>\n",
       "      <td>0.0</td>\n",
       "    </tr>\n",
       "    <tr>\n",
       "      <th>2</th>\n",
       "      <td>22.581894</td>\n",
       "      <td>51.584641</td>\n",
       "      <td>1.0</td>\n",
       "    </tr>\n",
       "    <tr>\n",
       "      <th>3</th>\n",
       "      <td>17.948155</td>\n",
       "      <td>10.195375</td>\n",
       "      <td>0.0</td>\n",
       "    </tr>\n",
       "    <tr>\n",
       "      <th>4</th>\n",
       "      <td>11.640975</td>\n",
       "      <td>47.883338</td>\n",
       "      <td>1.0</td>\n",
       "    </tr>\n",
       "  </tbody>\n",
       "</table>\n",
       "</div>"
      ],
      "text/plain": [
       "           x          y    c\n",
       "0  23.016783  43.835505  1.0\n",
       "1  12.424017  11.354202  0.0\n",
       "2  22.581894  51.584641  1.0\n",
       "3  17.948155  10.195375  0.0\n",
       "4  11.640975  47.883338  1.0"
      ]
     },
     "execution_count": 8,
     "metadata": {},
     "output_type": "execute_result"
    }
   ],
   "source": [
    "columns = [\"x\", \"y\", \"c\"]\n",
    "mat = np.hstack((X, y))\n",
    "df = pd.DataFrame(mat, columns=columns)\n",
    "df.head()"
   ]
  },
  {
   "cell_type": "markdown",
   "metadata": {},
   "source": [
    "Now lets visualize it"
   ]
  },
  {
   "cell_type": "code",
   "execution_count": 9,
   "metadata": {},
   "outputs": [
    {
     "data": {
      "text/html": [
       "<div class=\"vega-embed\" id=\"7035c953-a539-4564-b69b-6f643b48bdee\"></div>\n",
       "\n",
       "<style>\n",
       ".vega-embed svg, .vega-embed canvas {\n",
       "  border: 1px dotted gray;\n",
       "}\n",
       "\n",
       ".vega-embed .vega-actions a {\n",
       "  margin-right: 6px;\n",
       "}\n",
       "</style>\n"
      ]
     },
     "metadata": {
      "jupyter-vega3": "#7035c953-a539-4564-b69b-6f643b48bdee"
     },
     "output_type": "display_data"
    },
    {
     "data": {
      "application/javascript": [
       "var spec = {\"mark\": {\"type\": \"point\", \"filled\": \"true\"}, \"encoding\": {\"y\": {\"type\": \"quantitative\", \"field\": \"y\", \"scale\": {\"domain\": [-6.9758062992821745, 66.11381379271911]}}, \"x\": {\"type\": \"quantitative\", \"field\": \"x\", \"scale\": {\"domain\": [-7.903220078164768, 33.24529929899958]}}, \"color\": {\"type\": \"nominal\", \"field\": \"c\"}}, \"data\": {\"values\": [{\"x\": 23.016783111969296, \"y\": 43.8355047429753, \"c\": 1.0}, {\"x\": 12.424016624024956, \"y\": 11.354202464508338, \"c\": 0.0}, {\"x\": 22.581893702849392, \"y\": 51.58464079036797, \"c\": 1.0}, {\"x\": 17.9481549013261, \"y\": 10.195375485139524, \"c\": 0.0}, {\"x\": 11.640975349496713, \"y\": 47.883338425264796, \"c\": 1.0}, {\"x\": 11.19910406492789, \"y\": 11.357780641470354, \"c\": 0.0}, {\"x\": 9.828874502204986, \"y\": 3.8642567232556213, \"c\": 0.0}, {\"x\": 6.405431414757777, \"y\": 12.603843367756333, \"c\": 0.0}, {\"x\": 8.937446774033456, \"y\": 50.3741037939548, \"c\": 1.0}, {\"x\": 5.071175200766085, \"y\": 11.582026207728843, \"c\": 0.0}, {\"x\": 20.950244686822344, \"y\": 21.593941286150816, \"c\": 0.0}, {\"x\": 16.421765873992356, \"y\": 54.58995224121496, \"c\": 1.0}, {\"x\": 8.516774287813414, \"y\": 7.776824040460832, \"c\": 0.0}, {\"x\": 3.5214924589841945, \"y\": 15.591138320716224, \"c\": 0.0}, {\"x\": 17.627410166785644, \"y\": 3.9220790435438135, \"c\": 0.0}, {\"x\": 5.2263900475445695, \"y\": 3.0241937007178255, \"c\": 0.0}, {\"x\": 4.926806156908691, \"y\": 3.248221621104108, \"c\": 0.0}, {\"x\": 7.12813147202906, \"y\": 3.7913264247578327, \"c\": 0.0}, {\"x\": 10.164352239479433, \"y\": 4.44150122350516, \"c\": 0.0}, {\"x\": 5.482990254803319, \"y\": 55.59027226516924, \"c\": 1.0}, {\"x\": 14.94507203716388, \"y\": 38.73510576446721, \"c\": 1.0}, {\"x\": 14.733122118457079, \"y\": 19.703162668976546, \"c\": 0.0}, {\"x\": 9.131469060139317, \"y\": 6.18728933039963, \"c\": 0.0}, {\"x\": 11.773574618948015, \"y\": 13.654406856750345, \"c\": 0.0}, {\"x\": 6.974705855484022, \"y\": 4.780578467823142, \"c\": 0.0}, {\"x\": 8.511880245900263, \"y\": 8.395628930084008, \"c\": 0.0}, {\"x\": 9.678676524513449, \"y\": 19.762364154005024, \"c\": 0.0}, {\"x\": 8.723627705239675, \"y\": 18.275493834291925, \"c\": 0.0}, {\"x\": 19.78534297693879, \"y\": 11.932817546237759, \"c\": 0.0}, {\"x\": 13.206784760304291, \"y\": 56.06310348033506, \"c\": 1.0}, {\"x\": 4.551685185975063, \"y\": 9.696029328558406, \"c\": 0.0}, {\"x\": 8.661496224406978, \"y\": 9.911098275512089, \"c\": 0.0}, {\"x\": 17.08051277572931, \"y\": 49.68696398394036, \"c\": 1.0}, {\"x\": 19.38943495480719, \"y\": 3.2926313690888076, \"c\": 0.0}, {\"x\": 2.0967799218352323, \"y\": 10.967810658162907, \"c\": 0.0}, {\"x\": 7.326218825202955, \"y\": 18.793057003339044, \"c\": 0.0}, {\"x\": 3.0891667055229233, \"y\": 21.349174492803805, \"c\": 0.0}, {\"x\": 17.995963914769924, \"y\": 19.662675595648096, \"c\": 0.0}, {\"x\": 23.15339083441749, \"y\": 45.12673780396592, \"c\": 1.0}, {\"x\": 2.7174714702190106, \"y\": 12.179437983906283, \"c\": 0.0}, {\"x\": 15.256148856799783, \"y\": 51.40309154800305, \"c\": 1.0}, {\"x\": 16.253039666863433, \"y\": 38.81175747106768, \"c\": 1.0}, {\"x\": 5.586859023988384, \"y\": 38.88361629737371, \"c\": 1.0}, {\"x\": 17.644791976843823, \"y\": 39.56541871859052, \"c\": 1.0}, {\"x\": 5.3829148532908855, \"y\": 6.973518823600806, \"c\": 0.0}, {\"x\": 7.981677388439568, \"y\": 9.170567644181357, \"c\": 0.0}, {\"x\": 21.399931153834945, \"y\": 15.53513092684815, \"c\": 0.0}, {\"x\": 11.429137058111987, \"y\": 3.36762845964218, \"c\": 0.0}, {\"x\": 14.160176237831084, \"y\": 8.221831243369808, \"c\": 0.0}, {\"x\": 15.284880303339714, \"y\": 47.35672804411908, \"c\": 1.0}, {\"x\": 21.050693618070135, \"y\": 49.59651288351871, \"c\": 1.0}, {\"x\": 21.00878847667506, \"y\": 11.209096560692116, \"c\": 0.0}, {\"x\": 11.82478535343831, \"y\": 16.34563505438152, \"c\": 0.0}, {\"x\": 11.613420676275734, \"y\": 42.7137542097396, \"c\": 1.0}, {\"x\": 17.537222127770804, \"y\": 8.699754413297411, \"c\": 0.0}, {\"x\": 2.1930888027514372, \"y\": 9.642918997911417, \"c\": 0.0}, {\"x\": 17.697238424758964, \"y\": 21.00020450705771, \"c\": 0.0}, {\"x\": 22.440136096189708, \"y\": 45.08191844343367, \"c\": 1.0}, {\"x\": 20.095911252332332, \"y\": 49.34201228073213, \"c\": 1.0}, {\"x\": 12.345740063753619, \"y\": 44.982389052898085, \"c\": 1.0}, {\"x\": 13.687670856296146, \"y\": 42.01630335843734, \"c\": 1.0}, {\"x\": 18.91090012534987, \"y\": 38.76602115769386, \"c\": 1.0}, {\"x\": 20.52240771441211, \"y\": 14.149176131112037, \"c\": 0.0}, {\"x\": 13.119556635324036, \"y\": 38.61927419608287, \"c\": 1.0}, {\"x\": 14.228534774421735, \"y\": 54.28659823228675, \"c\": 1.0}, {\"x\": 4.340987599524507, \"y\": 53.465132809545764, \"c\": 1.0}, {\"x\": 4.536105064919875, \"y\": 16.43680846833339, \"c\": 0.0}, {\"x\": 8.685694568195983, \"y\": 18.257566810889774, \"c\": 0.0}, {\"x\": 4.789015561848684, \"y\": 15.656987523417502, \"c\": 0.0}, {\"x\": 20.289385667040957, \"y\": 21.132240872944504, \"c\": 0.0}, {\"x\": 23.245299298999587, \"y\": 49.67015074895947, \"c\": 1.0}, {\"x\": 22.088010893118295, \"y\": 13.78113687530498, \"c\": 0.0}, {\"x\": 5.61588221871207, \"y\": 12.865084858969652, \"c\": 0.0}, {\"x\": 16.143319026283997, \"y\": 4.814685148652053, \"c\": 0.0}, {\"x\": 11.204526632570133, \"y\": 50.66496539031447, \"c\": 1.0}, {\"x\": 3.5068390439467856, \"y\": 13.814702539132266, \"c\": 0.0}, {\"x\": 22.730268777100033, \"y\": 49.36785014724934, \"c\": 1.0}, {\"x\": 5.2109016801144055, \"y\": 3.95054125835544, \"c\": 0.0}, {\"x\": 4.566778271152425, \"y\": 9.716622851087903, \"c\": 0.0}, {\"x\": 7.17495350569722, \"y\": 17.820704529530968, \"c\": 0.0}, {\"x\": 7.514216551711477, \"y\": 5.239648293528269, \"c\": 0.0}, {\"x\": 14.829320468084951, \"y\": 16.645063958561327, \"c\": 0.0}, {\"x\": 21.93242338856365, \"y\": 15.773485768270131, \"c\": 0.0}, {\"x\": 22.490654345893823, \"y\": 45.77953140224466, \"c\": 1.0}, {\"x\": 18.625140929686474, \"y\": 56.07364428583783, \"c\": 1.0}, {\"x\": 15.776574212397263, \"y\": 4.643157684077222, \"c\": 0.0}, {\"x\": 8.901423502934279, \"y\": 50.09270910110631, \"c\": 1.0}, {\"x\": 22.375395946755976, \"y\": 50.60360718349226, \"c\": 1.0}, {\"x\": 4.174248756543129, \"y\": 50.789307365540466, \"c\": 1.0}, {\"x\": 9.489948570496216, \"y\": 56.113813792719114, \"c\": 1.0}, {\"x\": 5.715264142893776, \"y\": 6.530965614199763, \"c\": 0.0}, {\"x\": 21.679025552135712, \"y\": 38.12836002709699, \"c\": 1.0}, {\"x\": 17.443870247422602, \"y\": 45.37832873755844, \"c\": 1.0}, {\"x\": 14.731856566976857, \"y\": 47.135922615536295, \"c\": 1.0}, {\"x\": 7.337727790730549, \"y\": 49.52753361743301, \"c\": 1.0}, {\"x\": 10.06854632485513, \"y\": 54.701958763023136, \"c\": 1.0}, {\"x\": 6.978786137136039, \"y\": 55.311193796364364, \"c\": 1.0}, {\"x\": 14.56118271247951, \"y\": 38.36120640449284, \"c\": 1.0}, {\"x\": 4.717818042498965, \"y\": 19.61009236565103, \"c\": 0.0}, {\"x\": 5.003736268363539, \"y\": 48.17410289586164, \"c\": 1.0}]}};\n",
       "var selector = \"#7035c953-a539-4564-b69b-6f643b48bdee\";\n",
       "var type = \"vega-lite\";\n",
       "\n",
       "var output_area = this;\n",
       "require(['nbextensions/jupyter-vega3/index'], function(vega) {\n",
       "  vega.render(selector, spec, type, output_area);\n",
       "}, function (err) {\n",
       "  if (err.requireType !== 'scripterror') {\n",
       "    throw(err);\n",
       "  }\n",
       "});\n"
      ]
     },
     "metadata": {
      "jupyter-vega3": "#7035c953-a539-4564-b69b-6f643b48bdee"
     },
     "output_type": "display_data"
    },
    {
     "data": {
      "image/png": "[encoded data removed]"
     },
     "metadata": {
      "jupyter-vega3": "#7035c953-a539-4564-b69b-6f643b48bdee"
     },
     "output_type": "display_data"
    }
   ],
   "source": [
    "VegaLite({\n",
    "    \"mark\": { \"type\": \"point\", \"filled\": \"true\" },\n",
    "    \"encoding\": {\n",
    "        \"y\": { \n",
    "            \"type\": \"quantitative\",\n",
    "            \"field\": \"y\",\n",
    "            \"scale\": { \n",
    "                \"domain\": [df['y'].min() - 10, df['y'].max() + 10]\n",
    "            } \n",
    "        },\n",
    "        \"x\": { \n",
    "            \"type\": \"quantitative\", \n",
    "            \"field\": \"x\", \n",
    "            \"scale\": { \n",
    "                \"domain\": [df['x'].min() - 10, df['x'].max() + 10]\n",
    "            } \n",
    "        },\n",
    "        \"color\": { \"type\": \"nominal\", \"field\": \"c\" }\n",
    "    }\n",
    "}, df)"
   ]
  },
  {
   "cell_type": "markdown",
   "metadata": {},
   "source": [
    "Looks like we can apply clear classification with this dataset."
   ]
  },
  {
   "cell_type": "markdown",
   "metadata": {},
   "source": [
    "*You can optionally save the dataset if you want*"
   ]
  },
  {
   "cell_type": "code",
   "execution_count": 8,
   "metadata": {},
   "outputs": [],
   "source": [
    "df.to_csv('gen-data.csv', index=False)"
   ]
  },
  {
   "cell_type": "markdown",
   "metadata": {},
   "source": [
    "## Algorithm"
   ]
  },
  {
   "cell_type": "markdown",
   "metadata": {},
   "source": [
    "The algorithm is pretty simple. The visual illustration of the algorithm is here [link goes here]"
   ]
  },
  {
   "cell_type": "code",
   "execution_count": 10,
   "metadata": {},
   "outputs": [],
   "source": [
    "# %load knn_algo.py\n",
    "import numpy as np\n",
    "\n",
    "class KNN:\n",
    "    def __init__ (self, k):\n",
    "        \"\"\" Pass k as the hyperparameter\"\"\"\n",
    "        self.k = k\n",
    "\n",
    "    def train(self, X, y):\n",
    "        \"\"\"\n",
    "            X is the example training matrix. Every row of X contains one training example. Each training example\n",
    "            may have `d` features. If there are `m` such examples then X is `m x d` matrix.\n",
    "            y is the label matrix corrosponding to each training example. Hence y is `m x 1` matrix.\n",
    "        \"\"\"\n",
    "\n",
    "        # During training time stores the references of the input only\n",
    "        self.tX = X\n",
    "        self.ty = y\n",
    "\n",
    "    def predict(self, X):\n",
    "        \"\"\"\n",
    "            Predict y based on test data X.\n",
    "        \"\"\"\n",
    "\n",
    "        num_training = X.shape[0]\n",
    "        YPred = np.zeros(num_training, dtype = self.ty.dtype)\n",
    "\n",
    "        for i in range(num_training):\n",
    "            # Euclidean distance is used to find out the distance between two datapoint.\n",
    "            distances = np.reshape(np.sqrt(np.sum(np.square(self.tX - X[i, :]), axis=1)), (-1, 1))\n",
    "            # Along with the distance stack the labels so that we can vote easily\n",
    "            distance_label = np.hstack((distances, self.ty))\n",
    "            # Simple majority voting based on the minimum distance\n",
    "            sorted_distance = distance_label[distance_label[:,0].argsort()]\n",
    "            k_sorted_distance = sorted_distance[:self.k,:]\n",
    "            (labels, occurence) = np.unique(k_sorted_distance[:, 1], return_counts=True)\n",
    "            label = labels[occurence.argsort()[0]]\n",
    "            YPred[i] = label\n",
    "\n",
    "        return YPred"
   ]
  },
  {
   "cell_type": "markdown",
   "metadata": {},
   "source": [
    "Now that our KNN algorithm is ready. Lets use it with our existing dataset"
   ]
  },
  {
   "cell_type": "code",
   "execution_count": 11,
   "metadata": {},
   "outputs": [
    {
     "data": {
      "text/plain": [
       "array([1., 0.])"
      ]
     },
     "execution_count": 11,
     "metadata": {},
     "output_type": "execute_result"
    }
   ],
   "source": [
    "import knn_algo as knnalgo\n",
    "knn = knnalgo.KNN(3) # 3 Nearest neighbour\n",
    "knn.train(X, y)\n",
    "knn.predict(np.array([[10, 100], [10, 10]]))"
   ]
  },
  {
   "cell_type": "markdown",
   "metadata": {},
   "source": [
    "Its classifying our data correctly."
   ]
  },
  {
   "cell_type": "markdown",
   "metadata": {},
   "source": [
    "# Real data"
   ]
  },
  {
   "cell_type": "markdown",
   "metadata": {},
   "source": [
    "Base locaiton where data resides.\n",
    "\n",
    "Download the data from http://www.cs.toronto.edu/~kriz/cifar.html"
   ]
  },
  {
   "cell_type": "code",
   "execution_count": 12,
   "metadata": {},
   "outputs": [],
   "source": [
    "basedir_data = \"./data/\""
   ]
  },
  {
   "cell_type": "code",
   "execution_count": 13,
   "metadata": {},
   "outputs": [],
   "source": [
    "rel_path = basedir_data + \"cifar-10-batches-py/\""
   ]
  },
  {
   "cell_type": "markdown",
   "metadata": {},
   "source": [
    "Deserialize image files"
   ]
  },
  {
   "cell_type": "code",
   "execution_count": 15,
   "metadata": {},
   "outputs": [],
   "source": [
    "def unpickle(file):\n",
    "    import pickle\n",
    "    with open(file, 'rb') as fo:\n",
    "        dict = pickle.load(fo, encoding='bytes')\n",
    "    return dict\n",
    "\n",
    "X = unpickle(rel_path + 'data_batch_1')\n",
    "img_data = X[b'data']\n",
    "img_label = X[b'labels']\n",
    "img_label = np.array(img_label).reshape(-1, 1)"
   ]
  },
  {
   "cell_type": "markdown",
   "metadata": {},
   "source": [
    "Now that our data and labels are loaded lets check the same"
   ]
  },
  {
   "cell_type": "code",
   "execution_count": 16,
   "metadata": {},
   "outputs": [
    {
     "name": "stdout",
     "output_type": "stream",
     "text": [
      "[[ 59  43  50 ... 140  84  72]\n",
      " [154 126 105 ... 139 142 144]\n",
      " [255 253 253 ...  83  83  84]\n",
      " ...\n",
      " [ 71  60  74 ...  68  69  68]\n",
      " [250 254 211 ... 215 255 254]\n",
      " [ 62  61  60 ... 130 130 131]]\n",
      "shape (10000, 3072)\n"
     ]
    }
   ],
   "source": [
    "print(img_data)\n",
    "print('shape', img_data.shape)"
   ]
  },
  {
   "cell_type": "markdown",
   "metadata": {},
   "source": [
    "There are 10k rows, hence 10k examples. Each example has 32 x 32 image which is 1024px. Each px has (r, g, b) value hence 3 x 1024 = 3072 values for one single image.\n",
    ">  a 10000x3072 numpy array of uint8s. Each row of the array stores a 32x32 colour image. The first 1024 entries contain the red channel values, the next 1024 the green, and the final 1024 the blue. The image is stored in row-major order, so that the first 32 entries of the array are the red channel values of the first row of the image."
   ]
  },
  {
   "cell_type": "markdown",
   "metadata": {},
   "source": [
    "---"
   ]
  },
  {
   "cell_type": "markdown",
   "metadata": {},
   "source": [
    "Now lets check the labels"
   ]
  },
  {
   "cell_type": "code",
   "execution_count": 17,
   "metadata": {},
   "outputs": [
    {
     "name": "stdout",
     "output_type": "stream",
     "text": [
      "[[6]\n",
      " [9]\n",
      " [9]\n",
      " ...\n",
      " [1]\n",
      " [1]\n",
      " [5]]\n",
      "shape (10000, 1)\n"
     ]
    }
   ],
   "source": [
    "print(img_label)\n",
    "print('shape', img_label.shape)"
   ]
  },
  {
   "cell_type": "markdown",
   "metadata": {},
   "source": [
    "Now we have the labels as 10000 x 1 matrix"
   ]
  },
  {
   "cell_type": "markdown",
   "metadata": {},
   "source": [
    "Now lets load the testing data."
   ]
  },
  {
   "cell_type": "code",
   "execution_count": 18,
   "metadata": {},
   "outputs": [],
   "source": [
    "test_X = unpickle(rel_path + 'test_batch');\n",
    "test_data = test_X[b'data']"
   ]
  },
  {
   "cell_type": "markdown",
   "metadata": {},
   "source": [
    "Check if the test data shape is same as training data shape"
   ]
  },
  {
   "cell_type": "code",
   "execution_count": 19,
   "metadata": {},
   "outputs": [
    {
     "name": "stdout",
     "output_type": "stream",
     "text": [
      "[[158 159 165 ... 124 129 110]\n",
      " [235 231 232 ... 178 191 199]\n",
      " [158 158 139 ...   8   3   7]\n",
      " ...\n",
      " [ 20  19  15 ...  50  53  47]\n",
      " [ 25  15  23 ...  80  81  80]\n",
      " [ 73  98  99 ...  94  58  26]]\n",
      "shape (10000, 3072)\n"
     ]
    }
   ],
   "source": [
    "print(test_data)\n",
    "print('shape', test_data.shape)"
   ]
  },
  {
   "cell_type": "markdown",
   "metadata": {},
   "source": [
    "Yes it's same. The number of cols in row the vectors are what we are checking."
   ]
  },
  {
   "cell_type": "markdown",
   "metadata": {},
   "source": [
    "---"
   ]
  },
  {
   "cell_type": "markdown",
   "metadata": {},
   "source": [
    "Lets sample first 5 images from the data and see what the image file contains"
   ]
  },
  {
   "cell_type": "code",
   "execution_count": 20,
   "metadata": {},
   "outputs": [
    {
     "name": "stdout",
     "output_type": "stream",
     "text": [
      "[[ 59  43  50 ... 140  84  72]\n",
      " [154 126 105 ... 139 142 144]\n",
      " [255 253 253 ...  83  83  84]\n",
      " ...\n",
      " [ 28  30  33 ... 100  99  96]\n",
      " [134 131 128 ... 136 137 138]\n",
      " [125 110 102 ...  82  84  86]]\n",
      "shape (10, 3072)\n"
     ]
    }
   ],
   "source": [
    "sample_img_data = img_data[0:10, :]\n",
    "print(sample_img_data)\n",
    "print('shape', sample_img_data.shape)"
   ]
  },
  {
   "cell_type": "markdown",
   "metadata": {},
   "source": [
    "Lets get the batch file so that image name can be displayed"
   ]
  },
  {
   "cell_type": "code",
   "execution_count": 21,
   "metadata": {},
   "outputs": [
    {
     "name": "stdout",
     "output_type": "stream",
     "text": [
      "[b'airplane', b'automobile', b'bird', b'cat', b'deer', b'dog', b'frog', b'horse', b'ship', b'truck']\n"
     ]
    }
   ],
   "source": [
    "batch = unpickle(rel_path + 'batches.meta');\n",
    "meta = batch[b'label_names']\n",
    "print(meta)"
   ]
  },
  {
   "cell_type": "markdown",
   "metadata": {},
   "source": [
    "Here is the procedure to show image"
   ]
  },
  {
   "cell_type": "code",
   "execution_count": 22,
   "metadata": {},
   "outputs": [],
   "source": [
    "# %load show_img.py\n",
    "from PIL import Image\n",
    "import numpy as np\n",
    "from IPython.display import display\n",
    "\n",
    "def show_img(img_arr, label_arr, meta, index):\n",
    "    \"\"\"\n",
    "        Given a numpy array of image from CIFAR-10 labels this method transform the data so that PIL can read and show\n",
    "        the image.\n",
    "        Check here how CIFAR encodes the image http://www.cs.toronto.edu/~kriz/cifar.html\n",
    "    \"\"\"\n",
    "    \n",
    "    one_img = img_arr[index, :]\n",
    "    # Assume image size is 32 x 32. First 1024 px is r, next 1024 px is g, last 1024 px is b from the (r,g b) channel\n",
    "    r = one_img[:1024].reshape(32, 32)\n",
    "    g = one_img[1024:2048].reshape(32, 32)\n",
    "    b = one_img[2048:]. reshape(32, 32)\n",
    "    rgb = np.dstack([r, g, b])\n",
    "    img = Image.fromarray(np.array(rgb), 'RGB')\n",
    "    display(img)\n",
    "    print(meta[label_arr[index][0]])"
   ]
  },
  {
   "cell_type": "code",
   "execution_count": 27,
   "metadata": {},
   "outputs": [
    {
     "ename": "SyntaxError",
     "evalue": "invalid syntax (<ipython-input-27-f57acf62069b>, line 2)",
     "output_type": "error",
     "traceback": [
      "\u001b[0;36m  File \u001b[0;32m\"<ipython-input-27-f57acf62069b>\"\u001b[0;36m, line \u001b[0;32m2\u001b[0m\n\u001b[0;31m    for i in range(0, 10)\u001b[0m\n\u001b[0m                         ^\u001b[0m\n\u001b[0;31mSyntaxError\u001b[0m\u001b[0;31m:\u001b[0m invalid syntax\n"
     ]
    }
   ],
   "source": [
    "import show_img as si\n",
    "for i in range(0, 10)\n",
    "    si.show_img(sample_img_data, img_label, meta, i)"
   ]
  },
  {
   "cell_type": "code",
   "execution_count": null,
   "metadata": {},
   "outputs": [],
   "source": []
  }
 ],
 "metadata": {
  "kernelspec": {
   "display_name": "Python 3",
   "language": "python",
   "name": "python3"
  },
  "language_info": {
   "codemirror_mode": {
    "name": "ipython",
    "version": 3
   },
   "file_extension": ".py",
   "mimetype": "text/x-python",
   "name": "python",
   "nbconvert_exporter": "python",
   "pygments_lexer": "ipython3",
   "version": "3.6.1"
  }
 },
 "nbformat": 4,
 "nbformat_minor": 2
}
