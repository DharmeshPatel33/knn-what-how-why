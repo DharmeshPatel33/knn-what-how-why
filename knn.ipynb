{
 "cells": [
  {
   "cell_type": "markdown",
   "metadata": {},
   "source": [
    "*Python Executables*"
   ]
  },
  {
   "cell_type": "code",
   "execution_count": 2,
   "metadata": {},
   "outputs": [
    {
     "data": {
      "text/plain": [
       "'/Library/Frameworks/Python.framework/Versions/3.6/bin/python3'"
      ]
     },
     "execution_count": 2,
     "metadata": {},
     "output_type": "execute_result"
    }
   ],
   "source": [
    "import sys\n",
    "sys.executable"
   ]
  },
  {
   "cell_type": "markdown",
   "metadata": {},
   "source": [
    "# K Nearest Neighbour"
   ]
  },
  {
   "cell_type": "code",
   "execution_count": 3,
   "metadata": {},
   "outputs": [],
   "source": [
    "import pandas as pd\n",
    "import numpy as np\n",
    "import random\n",
    "import math\n",
    "from vega3 import VegaLite"
   ]
  },
  {
   "cell_type": "markdown",
   "metadata": {},
   "source": [
    "## Prepare data"
   ]
  },
  {
   "cell_type": "markdown",
   "metadata": {},
   "source": [
    "We will write our logic to create custom dataset"
   ]
  },
  {
   "cell_type": "code",
   "execution_count": 4,
   "metadata": {},
   "outputs": [],
   "source": [
    "def gen_points(val_seed_xy=(80, 100), num_class=2, num_points=100, global_std=20):\n",
    "    # cluster center\n",
    "    centers = []\n",
    "    for i in range(num_class):\n",
    "        centers.append((val_seed_xy[0] * random.random(), val_seed_xy[1] * random.random()))\n",
    "    \n",
    "    # Points near centers\n",
    "    X = np.empty(shape=[0, 2])\n",
    "    y = np.empty(shape=[0, 1])\n",
    "    for i in range(num_points):\n",
    "        cls = num_class * random.random()\n",
    "        cls = math.floor(cls)\n",
    "        xcord = centers[cls][0] + global_std * random.random()\n",
    "        ycord = centers[cls][1] + global_std * random.random()\n",
    "        X = np.append(X, [[xcord, ycord]], axis=0)\n",
    "        y = np.append(y, [[cls]], axis=0)\n",
    "    \n",
    "    return (X, y)"
   ]
  },
  {
   "cell_type": "markdown",
   "metadata": {},
   "source": [
    "Here we have our own clusters of point. Now visualize it to check if the data which has been generated is according yo our expectation or not."
   ]
  },
  {
   "cell_type": "code",
   "execution_count": 5,
   "metadata": {},
   "outputs": [],
   "source": [
    "(X, y) = gen_points()"
   ]
  },
  {
   "cell_type": "markdown",
   "metadata": {},
   "source": [
    "Now that we have our data ready, lets make a dataframe so that we can visualize it"
   ]
  },
  {
   "cell_type": "code",
   "execution_count": 6,
   "metadata": {},
   "outputs": [
    {
     "data": {
      "text/html": [
       "<div>\n",
       "<style scoped>\n",
       "    .dataframe tbody tr th:only-of-type {\n",
       "        vertical-align: middle;\n",
       "    }\n",
       "\n",
       "    .dataframe tbody tr th {\n",
       "        vertical-align: top;\n",
       "    }\n",
       "\n",
       "    .dataframe thead th {\n",
       "        text-align: right;\n",
       "    }\n",
       "</style>\n",
       "<table border=\"1\" class=\"dataframe\">\n",
       "  <thead>\n",
       "    <tr style=\"text-align: right;\">\n",
       "      <th></th>\n",
       "      <th>x</th>\n",
       "      <th>y</th>\n",
       "      <th>c</th>\n",
       "    </tr>\n",
       "  </thead>\n",
       "  <tbody>\n",
       "    <tr>\n",
       "      <th>0</th>\n",
       "      <td>6.012789</td>\n",
       "      <td>36.682561</td>\n",
       "      <td>0.0</td>\n",
       "    </tr>\n",
       "    <tr>\n",
       "      <th>1</th>\n",
       "      <td>4.621433</td>\n",
       "      <td>24.872670</td>\n",
       "      <td>0.0</td>\n",
       "    </tr>\n",
       "    <tr>\n",
       "      <th>2</th>\n",
       "      <td>12.989805</td>\n",
       "      <td>30.921279</td>\n",
       "      <td>0.0</td>\n",
       "    </tr>\n",
       "    <tr>\n",
       "      <th>3</th>\n",
       "      <td>79.724627</td>\n",
       "      <td>92.285949</td>\n",
       "      <td>1.0</td>\n",
       "    </tr>\n",
       "    <tr>\n",
       "      <th>4</th>\n",
       "      <td>4.348770</td>\n",
       "      <td>29.395971</td>\n",
       "      <td>0.0</td>\n",
       "    </tr>\n",
       "  </tbody>\n",
       "</table>\n",
       "</div>"
      ],
      "text/plain": [
       "           x          y    c\n",
       "0   6.012789  36.682561  0.0\n",
       "1   4.621433  24.872670  0.0\n",
       "2  12.989805  30.921279  0.0\n",
       "3  79.724627  92.285949  1.0\n",
       "4   4.348770  29.395971  0.0"
      ]
     },
     "execution_count": 6,
     "metadata": {},
     "output_type": "execute_result"
    }
   ],
   "source": [
    "columns = [\"x\", \"y\", \"c\"]\n",
    "mat = np.hstack((X, y))\n",
    "df = pd.DataFrame(mat, columns=columns)\n",
    "df.head()"
   ]
  },
  {
   "cell_type": "markdown",
   "metadata": {},
   "source": [
    "Now lets visualize it"
   ]
  },
  {
   "cell_type": "code",
   "execution_count": 7,
   "metadata": {},
   "outputs": [
    {
     "data": {
      "text/html": [
       "<div class=\"vega-embed\" id=\"5b1a2be5-3bb2-4e57-811e-2b6bcd9683ed\"></div>\n",
       "\n",
       "<style>\n",
       ".vega-embed svg, .vega-embed canvas {\n",
       "  border: 1px dotted gray;\n",
       "}\n",
       "\n",
       ".vega-embed .vega-actions a {\n",
       "  margin-right: 6px;\n",
       "}\n",
       "</style>\n"
      ]
     },
     "metadata": {
      "jupyter-vega3": "#5b1a2be5-3bb2-4e57-811e-2b6bcd9683ed"
     },
     "output_type": "display_data"
    },
    {
     "data": {
      "application/javascript": [
       "var spec = {\"mark\": {\"type\": \"point\", \"filled\": \"true\"}, \"encoding\": {\"y\": {\"type\": \"quantitative\", \"field\": \"y\", \"scale\": {\"domain\": [13.686759159006872, 119.61921568555015]}}, \"x\": {\"type\": \"quantitative\", \"field\": \"x\", \"scale\": {\"domain\": [-5.65122990077117, 91.36271143016056]}}, \"color\": {\"type\": \"nominal\", \"field\": \"c\"}}, \"data\": {\"values\": [{\"x\": 6.0127888202366115, \"y\": 36.682560952144186, \"c\": 0.0}, {\"x\": 4.621432885406649, \"y\": 24.87266952316711, \"c\": 0.0}, {\"x\": 12.989805292128864, \"y\": 30.921278504798867, \"c\": 0.0}, {\"x\": 79.72462682292152, \"y\": 92.28594943953722, \"c\": 1.0}, {\"x\": 4.34877009922883, \"y\": 29.395971276155766, \"c\": 0.0}, {\"x\": 68.36850197217402, \"y\": 106.06909299719725, \"c\": 1.0}, {\"x\": 75.7480371290534, \"y\": 99.30303065131007, \"c\": 1.0}, {\"x\": 65.88199827568357, \"y\": 96.56154093653791, \"c\": 1.0}, {\"x\": 81.36271143016056, \"y\": 99.8127218918504, \"c\": 1.0}, {\"x\": 74.86135090713867, \"y\": 92.32486904793424, \"c\": 1.0}, {\"x\": 11.211821046821168, \"y\": 30.378809409162436, \"c\": 0.0}, {\"x\": 19.986033055556124, \"y\": 43.01541355215423, \"c\": 0.0}, {\"x\": 66.74233151240527, \"y\": 105.3159264871445, \"c\": 1.0}, {\"x\": 20.674695214809095, \"y\": 33.7787793837618, \"c\": 0.0}, {\"x\": 8.543355022368551, \"y\": 24.807107818859294, \"c\": 0.0}, {\"x\": 15.843683832806656, \"y\": 24.864080186612412, \"c\": 0.0}, {\"x\": 21.255122710536988, \"y\": 24.180007835334507, \"c\": 0.0}, {\"x\": 74.66031942425117, \"y\": 96.55408568323082, \"c\": 1.0}, {\"x\": 62.28776860755989, \"y\": 104.67429230112528, \"c\": 1.0}, {\"x\": 65.03102941402888, \"y\": 101.53923736444598, \"c\": 1.0}, {\"x\": 13.858360765799674, \"y\": 34.30991500553279, \"c\": 0.0}, {\"x\": 79.77552484623676, \"y\": 96.30146619190782, \"c\": 1.0}, {\"x\": 13.90054144657305, \"y\": 36.7214049020645, \"c\": 0.0}, {\"x\": 79.95851971356944, \"y\": 96.3838015486881, \"c\": 1.0}, {\"x\": 16.229949825674517, \"y\": 41.373259418955556, \"c\": 0.0}, {\"x\": 14.7358665344113, \"y\": 25.69556083324958, \"c\": 0.0}, {\"x\": 20.061104963007317, \"y\": 35.94911217126142, \"c\": 0.0}, {\"x\": 79.1611430115855, \"y\": 106.31571742781814, \"c\": 1.0}, {\"x\": 16.040782226396637, \"y\": 43.1579118958919, \"c\": 0.0}, {\"x\": 19.46690876044506, \"y\": 28.796024081304584, \"c\": 0.0}, {\"x\": 21.02243773885911, \"y\": 29.335130879894756, \"c\": 0.0}, {\"x\": 72.2608662770644, \"y\": 95.65086603292421, \"c\": 1.0}, {\"x\": 78.0258774523141, \"y\": 90.38146195590049, \"c\": 1.0}, {\"x\": 22.253642152658777, \"y\": 38.69377529424911, \"c\": 0.0}, {\"x\": 5.246614152050624, \"y\": 34.13940555602979, \"c\": 0.0}, {\"x\": 7.338828056619125, \"y\": 36.82544814846665, \"c\": 0.0}, {\"x\": 66.0417655442065, \"y\": 109.57128061040667, \"c\": 1.0}, {\"x\": 4.787159913206711, \"y\": 37.88013016551976, \"c\": 0.0}, {\"x\": 19.660388776766933, \"y\": 29.90172617118983, \"c\": 0.0}, {\"x\": 15.747398475058311, \"y\": 27.128556779851927, \"c\": 0.0}, {\"x\": 18.019510752462438, \"y\": 40.5346764553449, \"c\": 0.0}, {\"x\": 77.07550213868328, \"y\": 107.14803768678041, \"c\": 1.0}, {\"x\": 11.104638829799153, \"y\": 36.59071763444885, \"c\": 0.0}, {\"x\": 73.42025273908658, \"y\": 96.26266618525767, \"c\": 1.0}, {\"x\": 70.14493225494039, \"y\": 91.00956462690334, \"c\": 1.0}, {\"x\": 63.98008630579798, \"y\": 96.81169697540979, \"c\": 1.0}, {\"x\": 17.244565877158124, \"y\": 30.425708582912957, \"c\": 0.0}, {\"x\": 9.155933314285438, \"y\": 25.43548794243639, \"c\": 0.0}, {\"x\": 74.2299466369732, \"y\": 107.06527604124238, \"c\": 1.0}, {\"x\": 62.76192686213708, \"y\": 109.61921568555015, \"c\": 1.0}, {\"x\": 69.86939609327133, \"y\": 99.38422473585227, \"c\": 1.0}, {\"x\": 14.61589898123499, \"y\": 28.45188499015206, \"c\": 0.0}, {\"x\": 79.92652180651582, \"y\": 95.98746652298844, \"c\": 1.0}, {\"x\": 76.55564585520496, \"y\": 94.9081121335797, \"c\": 1.0}, {\"x\": 8.695463987584954, \"y\": 23.686759159006872, \"c\": 0.0}, {\"x\": 78.08570390509043, \"y\": 98.24478702768343, \"c\": 1.0}, {\"x\": 73.84559727117995, \"y\": 94.00578849147368, \"c\": 1.0}, {\"x\": 19.025933015449965, \"y\": 27.137512784663762, \"c\": 0.0}, {\"x\": 74.30241867980595, \"y\": 98.84181640545374, \"c\": 1.0}, {\"x\": 13.748222591358239, \"y\": 31.41032237400195, \"c\": 0.0}, {\"x\": 8.202785559572089, \"y\": 26.773238047577752, \"c\": 0.0}, {\"x\": 9.533325415435005, \"y\": 29.780867764303615, \"c\": 0.0}, {\"x\": 16.006455478316738, \"y\": 36.468723644123706, \"c\": 0.0}, {\"x\": 15.19590293613586, \"y\": 23.860474892476255, \"c\": 0.0}, {\"x\": 23.01675121294835, \"y\": 27.92565048257814, \"c\": 0.0}, {\"x\": 21.686264186333986, \"y\": 38.10802201684425, \"c\": 0.0}, {\"x\": 73.88277485913488, \"y\": 108.07096148080328, \"c\": 1.0}, {\"x\": 23.1509136588953, \"y\": 26.88413143497348, \"c\": 0.0}, {\"x\": 66.5046471446867, \"y\": 108.58152752341978, \"c\": 1.0}, {\"x\": 70.58541117327445, \"y\": 91.21037213767956, \"c\": 1.0}, {\"x\": 10.349871746381575, \"y\": 42.19821253670101, \"c\": 0.0}, {\"x\": 11.805516498757152, \"y\": 42.088383404409186, \"c\": 0.0}, {\"x\": 17.79771276410628, \"y\": 27.039257537831688, \"c\": 0.0}, {\"x\": 79.86850244324555, \"y\": 105.49274123607893, \"c\": 1.0}, {\"x\": 62.73949977997914, \"y\": 96.79186496517788, \"c\": 1.0}, {\"x\": 6.943837664928234, \"y\": 32.269176385085814, \"c\": 0.0}, {\"x\": 8.608359012433526, \"y\": 27.821782300697944, \"c\": 0.0}, {\"x\": 23.111258554030037, \"y\": 30.858977519153328, \"c\": 0.0}, {\"x\": 72.22395576397467, \"y\": 104.05218991977777, \"c\": 1.0}, {\"x\": 67.59317097683476, \"y\": 109.37793806008614, \"c\": 1.0}, {\"x\": 5.314386313399703, \"y\": 42.05614592452753, \"c\": 0.0}, {\"x\": 13.220196202226177, \"y\": 34.729216741394694, \"c\": 0.0}, {\"x\": 64.79583782875252, \"y\": 97.45407943230923, \"c\": 1.0}, {\"x\": 71.37330063958699, \"y\": 100.7740238081239, \"c\": 1.0}, {\"x\": 61.553581668601836, \"y\": 107.49935067595844, \"c\": 1.0}, {\"x\": 80.8053921881201, \"y\": 106.3187159591195, \"c\": 1.0}, {\"x\": 5.8856406625824835, \"y\": 38.243430249255965, \"c\": 0.0}, {\"x\": 74.51819218433606, \"y\": 105.08741512919394, \"c\": 1.0}, {\"x\": 75.88378047838249, \"y\": 107.93195893961132, \"c\": 1.0}, {\"x\": 70.11825587886742, \"y\": 91.28083952028942, \"c\": 1.0}, {\"x\": 10.407646153770093, \"y\": 41.24853153465088, \"c\": 0.0}, {\"x\": 74.8975508757726, \"y\": 105.93779263448178, \"c\": 1.0}, {\"x\": 15.11794023458432, \"y\": 41.42192998376982, \"c\": 0.0}, {\"x\": 67.53017509877165, \"y\": 109.01203914478558, \"c\": 1.0}, {\"x\": 61.89266810123039, \"y\": 101.2178012399319, \"c\": 1.0}, {\"x\": 70.6284542820604, \"y\": 98.58394106299065, \"c\": 1.0}, {\"x\": 7.031539397773427, \"y\": 23.709874480603784, \"c\": 0.0}, {\"x\": 68.07324798952257, \"y\": 90.51524672922712, \"c\": 1.0}, {\"x\": 5.509844842966216, \"y\": 24.40674134387976, \"c\": 0.0}, {\"x\": 78.8475928278987, \"y\": 92.38406102336003, \"c\": 1.0}]}};\n",
       "var selector = \"#5b1a2be5-3bb2-4e57-811e-2b6bcd9683ed\";\n",
       "var type = \"vega-lite\";\n",
       "\n",
       "var output_area = this;\n",
       "require(['nbextensions/jupyter-vega3/index'], function(vega) {\n",
       "  vega.render(selector, spec, type, output_area);\n",
       "}, function (err) {\n",
       "  if (err.requireType !== 'scripterror') {\n",
       "    throw(err);\n",
       "  }\n",
       "});\n"
      ]
     },
     "metadata": {
      "jupyter-vega3": "#5b1a2be5-3bb2-4e57-811e-2b6bcd9683ed"
     },
     "output_type": "display_data"
    },
    {
     "data": {
      "image/png": "[encoded data removed]"
     },
     "metadata": {
      "jupyter-vega3": "#5b1a2be5-3bb2-4e57-811e-2b6bcd9683ed"
     },
     "output_type": "display_data"
    }
   ],
   "source": [
    "VegaLite({\n",
    "    \"mark\": { \"type\": \"point\", \"filled\": \"true\" },\n",
    "    \"encoding\": {\n",
    "        \"y\": { \n",
    "            \"type\": \"quantitative\",\n",
    "            \"field\": \"y\",\n",
    "            \"scale\": { \n",
    "                \"domain\": [df['y'].min() - 10, df['y'].max() + 10]\n",
    "            } \n",
    "        },\n",
    "        \"x\": { \n",
    "            \"type\": \"quantitative\", \n",
    "            \"field\": \"x\", \n",
    "            \"scale\": { \n",
    "                \"domain\": [df['x'].min() - 10, df['x'].max() + 10]\n",
    "            } \n",
    "        },\n",
    "        \"color\": { \"type\": \"nominal\", \"field\": \"c\" }\n",
    "    }\n",
    "}, df)"
   ]
  },
  {
   "cell_type": "markdown",
   "metadata": {},
   "source": [
    "Looks like we can apply clear classification with this dataset."
   ]
  },
  {
   "cell_type": "markdown",
   "metadata": {},
   "source": [
    "*You can optionally save the dataset if you want*"
   ]
  },
  {
   "cell_type": "code",
   "execution_count": 8,
   "metadata": {},
   "outputs": [],
   "source": [
    "df.to_csv('gen-data.csv')"
   ]
  },
  {
   "cell_type": "markdown",
   "metadata": {},
   "source": [
    "## Algorithm"
   ]
  }
 ],
 "metadata": {
  "kernelspec": {
   "display_name": "Python 3",
   "language": "python",
   "name": "python3"
  },
  "language_info": {
   "codemirror_mode": {
    "name": "ipython",
    "version": 3
   },
   "file_extension": ".py",
   "mimetype": "text/x-python",
   "name": "python",
   "nbconvert_exporter": "python",
   "pygments_lexer": "ipython3",
   "version": "3.6.1"
  }
 },
 "nbformat": 4,
 "nbformat_minor": 2
}
