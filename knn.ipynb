{
 "cells": [
  {
   "cell_type": "markdown",
   "metadata": {},
   "source": [
    "*Python Executables*"
   ]
  },
  {
   "cell_type": "code",
   "execution_count": 1,
   "metadata": {},
   "outputs": [
    {
     "data": {
      "text/plain": [
       "'/Library/Frameworks/Python.framework/Versions/3.6/bin/python3'"
      ]
     },
     "execution_count": 1,
     "metadata": {},
     "output_type": "execute_result"
    }
   ],
   "source": [
    "import sys\n",
    "sys.executable"
   ]
  },
  {
   "cell_type": "markdown",
   "metadata": {},
   "source": [
    "# K Nearest Neighbour"
   ]
  },
  {
   "cell_type": "code",
   "execution_count": 2,
   "metadata": {},
   "outputs": [],
   "source": [
    "import pandas as pd\n",
    "import numpy as np\n",
    "from vega3 import VegaLite"
   ]
  },
  {
   "cell_type": "markdown",
   "metadata": {},
   "source": [
    "## Prepare data"
   ]
  },
  {
   "cell_type": "markdown",
   "metadata": {},
   "source": [
    "Here is the logic to generate our own clustered dataset. This is fairly simple. First the logic creates cluster center randomly. Then it generates points with a given standard deviation"
   ]
  },
  {
   "cell_type": "code",
   "execution_count": 3,
   "metadata": {},
   "outputs": [],
   "source": [
    "# %load gen_points.py\n",
    "import numpy as np\n",
    "import random\n",
    "import math\n",
    "\n",
    "def gen_points(val_seed_xy=(80, 100), num_class=2, num_points=100, global_std=20):\n",
    "    # cluster center\n",
    "    centers = []\n",
    "    for i in range(num_class):\n",
    "        centers.append((val_seed_xy[0] * random.random(), val_seed_xy[1] * random.random()))\n",
    "    \n",
    "    # Points near centers\n",
    "    X = np.empty(shape=[0, 2])\n",
    "    y = np.empty(shape=[0, 1])\n",
    "    for i in range(num_points):\n",
    "        cls = num_class * random.random()\n",
    "        cls = math.floor(cls)\n",
    "        xcord = centers[cls][0] + global_std * random.random()\n",
    "        ycord = centers[cls][1] + global_std * random.random()\n",
    "        X = np.append(X, [[xcord, ycord]], axis=0)\n",
    "        y = np.append(y, [[cls]], axis=0)\n",
    "    \n",
    "    return (X, y)"
   ]
  },
  {
   "cell_type": "markdown",
   "metadata": {},
   "source": [
    "Here we have our own clusters of point. Now visualize it to check if the data which has been generated is according yo our expectation or not."
   ]
  },
  {
   "cell_type": "code",
   "execution_count": 4,
   "metadata": {},
   "outputs": [],
   "source": [
    "(X, y) = gen_points()"
   ]
  },
  {
   "cell_type": "markdown",
   "metadata": {},
   "source": [
    "Now that we have our data ready, lets make a dataframe so that we can visualize it"
   ]
  },
  {
   "cell_type": "code",
   "execution_count": 5,
   "metadata": {},
   "outputs": [
    {
     "data": {
      "text/html": [
       "<div>\n",
       "<style scoped>\n",
       "    .dataframe tbody tr th:only-of-type {\n",
       "        vertical-align: middle;\n",
       "    }\n",
       "\n",
       "    .dataframe tbody tr th {\n",
       "        vertical-align: top;\n",
       "    }\n",
       "\n",
       "    .dataframe thead th {\n",
       "        text-align: right;\n",
       "    }\n",
       "</style>\n",
       "<table border=\"1\" class=\"dataframe\">\n",
       "  <thead>\n",
       "    <tr style=\"text-align: right;\">\n",
       "      <th></th>\n",
       "      <th>x</th>\n",
       "      <th>y</th>\n",
       "      <th>c</th>\n",
       "    </tr>\n",
       "  </thead>\n",
       "  <tbody>\n",
       "    <tr>\n",
       "      <th>0</th>\n",
       "      <td>60.269454</td>\n",
       "      <td>14.922161</td>\n",
       "      <td>0.0</td>\n",
       "    </tr>\n",
       "    <tr>\n",
       "      <th>1</th>\n",
       "      <td>57.801170</td>\n",
       "      <td>28.757373</td>\n",
       "      <td>0.0</td>\n",
       "    </tr>\n",
       "    <tr>\n",
       "      <th>2</th>\n",
       "      <td>78.436855</td>\n",
       "      <td>99.570628</td>\n",
       "      <td>1.0</td>\n",
       "    </tr>\n",
       "    <tr>\n",
       "      <th>3</th>\n",
       "      <td>50.308671</td>\n",
       "      <td>15.453435</td>\n",
       "      <td>0.0</td>\n",
       "    </tr>\n",
       "    <tr>\n",
       "      <th>4</th>\n",
       "      <td>88.598216</td>\n",
       "      <td>99.910545</td>\n",
       "      <td>1.0</td>\n",
       "    </tr>\n",
       "  </tbody>\n",
       "</table>\n",
       "</div>"
      ],
      "text/plain": [
       "           x          y    c\n",
       "0  60.269454  14.922161  0.0\n",
       "1  57.801170  28.757373  0.0\n",
       "2  78.436855  99.570628  1.0\n",
       "3  50.308671  15.453435  0.0\n",
       "4  88.598216  99.910545  1.0"
      ]
     },
     "execution_count": 5,
     "metadata": {},
     "output_type": "execute_result"
    }
   ],
   "source": [
    "columns = [\"x\", \"y\", \"c\"]\n",
    "mat = np.hstack((X, y))\n",
    "df = pd.DataFrame(mat, columns=columns)\n",
    "df.head()"
   ]
  },
  {
   "cell_type": "markdown",
   "metadata": {},
   "source": [
    "Now lets visualize it"
   ]
  },
  {
   "cell_type": "code",
   "execution_count": 6,
   "metadata": {},
   "outputs": [
    {
     "data": {
      "text/html": [
       "<div class=\"vega-embed\" id=\"f9f2707e-69c0-4e05-918f-6afcecf37fd6\"></div>\n",
       "\n",
       "<style>\n",
       ".vega-embed svg, .vega-embed canvas {\n",
       "  border: 1px dotted gray;\n",
       "}\n",
       "\n",
       ".vega-embed .vega-actions a {\n",
       "  margin-right: 6px;\n",
       "}\n",
       "</style>\n"
      ]
     },
     "metadata": {
      "jupyter-vega3": "#f9f2707e-69c0-4e05-918f-6afcecf37fd6"
     },
     "output_type": "display_data"
    },
    {
     "data": {
      "application/javascript": [
       "var spec = {\"mark\": {\"type\": \"point\", \"filled\": \"true\"}, \"encoding\": {\"y\": {\"type\": \"quantitative\", \"field\": \"y\", \"scale\": {\"domain\": [0.7762752937454689, 116.95052383826041]}}, \"x\": {\"type\": \"quantitative\", \"field\": \"x\", \"scale\": {\"domain\": [34.61281956344021, 101.37215239370117]}}, \"color\": {\"type\": \"nominal\", \"field\": \"c\"}}, \"data\": {\"values\": [{\"x\": 60.26945422070871, \"y\": 14.922161038107662, \"c\": 0.0}, {\"x\": 57.80117028734617, \"y\": 28.757373406604987, \"c\": 0.0}, {\"x\": 78.43685540471945, \"y\": 99.57062807261423, \"c\": 1.0}, {\"x\": 50.30867126395411, \"y\": 15.453435209758787, \"c\": 0.0}, {\"x\": 88.59821561399679, \"y\": 99.91054458667273, \"c\": 1.0}, {\"x\": 81.31349519387803, \"y\": 103.3569797000623, \"c\": 1.0}, {\"x\": 53.72797363595487, \"y\": 22.041959942697346, \"c\": 0.0}, {\"x\": 52.23712915283448, \"y\": 21.163599195793058, \"c\": 0.0}, {\"x\": 51.38553193078205, \"y\": 12.895575138146604, \"c\": 0.0}, {\"x\": 79.34971805547976, \"y\": 95.39111246237627, \"c\": 1.0}, {\"x\": 89.57668200398825, \"y\": 106.95052383826041, \"c\": 1.0}, {\"x\": 61.98105423264079, \"y\": 26.66852113775364, \"c\": 0.0}, {\"x\": 55.19464087283586, \"y\": 10.83489557692018, \"c\": 0.0}, {\"x\": 78.38167061537986, \"y\": 91.42438806204581, \"c\": 1.0}, {\"x\": 54.65976472495009, \"y\": 19.864389209202244, \"c\": 0.0}, {\"x\": 82.1937750674906, \"y\": 97.67388954427105, \"c\": 1.0}, {\"x\": 81.11470477736299, \"y\": 92.55466364264527, \"c\": 1.0}, {\"x\": 82.57154091541946, \"y\": 100.22619309061304, \"c\": 1.0}, {\"x\": 60.60576889959851, \"y\": 15.103542039358086, \"c\": 0.0}, {\"x\": 63.66460221765945, \"y\": 29.500479223570665, \"c\": 0.0}, {\"x\": 79.32417131915061, \"y\": 105.14736836673373, \"c\": 1.0}, {\"x\": 50.88032766498549, \"y\": 14.846754756216642, \"c\": 0.0}, {\"x\": 62.464712768845615, \"y\": 14.261338496640299, \"c\": 0.0}, {\"x\": 54.76747091556984, \"y\": 28.471420477647364, \"c\": 0.0}, {\"x\": 71.58743115519853, \"y\": 100.4854606933483, \"c\": 1.0}, {\"x\": 84.06219785361748, \"y\": 97.54576178709242, \"c\": 1.0}, {\"x\": 75.75613939968571, \"y\": 105.29624887916775, \"c\": 1.0}, {\"x\": 58.9610852898427, \"y\": 17.025461865072465, \"c\": 0.0}, {\"x\": 81.72892942337418, \"y\": 87.09851658854906, \"c\": 1.0}, {\"x\": 76.68537865179272, \"y\": 95.58052851780013, \"c\": 1.0}, {\"x\": 60.60097028203886, \"y\": 20.937890492537072, \"c\": 0.0}, {\"x\": 62.052762265051264, \"y\": 16.23895395417432, \"c\": 0.0}, {\"x\": 62.39326755816626, \"y\": 27.126843356655105, \"c\": 0.0}, {\"x\": 56.897850807566876, \"y\": 12.029566683820278, \"c\": 0.0}, {\"x\": 85.93863487560866, \"y\": 88.37670068156437, \"c\": 1.0}, {\"x\": 78.15359959485167, \"y\": 101.95228616946221, \"c\": 1.0}, {\"x\": 51.551198033909614, \"y\": 15.573406884103111, \"c\": 0.0}, {\"x\": 53.521043508151095, \"y\": 21.998988653585904, \"c\": 0.0}, {\"x\": 81.9790257321152, \"y\": 93.56926941153482, \"c\": 1.0}, {\"x\": 73.72583475730947, \"y\": 102.71581044819703, \"c\": 1.0}, {\"x\": 74.70414609158561, \"y\": 88.79682832116416, \"c\": 1.0}, {\"x\": 59.00051454583965, \"y\": 29.592510190411765, \"c\": 0.0}, {\"x\": 78.81185935883897, \"y\": 97.38898845507336, \"c\": 1.0}, {\"x\": 63.831116339613224, \"y\": 12.080648389501347, \"c\": 0.0}, {\"x\": 81.44207469039569, \"y\": 92.59292275795127, \"c\": 1.0}, {\"x\": 78.43537304512098, \"y\": 96.59863658605191, \"c\": 1.0}, {\"x\": 52.565246571127815, \"y\": 10.776275293745469, \"c\": 0.0}, {\"x\": 79.06310801534785, \"y\": 103.52655258458182, \"c\": 1.0}, {\"x\": 79.67725429841576, \"y\": 101.14840164183316, \"c\": 1.0}, {\"x\": 54.89078846247804, \"y\": 19.73578808964161, \"c\": 0.0}, {\"x\": 78.48564408572719, \"y\": 97.49180089557817, \"c\": 1.0}, {\"x\": 83.25177193131226, \"y\": 96.99406691930696, \"c\": 1.0}, {\"x\": 55.484844276908184, \"y\": 24.01945283390403, \"c\": 0.0}, {\"x\": 46.89580655152501, \"y\": 25.913118886671768, \"c\": 0.0}, {\"x\": 91.37215239370117, \"y\": 98.85377277241854, \"c\": 1.0}, {\"x\": 54.72856959150564, \"y\": 11.51396592801931, \"c\": 0.0}, {\"x\": 63.1284628569514, \"y\": 15.89495527866949, \"c\": 0.0}, {\"x\": 78.7101412350688, \"y\": 103.90438279892773, \"c\": 1.0}, {\"x\": 57.61927109156639, \"y\": 25.18582688827186, \"c\": 0.0}, {\"x\": 49.38899067793759, \"y\": 11.746879880869296, \"c\": 0.0}, {\"x\": 53.09673330489719, \"y\": 23.64915498635351, \"c\": 0.0}, {\"x\": 72.89112598681349, \"y\": 103.90860861563975, \"c\": 1.0}, {\"x\": 60.65007235431694, \"y\": 17.121343714302736, \"c\": 0.0}, {\"x\": 81.52333813521767, \"y\": 100.03702390811355, \"c\": 1.0}, {\"x\": 80.06983079122628, \"y\": 95.01668104676027, \"c\": 1.0}, {\"x\": 77.84001104267566, \"y\": 103.47422745838058, \"c\": 1.0}, {\"x\": 55.84319156777199, \"y\": 13.475431894090843, \"c\": 0.0}, {\"x\": 57.45042851787771, \"y\": 13.902365457176089, \"c\": 0.0}, {\"x\": 63.624535763170734, \"y\": 22.468799449536423, \"c\": 0.0}, {\"x\": 74.65764325285423, \"y\": 92.88719488547893, \"c\": 1.0}, {\"x\": 89.6873497417131, \"y\": 92.7229809490498, \"c\": 1.0}, {\"x\": 81.16875734656631, \"y\": 96.54065380988102, \"c\": 1.0}, {\"x\": 79.57996765655312, \"y\": 98.62794162495162, \"c\": 1.0}, {\"x\": 59.0357135027158, \"y\": 21.753940696946323, \"c\": 0.0}, {\"x\": 84.98432069196139, \"y\": 102.67924511644269, \"c\": 1.0}, {\"x\": 53.977564692133114, \"y\": 26.675024499061966, \"c\": 0.0}, {\"x\": 50.01306702534755, \"y\": 30.492129369680804, \"c\": 0.0}, {\"x\": 83.61430363254607, \"y\": 95.4576440296353, \"c\": 1.0}, {\"x\": 50.54600453085725, \"y\": 27.512812148856923, \"c\": 0.0}, {\"x\": 45.14836617292627, \"y\": 27.43944339317191, \"c\": 0.0}, {\"x\": 44.61281956344021, \"y\": 11.766605460239788, \"c\": 0.0}, {\"x\": 80.44802816431891, \"y\": 98.43269316722528, \"c\": 1.0}, {\"x\": 47.716787843636254, \"y\": 20.7952943717247, \"c\": 0.0}, {\"x\": 89.60721653439099, \"y\": 101.37600966677094, \"c\": 1.0}, {\"x\": 72.60377436729478, \"y\": 89.20297896981775, \"c\": 1.0}, {\"x\": 84.08194270092433, \"y\": 101.99497016530049, \"c\": 1.0}, {\"x\": 63.77740225168317, \"y\": 20.348281154267816, \"c\": 0.0}, {\"x\": 79.4565525677694, \"y\": 106.19660269010858, \"c\": 1.0}, {\"x\": 76.75506609821278, \"y\": 105.79494132446406, \"c\": 1.0}, {\"x\": 79.061713664306, \"y\": 92.48344641408447, \"c\": 1.0}, {\"x\": 86.11493563580618, \"y\": 88.43493138358711, \"c\": 1.0}, {\"x\": 52.073614461188924, \"y\": 25.016400920471973, \"c\": 0.0}, {\"x\": 80.55895923737215, \"y\": 95.65040322393415, \"c\": 1.0}, {\"x\": 76.46500683327788, \"y\": 88.83940455607126, \"c\": 1.0}, {\"x\": 73.88122395636418, \"y\": 98.91886101477726, \"c\": 1.0}, {\"x\": 59.24479425395707, \"y\": 13.680657425341103, \"c\": 0.0}, {\"x\": 60.15301242310838, \"y\": 11.848645189098692, \"c\": 0.0}, {\"x\": 77.33883080650739, \"y\": 97.51606856437583, \"c\": 1.0}, {\"x\": 77.97128853375531, \"y\": 99.89285085821534, \"c\": 1.0}, {\"x\": 51.928354825583384, \"y\": 18.515533722602903, \"c\": 0.0}]}};\n",
       "var selector = \"#f9f2707e-69c0-4e05-918f-6afcecf37fd6\";\n",
       "var type = \"vega-lite\";\n",
       "\n",
       "var output_area = this;\n",
       "require(['nbextensions/jupyter-vega3/index'], function(vega) {\n",
       "  vega.render(selector, spec, type, output_area);\n",
       "}, function (err) {\n",
       "  if (err.requireType !== 'scripterror') {\n",
       "    throw(err);\n",
       "  }\n",
       "});\n"
      ]
     },
     "metadata": {
      "jupyter-vega3": "#f9f2707e-69c0-4e05-918f-6afcecf37fd6"
     },
     "output_type": "display_data"
    },
    {
     "data": {
      "image/png": "[encoded data removed]"
     },
     "metadata": {
      "jupyter-vega3": "#f9f2707e-69c0-4e05-918f-6afcecf37fd6"
     },
     "output_type": "display_data"
    }
   ],
   "source": [
    "VegaLite({\n",
    "    \"mark\": { \"type\": \"point\", \"filled\": \"true\" },\n",
    "    \"encoding\": {\n",
    "        \"y\": { \n",
    "            \"type\": \"quantitative\",\n",
    "            \"field\": \"y\",\n",
    "            \"scale\": { \n",
    "                \"domain\": [df['y'].min() - 10, df['y'].max() + 10]\n",
    "            } \n",
    "        },\n",
    "        \"x\": { \n",
    "            \"type\": \"quantitative\", \n",
    "            \"field\": \"x\", \n",
    "            \"scale\": { \n",
    "                \"domain\": [df['x'].min() - 10, df['x'].max() + 10]\n",
    "            } \n",
    "        },\n",
    "        \"color\": { \"type\": \"nominal\", \"field\": \"c\" }\n",
    "    }\n",
    "}, df)"
   ]
  },
  {
   "cell_type": "markdown",
   "metadata": {},
   "source": [
    "Looks like we can apply clear classification with this dataset."
   ]
  },
  {
   "cell_type": "markdown",
   "metadata": {},
   "source": [
    "*You can optionally save the dataset if you want*"
   ]
  },
  {
   "cell_type": "code",
   "execution_count": 9,
   "metadata": {},
   "outputs": [],
   "source": [
    "df.to_csv('gen-data.csv', index=False)"
   ]
  },
  {
   "cell_type": "markdown",
   "metadata": {},
   "source": [
    "## Algorithm"
   ]
  },
  {
   "cell_type": "markdown",
   "metadata": {},
   "source": [
    "The algorithm is pretty simple. The visual illustration of the algorithm is here [link goes here]"
   ]
  },
  {
   "cell_type": "code",
   "execution_count": null,
   "metadata": {},
   "outputs": [],
   "source": [
    "%load knn"
   ]
  },
  {
   "cell_type": "markdown",
   "metadata": {},
   "source": [
    "Now that our KNN algorithm is ready. Lets use it with our existing dataset"
   ]
  },
  {
   "cell_type": "code",
   "execution_count": 8,
   "metadata": {},
   "outputs": [
    {
     "data": {
      "text/plain": [
       "array([1., 0.])"
      ]
     },
     "execution_count": 8,
     "metadata": {},
     "output_type": "execute_result"
    }
   ],
   "source": [
    "import knn_algo as knnalgo\n",
    "knn = knnalgo.KNN(3) # 3 Nearest neighbour\n",
    "knn.train(X, y)\n",
    "knn.predict(np.array([[10, 100], [10, 10]]))"
   ]
  },
  {
   "cell_type": "markdown",
   "metadata": {},
   "source": [
    "Its classifying our data correctly."
   ]
  },
  {
   "cell_type": "code",
   "execution_count": null,
   "metadata": {},
   "outputs": [],
   "source": []
  }
 ],
 "metadata": {
  "kernelspec": {
   "display_name": "Python 3",
   "language": "python",
   "name": "python3"
  },
  "language_info": {
   "codemirror_mode": {
    "name": "ipython",
    "version": 3
   },
   "file_extension": ".py",
   "mimetype": "text/x-python",
   "name": "python",
   "nbconvert_exporter": "python",
   "pygments_lexer": "ipython3",
   "version": "3.6.1"
  }
 },
 "nbformat": 4,
 "nbformat_minor": 2
}
