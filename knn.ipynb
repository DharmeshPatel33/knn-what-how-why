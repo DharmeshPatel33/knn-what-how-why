{
 "cells": [
  {
   "cell_type": "markdown",
   "metadata": {},
   "source": [
    "*Python Executables*"
   ]
  },
  {
   "cell_type": "code",
   "execution_count": 52,
   "metadata": {},
   "outputs": [
    {
     "data": {
      "text/plain": [
       "'/Library/Frameworks/Python.framework/Versions/3.6/bin/python3'"
      ]
     },
     "execution_count": 52,
     "metadata": {},
     "output_type": "execute_result"
    }
   ],
   "source": [
    "import sys\n",
    "sys.executable"
   ]
  },
  {
   "cell_type": "markdown",
   "metadata": {},
   "source": [
    "# K Nearest Neighbour"
   ]
  },
  {
   "cell_type": "code",
   "execution_count": 91,
   "metadata": {},
   "outputs": [],
   "source": [
    "import pandas as pd\n",
    "import numpy as np\n",
    "import random\n",
    "import math\n",
    "from vega3 import VegaLite"
   ]
  },
  {
   "cell_type": "markdown",
   "metadata": {},
   "source": [
    "## Prepare data"
   ]
  },
  {
   "cell_type": "markdown",
   "metadata": {},
   "source": [
    "We will write our logic to create custom dataset"
   ]
  },
  {
   "cell_type": "code",
   "execution_count": 198,
   "metadata": {},
   "outputs": [],
   "source": [
    "def gen_points(val_seed_xy=(80, 100), num_class=2, num_points=100, global_std=20):\n",
    "    # cluster center\n",
    "    centers = []\n",
    "    for i in range(num_class):\n",
    "        centers.append((val_seed_xy[0] * random.random(), val_seed_xy[1] * random.random()))\n",
    "    \n",
    "    # Points near centers\n",
    "    X = np.empty(shape=[0, 2])\n",
    "    y = np.empty(shape=[0, 1])\n",
    "    for i in range(num_points):\n",
    "        cls = num_class * random.random()\n",
    "        cls = math.floor(cls)\n",
    "        xcord = centers[cls][0] + global_std * random.random()\n",
    "        ycord = centers[cls][1] + global_std * random.random()\n",
    "        X = np.append(X, [[xcord, ycord]], axis=0)\n",
    "        y = np.append(y, [[cls]], axis=0)\n",
    "    \n",
    "    return (X, y)"
   ]
  },
  {
   "cell_type": "markdown",
   "metadata": {},
   "source": [
    "Here we have our own clusters of point. Now visualize it to check if the data which has been generated is according yo our expectation or not."
   ]
  },
  {
   "cell_type": "code",
   "execution_count": 199,
   "metadata": {},
   "outputs": [],
   "source": [
    "(X, y) = gen_points()"
   ]
  },
  {
   "cell_type": "markdown",
   "metadata": {},
   "source": [
    "Now that we have our data ready, lets make a dataframe so that we can visualize it"
   ]
  },
  {
   "cell_type": "code",
   "execution_count": 200,
   "metadata": {},
   "outputs": [
    {
     "data": {
      "text/html": [
       "<div>\n",
       "<style scoped>\n",
       "    .dataframe tbody tr th:only-of-type {\n",
       "        vertical-align: middle;\n",
       "    }\n",
       "\n",
       "    .dataframe tbody tr th {\n",
       "        vertical-align: top;\n",
       "    }\n",
       "\n",
       "    .dataframe thead th {\n",
       "        text-align: right;\n",
       "    }\n",
       "</style>\n",
       "<table border=\"1\" class=\"dataframe\">\n",
       "  <thead>\n",
       "    <tr style=\"text-align: right;\">\n",
       "      <th></th>\n",
       "      <th>x</th>\n",
       "      <th>y</th>\n",
       "      <th>c</th>\n",
       "    </tr>\n",
       "  </thead>\n",
       "  <tbody>\n",
       "    <tr>\n",
       "      <th>0</th>\n",
       "      <td>79.447113</td>\n",
       "      <td>44.842280</td>\n",
       "      <td>1.0</td>\n",
       "    </tr>\n",
       "    <tr>\n",
       "      <th>1</th>\n",
       "      <td>80.120575</td>\n",
       "      <td>57.233437</td>\n",
       "      <td>1.0</td>\n",
       "    </tr>\n",
       "    <tr>\n",
       "      <th>2</th>\n",
       "      <td>21.027631</td>\n",
       "      <td>106.482419</td>\n",
       "      <td>0.0</td>\n",
       "    </tr>\n",
       "    <tr>\n",
       "      <th>3</th>\n",
       "      <td>86.227512</td>\n",
       "      <td>49.016525</td>\n",
       "      <td>1.0</td>\n",
       "    </tr>\n",
       "    <tr>\n",
       "      <th>4</th>\n",
       "      <td>26.429331</td>\n",
       "      <td>107.285408</td>\n",
       "      <td>0.0</td>\n",
       "    </tr>\n",
       "  </tbody>\n",
       "</table>\n",
       "</div>"
      ],
      "text/plain": [
       "           x           y    c\n",
       "0  79.447113   44.842280  1.0\n",
       "1  80.120575   57.233437  1.0\n",
       "2  21.027631  106.482419  0.0\n",
       "3  86.227512   49.016525  1.0\n",
       "4  26.429331  107.285408  0.0"
      ]
     },
     "execution_count": 200,
     "metadata": {},
     "output_type": "execute_result"
    }
   ],
   "source": [
    "columns = [\"x\", \"y\", \"c\"]\n",
    "mat = np.hstack((X, y))\n",
    "df = pd.DataFrame(mat, columns=columns)\n",
    "df.head()"
   ]
  },
  {
   "cell_type": "markdown",
   "metadata": {},
   "source": [
    "Now lets visualize it"
   ]
  },
  {
   "cell_type": "code",
   "execution_count": 203,
   "metadata": {},
   "outputs": [
    {
     "data": {
      "text/html": [
       "<div class=\"vega-embed\" id=\"85cfbde8-11ee-44c2-ac36-f67e3cf1c63d\"></div>\n",
       "\n",
       "<style>\n",
       ".vega-embed svg, .vega-embed canvas {\n",
       "  border: 1px dotted gray;\n",
       "}\n",
       "\n",
       ".vega-embed .vega-actions a {\n",
       "  margin-right: 6px;\n",
       "}\n",
       "</style>\n"
      ]
     },
     "metadata": {
      "jupyter-vega3": "#85cfbde8-11ee-44c2-ac36-f67e3cf1c63d"
     },
     "output_type": "display_data"
    },
    {
     "data": {
      "application/javascript": [
       "var spec = {\"mark\": {\"type\": \"point\", \"filled\": \"true\"}, \"encoding\": {\"y\": {\"type\": \"quantitative\", \"field\": \"y\", \"scale\": {\"domain\": [30.06074174329523, 126.45061291698578]}}, \"x\": {\"type\": \"quantitative\", \"field\": \"x\", \"scale\": {\"domain\": [1.5589397153300517, 101.38457330022634]}}, \"color\": {\"type\": \"nominal\", \"field\": \"c\"}}, \"data\": {\"values\": [{\"x\": 79.44711259768054, \"y\": 44.842280302564994, \"c\": 1.0}, {\"x\": 80.12057501742765, \"y\": 57.23343708896514, \"c\": 1.0}, {\"x\": 21.02763085882674, \"y\": 106.48241943717701, \"c\": 0.0}, {\"x\": 86.2275118694175, \"y\": 49.01652514684904, \"c\": 1.0}, {\"x\": 26.429330826050638, \"y\": 107.28540762990929, \"c\": 0.0}, {\"x\": 81.21056393289746, \"y\": 41.28844314575486, \"c\": 1.0}, {\"x\": 73.1000000110006, \"y\": 47.25832092090461, \"c\": 1.0}, {\"x\": 85.24482572659456, \"y\": 53.8267447805612, \"c\": 1.0}, {\"x\": 17.465664559029122, \"y\": 110.82259566921402, \"c\": 0.0}, {\"x\": 80.14078667768331, \"y\": 51.885643205769156, \"c\": 1.0}, {\"x\": 22.20379837114008, \"y\": 116.20543503362458, \"c\": 0.0}, {\"x\": 16.69115608820789, \"y\": 105.46853276807508, \"c\": 0.0}, {\"x\": 18.121621414348056, \"y\": 116.45061291698578, \"c\": 0.0}, {\"x\": 27.630802726017347, \"y\": 108.22665069241773, \"c\": 0.0}, {\"x\": 74.29418901562876, \"y\": 42.02896047368908, \"c\": 1.0}, {\"x\": 74.1490758295169, \"y\": 58.91569039490929, \"c\": 1.0}, {\"x\": 16.005306023517655, \"y\": 98.02510686265188, \"c\": 0.0}, {\"x\": 22.96521850575263, \"y\": 115.12486808032213, \"c\": 0.0}, {\"x\": 15.645869481533204, \"y\": 108.72525195778488, \"c\": 0.0}, {\"x\": 76.37791201135602, \"y\": 52.59903833482465, \"c\": 1.0}, {\"x\": 22.26131613496658, \"y\": 110.39848361082795, \"c\": 0.0}, {\"x\": 80.65715483286131, \"y\": 50.893207152667955, \"c\": 1.0}, {\"x\": 80.97543081974949, \"y\": 42.95001252805899, \"c\": 1.0}, {\"x\": 27.1569279654559, \"y\": 99.93462639038901, \"c\": 0.0}, {\"x\": 21.87525244751132, \"y\": 100.5012934462282, \"c\": 0.0}, {\"x\": 30.43509081941678, \"y\": 111.71773365788228, \"c\": 0.0}, {\"x\": 86.44653610915398, \"y\": 51.99343958394393, \"c\": 1.0}, {\"x\": 29.909318125645523, \"y\": 111.09589893743052, \"c\": 0.0}, {\"x\": 87.46238487373621, \"y\": 42.49805592572473, \"c\": 1.0}, {\"x\": 29.574979751042793, \"y\": 100.06103944998266, \"c\": 0.0}, {\"x\": 27.30498822644003, \"y\": 108.7504916401785, \"c\": 0.0}, {\"x\": 25.337197274169164, \"y\": 102.69566205821519, \"c\": 0.0}, {\"x\": 26.04226093711603, \"y\": 115.8205344516898, \"c\": 0.0}, {\"x\": 21.47452612068988, \"y\": 105.83905051701706, \"c\": 0.0}, {\"x\": 81.92844005350189, \"y\": 46.53399650058232, \"c\": 1.0}, {\"x\": 85.36532441978157, \"y\": 54.69806321923839, \"c\": 1.0}, {\"x\": 17.145913656011906, \"y\": 99.77252063282643, \"c\": 0.0}, {\"x\": 12.80815628614009, \"y\": 99.04666087449061, \"c\": 0.0}, {\"x\": 85.9602297814917, \"y\": 47.987351306762, \"c\": 1.0}, {\"x\": 28.24893473117529, \"y\": 110.71861958473099, \"c\": 0.0}, {\"x\": 78.91800808602751, \"y\": 56.53801858425403, \"c\": 1.0}, {\"x\": 78.44900294317641, \"y\": 40.8672354783754, \"c\": 1.0}, {\"x\": 83.9326776130781, \"y\": 40.56823066111092, \"c\": 1.0}, {\"x\": 17.982203620872177, \"y\": 104.24965408174448, \"c\": 0.0}, {\"x\": 12.605281600570219, \"y\": 105.15214785606722, \"c\": 0.0}, {\"x\": 74.2273184157384, \"y\": 58.29979956334596, \"c\": 1.0}, {\"x\": 13.200932279789342, \"y\": 109.35051269225183, \"c\": 0.0}, {\"x\": 81.66058417139041, \"y\": 56.949744403889774, \"c\": 1.0}, {\"x\": 90.92863853532599, \"y\": 59.32753564059735, \"c\": 1.0}, {\"x\": 80.87756931783656, \"y\": 55.02910764142939, \"c\": 1.0}, {\"x\": 27.72669648968484, \"y\": 110.8997466326421, \"c\": 0.0}, {\"x\": 73.55873567515219, \"y\": 50.62193551393831, \"c\": 1.0}, {\"x\": 11.692516791144048, \"y\": 114.77055810058566, \"c\": 0.0}, {\"x\": 77.57535328500026, \"y\": 48.722699404221565, \"c\": 1.0}, {\"x\": 87.22775216255911, \"y\": 55.31169445072757, \"c\": 1.0}, {\"x\": 30.005124625781463, \"y\": 113.72366839768361, \"c\": 0.0}, {\"x\": 90.59690639213515, \"y\": 51.91314203606924, \"c\": 1.0}, {\"x\": 73.04211462732056, \"y\": 59.05274110312072, \"c\": 1.0}, {\"x\": 30.554261578863013, \"y\": 112.72304545601193, \"c\": 0.0}, {\"x\": 27.582928680277366, \"y\": 101.03434523397523, \"c\": 0.0}, {\"x\": 86.92476805368506, \"y\": 50.20631226824808, \"c\": 1.0}, {\"x\": 27.23588894234041, \"y\": 109.88373238343992, \"c\": 0.0}, {\"x\": 88.0622139082443, \"y\": 52.70959583079181, \"c\": 1.0}, {\"x\": 84.13132763361183, \"y\": 45.911055751452786, \"c\": 1.0}, {\"x\": 83.60340662493883, \"y\": 44.92664107707161, \"c\": 1.0}, {\"x\": 90.33492635417218, \"y\": 43.77951209806997, \"c\": 1.0}, {\"x\": 73.11826990766242, \"y\": 55.926542050843935, \"c\": 1.0}, {\"x\": 16.39954287751185, \"y\": 98.3214378735356, \"c\": 0.0}, {\"x\": 83.18692934887153, \"y\": 51.28255097702811, \"c\": 1.0}, {\"x\": 82.56552615807668, \"y\": 40.06074174329523, \"c\": 1.0}, {\"x\": 15.201527334261932, \"y\": 99.73757430679623, \"c\": 0.0}, {\"x\": 77.40741279723447, \"y\": 48.09955789318964, \"c\": 1.0}, {\"x\": 28.752382541532484, \"y\": 113.2793592692794, \"c\": 0.0}, {\"x\": 79.34525959038515, \"y\": 48.85909667479572, \"c\": 1.0}, {\"x\": 73.5355050696366, \"y\": 55.67737303872457, \"c\": 1.0}, {\"x\": 72.43120350638567, \"y\": 55.4139818753395, \"c\": 1.0}, {\"x\": 30.213179745507684, \"y\": 102.29988401961648, \"c\": 0.0}, {\"x\": 87.77683449347359, \"y\": 51.08984435216303, \"c\": 1.0}, {\"x\": 27.49095640243588, \"y\": 112.40109996346808, \"c\": 0.0}, {\"x\": 23.950967132976945, \"y\": 106.71275841343936, \"c\": 0.0}, {\"x\": 27.38621233592702, \"y\": 103.329397758224, \"c\": 0.0}, {\"x\": 11.558939715330052, \"y\": 100.88037637911687, \"c\": 0.0}, {\"x\": 80.10399867669017, \"y\": 51.52648880806942, \"c\": 1.0}, {\"x\": 23.429345798141586, \"y\": 109.8022110396309, \"c\": 0.0}, {\"x\": 17.505040593367532, \"y\": 101.17627957739526, \"c\": 0.0}, {\"x\": 72.04474936121662, \"y\": 52.06016820511455, \"c\": 1.0}, {\"x\": 86.13517335216268, \"y\": 42.8169465442521, \"c\": 1.0}, {\"x\": 75.2798217785453, \"y\": 44.74920958355484, \"c\": 1.0}, {\"x\": 27.58648155517716, \"y\": 107.88264174716122, \"c\": 0.0}, {\"x\": 25.42390453929178, \"y\": 108.99893270267334, \"c\": 0.0}, {\"x\": 21.61531052287448, \"y\": 106.55229679779599, \"c\": 0.0}, {\"x\": 20.702695140053233, \"y\": 99.25696666587646, \"c\": 0.0}, {\"x\": 91.38457330022634, \"y\": 44.52627846476756, \"c\": 1.0}, {\"x\": 16.243559411153534, \"y\": 115.5007619010593, \"c\": 0.0}, {\"x\": 76.34635675659251, \"y\": 50.77076515992241, \"c\": 1.0}, {\"x\": 23.176680796830144, \"y\": 98.33779184090635, \"c\": 0.0}, {\"x\": 91.09194990263371, \"y\": 58.38817067042453, \"c\": 1.0}, {\"x\": 73.18877383671342, \"y\": 56.33035112471933, \"c\": 1.0}, {\"x\": 16.68140496162714, \"y\": 102.77703975186725, \"c\": 0.0}, {\"x\": 25.043420129272867, \"y\": 111.58966398884354, \"c\": 0.0}]}};\n",
       "var selector = \"#85cfbde8-11ee-44c2-ac36-f67e3cf1c63d\";\n",
       "var type = \"vega-lite\";\n",
       "\n",
       "var output_area = this;\n",
       "require(['nbextensions/jupyter-vega3/index'], function(vega) {\n",
       "  vega.render(selector, spec, type, output_area);\n",
       "}, function (err) {\n",
       "  if (err.requireType !== 'scripterror') {\n",
       "    throw(err);\n",
       "  }\n",
       "});\n"
      ]
     },
     "metadata": {
      "jupyter-vega3": "#85cfbde8-11ee-44c2-ac36-f67e3cf1c63d"
     },
     "output_type": "display_data"
    },
    {
     "data": {
      "image/png": "[encoded data removed]"
     },
     "metadata": {
      "jupyter-vega3": "#85cfbde8-11ee-44c2-ac36-f67e3cf1c63d"
     },
     "output_type": "display_data"
    }
   ],
   "source": [
    "VegaLite({\n",
    "    \"mark\": { \"type\": \"point\", \"filled\": \"true\" },\n",
    "    \"encoding\": {\n",
    "        \"y\": { \n",
    "            \"type\": \"quantitative\",\n",
    "            \"field\": \"y\",\n",
    "            \"scale\": { \n",
    "                \"domain\": [df['y'].min() - 10, df['y'].max() + 10]\n",
    "            } \n",
    "        },\n",
    "        \"x\": { \n",
    "            \"type\": \"quantitative\", \n",
    "            \"field\": \"x\", \n",
    "            \"scale\": { \n",
    "                \"domain\": [df['x'].min() - 10, df['x'].max() + 10]\n",
    "            } \n",
    "        },\n",
    "        \"color\": { \"type\": \"nominal\", \"field\": \"c\" }\n",
    "    }\n",
    "}, df)"
   ]
  },
  {
   "cell_type": "markdown",
   "metadata": {},
   "source": [
    "Looks like we can apply clear classification with this dataset."
   ]
  },
  {
   "cell_type": "markdown",
   "metadata": {},
   "source": [
    "## Algorithm"
   ]
  }
 ],
 "metadata": {
  "kernelspec": {
   "display_name": "Python 3",
   "language": "python",
   "name": "python3"
  },
  "language_info": {
   "codemirror_mode": {
    "name": "ipython",
    "version": 3
   },
   "file_extension": ".py",
   "mimetype": "text/x-python",
   "name": "python",
   "nbconvert_exporter": "python",
   "pygments_lexer": "ipython3",
   "version": "3.6.1"
  }
 },
 "nbformat": 4,
 "nbformat_minor": 2
}
