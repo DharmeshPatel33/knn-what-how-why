{
 "cells": [
  {
   "cell_type": "markdown",
   "metadata": {},
   "source": [
    "*Python Executables*"
   ]
  },
  {
   "cell_type": "code",
   "execution_count": 1,
   "metadata": {},
   "outputs": [
    {
     "data": {
      "text/plain": [
       "'/Library/Frameworks/Python.framework/Versions/3.6/bin/python3'"
      ]
     },
     "execution_count": 1,
     "metadata": {},
     "output_type": "execute_result"
    }
   ],
   "source": [
    "import sys\n",
    "sys.executable"
   ]
  },
  {
   "cell_type": "markdown",
   "metadata": {},
   "source": [
    "# K Nearest Neighbour"
   ]
  },
  {
   "cell_type": "code",
   "execution_count": 2,
   "metadata": {},
   "outputs": [],
   "source": [
    "import pandas as pd\n",
    "import numpy as np\n",
    "from vega3 import VegaLite\n",
    "from IPython.display import clear_output"
   ]
  },
  {
   "cell_type": "markdown",
   "metadata": {},
   "source": [
    "## Prepare data"
   ]
  },
  {
   "cell_type": "markdown",
   "metadata": {},
   "source": [
    "Here is the logic to generate our own clustered dataset. This is fairly simple. First the logic creates cluster center randomly. Then it generates points with a given standard deviation"
   ]
  },
  {
   "cell_type": "code",
   "execution_count": 3,
   "metadata": {},
   "outputs": [],
   "source": [
    "# %load gen_points.py\n",
    "import numpy as np\n",
    "import random\n",
    "import math\n",
    "\n",
    "def gen_points(val_seed_xy=(80, 100), num_class=2, num_points=100, global_std=20):\n",
    "    # cluster center\n",
    "    centers = []\n",
    "    for i in range(num_class):\n",
    "        centers.append((val_seed_xy[0] * random.random(), val_seed_xy[1] * random.random()))\n",
    "    \n",
    "    # Points near centers\n",
    "    X = np.empty(shape=[0, 2])\n",
    "    y = np.empty(shape=[0, 1])\n",
    "    for i in range(num_points):\n",
    "        cls = num_class * random.random()\n",
    "        cls = math.floor(cls)\n",
    "        xcord = centers[cls][0] + global_std * random.random()\n",
    "        ycord = centers[cls][1] + global_std * random.random()\n",
    "        X = np.append(X, [[xcord, ycord]], axis=0)\n",
    "        y = np.append(y, [[cls]], axis=0)\n",
    "    \n",
    "    return (X, y)"
   ]
  },
  {
   "cell_type": "markdown",
   "metadata": {},
   "source": [
    "Here we have our own clusters of point. Now lets visualize it to check if the data which has been generated is according to our expectation or not."
   ]
  },
  {
   "cell_type": "code",
   "execution_count": 4,
   "metadata": {},
   "outputs": [],
   "source": [
    "(X, y) = gen_points()"
   ]
  },
  {
   "cell_type": "markdown",
   "metadata": {},
   "source": [
    "Now that we have our data ready, lets make a dataframe so that we can visualize it"
   ]
  },
  {
   "cell_type": "code",
   "execution_count": 5,
   "metadata": {},
   "outputs": [
    {
     "data": {
      "text/html": [
       "<div>\n",
       "<style scoped>\n",
       "    .dataframe tbody tr th:only-of-type {\n",
       "        vertical-align: middle;\n",
       "    }\n",
       "\n",
       "    .dataframe tbody tr th {\n",
       "        vertical-align: top;\n",
       "    }\n",
       "\n",
       "    .dataframe thead th {\n",
       "        text-align: right;\n",
       "    }\n",
       "</style>\n",
       "<table border=\"1\" class=\"dataframe\">\n",
       "  <thead>\n",
       "    <tr style=\"text-align: right;\">\n",
       "      <th></th>\n",
       "      <th>x</th>\n",
       "      <th>y</th>\n",
       "      <th>c</th>\n",
       "    </tr>\n",
       "  </thead>\n",
       "  <tbody>\n",
       "    <tr>\n",
       "      <th>0</th>\n",
       "      <td>80.886877</td>\n",
       "      <td>81.319176</td>\n",
       "      <td>0.0</td>\n",
       "    </tr>\n",
       "    <tr>\n",
       "      <th>1</th>\n",
       "      <td>91.124501</td>\n",
       "      <td>83.915909</td>\n",
       "      <td>0.0</td>\n",
       "    </tr>\n",
       "    <tr>\n",
       "      <th>2</th>\n",
       "      <td>66.855986</td>\n",
       "      <td>88.817927</td>\n",
       "      <td>1.0</td>\n",
       "    </tr>\n",
       "    <tr>\n",
       "      <th>3</th>\n",
       "      <td>83.029961</td>\n",
       "      <td>92.017596</td>\n",
       "      <td>0.0</td>\n",
       "    </tr>\n",
       "    <tr>\n",
       "      <th>4</th>\n",
       "      <td>89.146175</td>\n",
       "      <td>83.674393</td>\n",
       "      <td>0.0</td>\n",
       "    </tr>\n",
       "  </tbody>\n",
       "</table>\n",
       "</div>"
      ],
      "text/plain": [
       "           x          y    c\n",
       "0  80.886877  81.319176  0.0\n",
       "1  91.124501  83.915909  0.0\n",
       "2  66.855986  88.817927  1.0\n",
       "3  83.029961  92.017596  0.0\n",
       "4  89.146175  83.674393  0.0"
      ]
     },
     "execution_count": 5,
     "metadata": {},
     "output_type": "execute_result"
    }
   ],
   "source": [
    "columns = [\"x\", \"y\", \"c\"]\n",
    "mat = np.hstack((X, y))\n",
    "df = pd.DataFrame(mat, columns=columns)\n",
    "df.head()"
   ]
  },
  {
   "cell_type": "markdown",
   "metadata": {},
   "source": [
    "Now lets visualize it"
   ]
  },
  {
   "cell_type": "code",
   "execution_count": 6,
   "metadata": {},
   "outputs": [
    {
     "data": {
      "text/html": [
       "<div class=\"vega-embed\" id=\"80fcd927-b607-41ab-bf75-c407a5f78b15\"></div>\n",
       "\n",
       "<style>\n",
       ".vega-embed svg, .vega-embed canvas {\n",
       "  border: 1px dotted gray;\n",
       "}\n",
       "\n",
       ".vega-embed .vega-actions a {\n",
       "  margin-right: 6px;\n",
       "}\n",
       "</style>\n"
      ]
     },
     "metadata": {
      "jupyter-vega3": "#80fcd927-b607-41ab-bf75-c407a5f78b15"
     },
     "output_type": "display_data"
    },
    {
     "data": {
      "application/javascript": [
       "var spec = {\"mark\": {\"type\": \"point\", \"filled\": \"true\"}, \"encoding\": {\"y\": {\"type\": \"quantitative\", \"field\": \"y\", \"scale\": {\"domain\": [66.29011362849168, 106.01856154013427]}}, \"x\": {\"type\": \"quantitative\", \"field\": \"x\", \"scale\": {\"domain\": [45.60867396898779, 102.83803990274798]}}, \"color\": {\"type\": \"nominal\", \"field\": \"c\"}}, \"data\": {\"values\": [{\"x\": 80.88687726178888, \"y\": 81.31917605031143, \"c\": 0.0}, {\"x\": 91.12450138964583, \"y\": 83.91590877678846, \"c\": 0.0}, {\"x\": 66.85598648467867, \"y\": 88.81792682352771, \"c\": 1.0}, {\"x\": 83.02996086835677, \"y\": 92.01759632763442, \"c\": 0.0}, {\"x\": 89.14617525056532, \"y\": 83.6743934691686, \"c\": 0.0}, {\"x\": 88.0238958672224, \"y\": 81.68771969821331, \"c\": 0.0}, {\"x\": 72.91262817179505, \"y\": 95.83762002213737, \"c\": 1.0}, {\"x\": 90.76615202163191, \"y\": 95.00519175608186, \"c\": 0.0}, {\"x\": 90.88340907635194, \"y\": 79.00700843436476, \"c\": 0.0}, {\"x\": 78.5955076536202, \"y\": 79.21327570988518, \"c\": 0.0}, {\"x\": 83.32292944880017, \"y\": 79.81494768665968, \"c\": 0.0}, {\"x\": 58.758042165020036, \"y\": 92.61182167153778, \"c\": 1.0}, {\"x\": 92.50414741877546, \"y\": 84.20471382440782, \"c\": 0.0}, {\"x\": 77.52406336565137, \"y\": 94.3654369156992, \"c\": 0.0}, {\"x\": 75.00184588857925, \"y\": 94.5520993633886, \"c\": 0.0}, {\"x\": 66.08101630237599, \"y\": 93.11412453064784, \"c\": 1.0}, {\"x\": 81.30246414910002, \"y\": 92.81184394565472, \"c\": 0.0}, {\"x\": 74.15246732020833, \"y\": 89.9878955920486, \"c\": 1.0}, {\"x\": 63.26110975778299, \"y\": 90.8682260116608, \"c\": 1.0}, {\"x\": 84.07227764375511, \"y\": 86.8954597178768, \"c\": 0.0}, {\"x\": 59.38400673020417, \"y\": 91.48584117830015, \"c\": 1.0}, {\"x\": 60.466671809036896, \"y\": 83.69528966166212, \"c\": 1.0}, {\"x\": 62.24454167907062, \"y\": 76.60947057064392, \"c\": 1.0}, {\"x\": 80.8026017366585, \"y\": 88.43505232782607, \"c\": 0.0}, {\"x\": 76.42948809440341, \"y\": 89.89424385816878, \"c\": 0.0}, {\"x\": 91.98683429397335, \"y\": 91.79311232236978, \"c\": 0.0}, {\"x\": 69.33434494619098, \"y\": 86.07934615622008, \"c\": 1.0}, {\"x\": 78.95206261410134, \"y\": 91.21495084738973, \"c\": 0.0}, {\"x\": 79.89381807445334, \"y\": 93.5436838952938, \"c\": 0.0}, {\"x\": 75.2894620166659, \"y\": 85.86245606469397, \"c\": 0.0}, {\"x\": 90.60074164892609, \"y\": 77.89071747087345, \"c\": 0.0}, {\"x\": 55.60867396898779, \"y\": 88.37686483456594, \"c\": 1.0}, {\"x\": 66.69652670864262, \"y\": 93.24974447707044, \"c\": 1.0}, {\"x\": 66.74570734279149, \"y\": 92.53856680755828, \"c\": 1.0}, {\"x\": 73.34923283077109, \"y\": 77.38568204796952, \"c\": 1.0}, {\"x\": 64.75517461434205, \"y\": 77.9846152410341, \"c\": 1.0}, {\"x\": 79.65938519541078, \"y\": 90.0709295308459, \"c\": 0.0}, {\"x\": 65.57805341939778, \"y\": 86.76877970471823, \"c\": 1.0}, {\"x\": 75.1840767435676, \"y\": 84.1434739698737, \"c\": 0.0}, {\"x\": 58.87907518767153, \"y\": 79.86196863022242, \"c\": 1.0}, {\"x\": 65.39745686654076, \"y\": 78.58269852931137, \"c\": 1.0}, {\"x\": 77.25811698871357, \"y\": 91.49133254277665, \"c\": 0.0}, {\"x\": 73.47754497815518, \"y\": 78.90789276537609, \"c\": 1.0}, {\"x\": 82.63121956429465, \"y\": 82.19370964181414, \"c\": 0.0}, {\"x\": 89.4410292299334, \"y\": 86.43795988472195, \"c\": 0.0}, {\"x\": 79.07563139668903, \"y\": 82.30807767192876, \"c\": 0.0}, {\"x\": 91.36310975402978, \"y\": 81.58652457278376, \"c\": 0.0}, {\"x\": 61.60455745827096, \"y\": 96.01856154013427, \"c\": 1.0}, {\"x\": 73.28804482844855, \"y\": 79.77741678460956, \"c\": 0.0}, {\"x\": 63.95213080807922, \"y\": 88.43703617616501, \"c\": 1.0}, {\"x\": 76.6661499715395, \"y\": 93.06594237772941, \"c\": 0.0}, {\"x\": 67.13123033281329, \"y\": 78.2571969408756, \"c\": 1.0}, {\"x\": 82.48820521643238, \"y\": 87.29835910693906, \"c\": 0.0}, {\"x\": 77.30799672630457, \"y\": 77.47620264353822, \"c\": 0.0}, {\"x\": 68.44488823648415, \"y\": 89.75479801966911, \"c\": 1.0}, {\"x\": 90.42906184603677, \"y\": 86.32656997575336, \"c\": 0.0}, {\"x\": 75.51897783052861, \"y\": 84.19269668011326, \"c\": 0.0}, {\"x\": 85.29590276299649, \"y\": 93.54558286194965, \"c\": 0.0}, {\"x\": 62.44138440649304, \"y\": 91.77863388771826, \"c\": 1.0}, {\"x\": 73.99557607268585, \"y\": 86.72820744390505, \"c\": 1.0}, {\"x\": 61.747491466081115, \"y\": 92.58830583002567, \"c\": 1.0}, {\"x\": 77.31376415051832, \"y\": 90.02866073028889, \"c\": 0.0}, {\"x\": 58.05634098667753, \"y\": 76.96011586095217, \"c\": 1.0}, {\"x\": 87.82652136098733, \"y\": 80.70148250797334, \"c\": 0.0}, {\"x\": 77.0640513113487, \"y\": 89.77945844850298, \"c\": 0.0}, {\"x\": 57.48840848627584, \"y\": 95.6868148701941, \"c\": 1.0}, {\"x\": 62.639005980072014, \"y\": 88.74570244800951, \"c\": 1.0}, {\"x\": 61.6518160663415, \"y\": 87.69573236952871, \"c\": 1.0}, {\"x\": 87.12077769156448, \"y\": 93.19277291200873, \"c\": 0.0}, {\"x\": 75.4905129071692, \"y\": 90.15360623528638, \"c\": 0.0}, {\"x\": 57.24265683683667, \"y\": 79.99693111638038, \"c\": 1.0}, {\"x\": 56.480233253813836, \"y\": 91.34321265166032, \"c\": 1.0}, {\"x\": 66.66964668611452, \"y\": 92.07909898080396, \"c\": 1.0}, {\"x\": 83.61161643788886, \"y\": 86.12680248298294, \"c\": 0.0}, {\"x\": 76.01250418059158, \"y\": 79.5452790442694, \"c\": 0.0}, {\"x\": 58.364415967408284, \"y\": 83.39659503404016, \"c\": 1.0}, {\"x\": 90.64977604270295, \"y\": 90.97467539214541, \"c\": 0.0}, {\"x\": 81.63414188344284, \"y\": 89.15237269118711, \"c\": 0.0}, {\"x\": 92.83803990274798, \"y\": 80.58194570510253, \"c\": 0.0}, {\"x\": 76.16778501469484, \"y\": 79.8439239673338, \"c\": 0.0}, {\"x\": 67.18155540174712, \"y\": 79.99582895118388, \"c\": 1.0}, {\"x\": 91.50427037306805, \"y\": 78.53383770809857, \"c\": 0.0}, {\"x\": 92.52263424376596, \"y\": 84.72986974714964, \"c\": 0.0}, {\"x\": 79.12095729403624, \"y\": 94.14136367964821, \"c\": 0.0}, {\"x\": 80.15018397870074, \"y\": 92.53632957234282, \"c\": 0.0}, {\"x\": 83.44997612075849, \"y\": 86.80520224258666, \"c\": 0.0}, {\"x\": 80.05710577858505, \"y\": 90.39379578934091, \"c\": 0.0}, {\"x\": 80.26298496417957, \"y\": 77.6040211785639, \"c\": 0.0}, {\"x\": 81.64193642825363, \"y\": 78.50238976892906, \"c\": 0.0}, {\"x\": 73.31403420909783, \"y\": 80.62391676940175, \"c\": 0.0}, {\"x\": 58.555190210466286, \"y\": 76.29011362849168, \"c\": 1.0}, {\"x\": 68.60527142026096, \"y\": 81.90438733841012, \"c\": 1.0}, {\"x\": 90.69233592693085, \"y\": 92.54556311466408, \"c\": 0.0}, {\"x\": 88.74026887898106, \"y\": 83.41401749803487, \"c\": 0.0}, {\"x\": 68.12285088202296, \"y\": 77.01993482838093, \"c\": 1.0}, {\"x\": 73.98158033820894, \"y\": 92.75153871364638, \"c\": 0.0}, {\"x\": 89.24333137147325, \"y\": 93.76096856692489, \"c\": 0.0}, {\"x\": 74.77564709702926, \"y\": 85.2769299922445, \"c\": 0.0}, {\"x\": 55.7722255645282, \"y\": 90.23997467808144, \"c\": 1.0}, {\"x\": 64.02549542210006, \"y\": 85.63330947975632, \"c\": 1.0}]}};\n",
       "var selector = \"#80fcd927-b607-41ab-bf75-c407a5f78b15\";\n",
       "var type = \"vega-lite\";\n",
       "\n",
       "var output_area = this;\n",
       "require(['nbextensions/jupyter-vega3/index'], function(vega) {\n",
       "  vega.render(selector, spec, type, output_area);\n",
       "}, function (err) {\n",
       "  if (err.requireType !== 'scripterror') {\n",
       "    throw(err);\n",
       "  }\n",
       "});\n"
      ]
     },
     "metadata": {
      "jupyter-vega3": "#80fcd927-b607-41ab-bf75-c407a5f78b15"
     },
     "output_type": "display_data"
    },
    {
     "data": {
      "image/png": "[encoded data removed]"
     },
     "metadata": {
      "jupyter-vega3": "#80fcd927-b607-41ab-bf75-c407a5f78b15"
     },
     "output_type": "display_data"
    }
   ],
   "source": [
    "VegaLite({\n",
    "    \"mark\": { \"type\": \"point\", \"filled\": \"true\" },\n",
    "    \"encoding\": {\n",
    "        \"y\": { \n",
    "            \"type\": \"quantitative\",\n",
    "            \"field\": \"y\",\n",
    "            \"scale\": { \n",
    "                \"domain\": [df['y'].min() - 10, df['y'].max() + 10]\n",
    "            } \n",
    "        },\n",
    "        \"x\": { \n",
    "            \"type\": \"quantitative\", \n",
    "            \"field\": \"x\", \n",
    "            \"scale\": { \n",
    "                \"domain\": [df['x'].min() - 10, df['x'].max() + 10]\n",
    "            } \n",
    "        },\n",
    "        \"color\": { \"type\": \"nominal\", \"field\": \"c\" }\n",
    "    }\n",
    "}, df)"
   ]
  },
  {
   "cell_type": "markdown",
   "metadata": {},
   "source": [
    "Looks like we can apply clear classification with this dataset."
   ]
  },
  {
   "cell_type": "markdown",
   "metadata": {},
   "source": [
    "*You can optionally save the dataset if you want*"
   ]
  },
  {
   "cell_type": "code",
   "execution_count": 7,
   "metadata": {},
   "outputs": [],
   "source": [
    "df.to_csv('gen-data.csv', index=False)"
   ]
  },
  {
   "cell_type": "markdown",
   "metadata": {},
   "source": [
    "## Algorithm"
   ]
  },
  {
   "cell_type": "markdown",
   "metadata": {},
   "source": [
    "The algorithm is pretty simple. The visual illustration of the algorithm is here [link goes here]"
   ]
  },
  {
   "cell_type": "markdown",
   "metadata": {},
   "source": [
    "Now that our KNN algorithm is ready. Lets use it with our existing dataset"
   ]
  },
  {
   "cell_type": "code",
   "execution_count": 8,
   "metadata": {},
   "outputs": [],
   "source": [
    "# %load knn_algo.py\n",
    "import numpy as np\n",
    "\n",
    "def default_progress_fn(i, total):\n",
    "    pass\n",
    "\n",
    "class KNN:\n",
    "    def __init__ (self, k, progress_fn=default_progress_fn):\n",
    "        \"\"\" Pass k as hyperparameter\"\"\"\n",
    "        self.k = k\n",
    "        self.progress_fn = progress_fn\n",
    "\n",
    "    def train(self, X, y):\n",
    "        \"\"\"\n",
    "            X is example training matrix. Every row of X contains one training example. Each training example\n",
    "            may have `d` features. If there are `m` such examples then X is `m x d` matrix.\n",
    "            y is the label matrix corrosponding to each training example. Hence y is `m x 1` matrix.\n",
    "        \"\"\"\n",
    "\n",
    "        # During training time stores the references of the input only\n",
    "        self.tX = X\n",
    "        self.ty = y\n",
    "\n",
    "    def predict(self, X):\n",
    "        \"\"\"\n",
    "            Predict y based on test data X.\n",
    "        \"\"\"\n",
    "\n",
    "        num_training = X.shape[0]\n",
    "        YPred = np.zeros(num_training, dtype = self.ty.dtype)\n",
    "\n",
    "        for i in range(num_training):\n",
    "            # Euclidean distance is used to find out distance between two datapoint.\n",
    "            distances = np.reshape(np.sqrt(np.sum(np.square(self.tX - X[i, :]), axis=1)), (-1, 1))\n",
    "            # Along with the distance stack the labels so that we can vote easily\n",
    "            distance_label = np.hstack((distances, self.ty))\n",
    "            # Simple majority voting based on the minimum distance\n",
    "            sorted_distance = distance_label[distance_label[:,0].argsort()]\n",
    "            k_sorted_distance = sorted_distance[:self.k,:]\n",
    "            (labels, occurence) = np.unique(k_sorted_distance[:, 1], return_counts=True)\n",
    "            label = labels[occurence.argsort()[0]]\n",
    "            YPred[i] = label\n",
    "\n",
    "            self.progress_fn(i, num_training)\n",
    "\n",
    "        return YPred"
   ]
  },
  {
   "cell_type": "code",
   "execution_count": 9,
   "metadata": {},
   "outputs": [
    {
     "data": {
      "text/plain": [
       "array([1., 1.])"
      ]
     },
     "execution_count": 9,
     "metadata": {},
     "output_type": "execute_result"
    }
   ],
   "source": [
    "import knn_algo as knnalgo\n",
    "knn = knnalgo.KNN(3) # 3 Nearest neighbour\n",
    "knn.train(X, y)\n",
    "knn.predict(np.array([[10, 100], [10, 10]]))"
   ]
  },
  {
   "cell_type": "markdown",
   "metadata": {},
   "source": [
    "Its classifying our data correctly."
   ]
  },
  {
   "cell_type": "markdown",
   "metadata": {},
   "source": [
    "# Real data"
   ]
  },
  {
   "cell_type": "markdown",
   "metadata": {},
   "source": [
    "Base locaiton where data resides.\n",
    "\n",
    "Download the data from http://www.cs.toronto.edu/~kriz/cifar.html"
   ]
  },
  {
   "cell_type": "code",
   "execution_count": 10,
   "metadata": {},
   "outputs": [],
   "source": [
    "basedir_data = \"./data/\""
   ]
  },
  {
   "cell_type": "code",
   "execution_count": 11,
   "metadata": {},
   "outputs": [],
   "source": [
    "rel_path = basedir_data + \"cifar-10-batches-py/\""
   ]
  },
  {
   "cell_type": "markdown",
   "metadata": {},
   "source": [
    "Deserialize image files"
   ]
  },
  {
   "cell_type": "code",
   "execution_count": 12,
   "metadata": {},
   "outputs": [],
   "source": [
    "def unpickle(file):\n",
    "    import pickle\n",
    "    with open(file, 'rb') as fo:\n",
    "        dict = pickle.load(fo, encoding='bytes')\n",
    "    return dict\n",
    "\n",
    "X = unpickle(rel_path + 'data_batch_1')\n",
    "img_data = X[b'data']\n",
    "img_label_orig = img_label = X[b'labels']\n",
    "img_label = np.array(img_label).reshape(-1, 1)"
   ]
  },
  {
   "cell_type": "markdown",
   "metadata": {},
   "source": [
    "Now that our data and labels are loaded lets check the same"
   ]
  },
  {
   "cell_type": "code",
   "execution_count": 13,
   "metadata": {},
   "outputs": [
    {
     "name": "stdout",
     "output_type": "stream",
     "text": [
      "[[ 59  43  50 ... 140  84  72]\n",
      " [154 126 105 ... 139 142 144]\n",
      " [255 253 253 ...  83  83  84]\n",
      " ...\n",
      " [ 71  60  74 ...  68  69  68]\n",
      " [250 254 211 ... 215 255 254]\n",
      " [ 62  61  60 ... 130 130 131]]\n",
      "shape (10000, 3072)\n"
     ]
    }
   ],
   "source": [
    "print(img_data)\n",
    "print('shape', img_data.shape)"
   ]
  },
  {
   "cell_type": "markdown",
   "metadata": {},
   "source": [
    "There are 10k rows, hence 10k examples. Each example has 32 x 32 image which is 1024px. Each px has (r, g, b) value hence 3 x 1024 = 3072 values for one single image.\n",
    ">  a 10000x3072 numpy array of uint8s. Each row of the array stores a 32x32 colour image. The first 1024 entries contain the red channel values, the next 1024 the green, and the final 1024 the blue. The image is stored in row-major order, so that the first 32 entries of the array are the red channel values of the first row of the image."
   ]
  },
  {
   "cell_type": "markdown",
   "metadata": {},
   "source": [
    "---"
   ]
  },
  {
   "cell_type": "markdown",
   "metadata": {},
   "source": [
    "Now lets check the labels"
   ]
  },
  {
   "cell_type": "code",
   "execution_count": 14,
   "metadata": {},
   "outputs": [
    {
     "name": "stdout",
     "output_type": "stream",
     "text": [
      "[[6]\n",
      " [9]\n",
      " [9]\n",
      " ...\n",
      " [1]\n",
      " [1]\n",
      " [5]]\n",
      "shape (10000, 1)\n"
     ]
    }
   ],
   "source": [
    "print(img_label)\n",
    "print('shape', img_label.shape)"
   ]
  },
  {
   "cell_type": "markdown",
   "metadata": {},
   "source": [
    "Now we have the labels as 10000 x 1 matrix"
   ]
  },
  {
   "cell_type": "markdown",
   "metadata": {},
   "source": [
    "Now lets load the testing data."
   ]
  },
  {
   "cell_type": "code",
   "execution_count": 15,
   "metadata": {},
   "outputs": [],
   "source": [
    "test_X = unpickle(rel_path + 'test_batch');\n",
    "test_data = test_X[b'data']\n",
    "test_label = test_X[b'labels']\n",
    "test_label = np.array(test_label).reshape(-1, 1)"
   ]
  },
  {
   "cell_type": "markdown",
   "metadata": {},
   "source": [
    "Check if the test data shape is same as training data shape"
   ]
  },
  {
   "cell_type": "code",
   "execution_count": 16,
   "metadata": {},
   "outputs": [
    {
     "name": "stdout",
     "output_type": "stream",
     "text": [
      "[[158 159 165 ... 124 129 110]\n",
      " [235 231 232 ... 178 191 199]\n",
      " [158 158 139 ...   8   3   7]\n",
      " ...\n",
      " [ 20  19  15 ...  50  53  47]\n",
      " [ 25  15  23 ...  80  81  80]\n",
      " [ 73  98  99 ...  94  58  26]]\n",
      "shape (10000, 3072)\n"
     ]
    }
   ],
   "source": [
    "print(test_data)\n",
    "print('shape', test_data.shape)"
   ]
  },
  {
   "cell_type": "markdown",
   "metadata": {},
   "source": [
    "Yes it's same. The number of cols in row the vectors is what we are checking."
   ]
  },
  {
   "cell_type": "markdown",
   "metadata": {},
   "source": [
    "---"
   ]
  },
  {
   "cell_type": "markdown",
   "metadata": {},
   "source": [
    "Lets sample first 5 images from the data and see what the image file contains"
   ]
  },
  {
   "cell_type": "code",
   "execution_count": 17,
   "metadata": {},
   "outputs": [
    {
     "name": "stdout",
     "output_type": "stream",
     "text": [
      "[[ 59  43  50 ... 140  84  72]\n",
      " [154 126 105 ... 139 142 144]\n",
      " [255 253 253 ...  83  83  84]\n",
      " ...\n",
      " [ 28  30  33 ... 100  99  96]\n",
      " [134 131 128 ... 136 137 138]\n",
      " [125 110 102 ...  82  84  86]]\n",
      "shape (10, 3072)\n"
     ]
    }
   ],
   "source": [
    "sample_img_data = img_data[0:10, :]\n",
    "print(sample_img_data)\n",
    "print('shape', sample_img_data.shape)"
   ]
  },
  {
   "cell_type": "markdown",
   "metadata": {},
   "source": [
    "Lets get the batch file so that image name can be displayed"
   ]
  },
  {
   "cell_type": "code",
   "execution_count": 18,
   "metadata": {},
   "outputs": [
    {
     "name": "stdout",
     "output_type": "stream",
     "text": [
      "[b'airplane', b'automobile', b'bird', b'cat', b'deer', b'dog', b'frog', b'horse', b'ship', b'truck']\n"
     ]
    }
   ],
   "source": [
    "batch = unpickle(rel_path + 'batches.meta');\n",
    "meta = batch[b'label_names']\n",
    "print(meta)"
   ]
  },
  {
   "cell_type": "markdown",
   "metadata": {},
   "source": [
    "Here is the procedure to show image"
   ]
  },
  {
   "cell_type": "code",
   "execution_count": 19,
   "metadata": {},
   "outputs": [],
   "source": [
    "# %load show_img.py\n",
    "from PIL import Image\n",
    "import numpy as np\n",
    "from IPython.display import display\n",
    "\n",
    "def default_label_fn(i, original):\n",
    "    return original\n",
    "\n",
    "def show_img(img_arr, label_arr, meta, index, label_fn=default_label_fn):\n",
    "    \"\"\"\n",
    "        Given a numpy array of image from CIFAR-10 labels this method transform the data so that PIL can read and show\n",
    "        the image.\n",
    "        Check here how CIFAR encodes the image http://www.cs.toronto.edu/~kriz/cifar.html\n",
    "    \"\"\"\n",
    "    \n",
    "    one_img = img_arr[index, :]\n",
    "    # Assume image size is 32 x 32. First 1024 px is r, next 1024 px is g, last 1024 px is b from the (r,g b) channel\n",
    "    r = one_img[:1024].reshape(32, 32)\n",
    "    g = one_img[1024:2048].reshape(32, 32)\n",
    "    b = one_img[2048:]. reshape(32, 32)\n",
    "    rgb = np.dstack([r, g, b])\n",
    "    img = Image.fromarray(np.array(rgb), 'RGB')\n",
    "    display(img)\n",
    "    print(label_fn(index, meta[label_arr[index][0]].decode('utf-8')))"
   ]
  },
  {
   "cell_type": "code",
   "execution_count": 20,
   "metadata": {},
   "outputs": [
    {
     "data": {
      "image/png": "[encoded data removed]",
      "text/plain": [
       "<PIL.Image.Image image mode=RGB size=32x32 at 0x114211160>"
      ]
     },
     "metadata": {},
     "output_type": "display_data"
    },
    {
     "name": "stdout",
     "output_type": "stream",
     "text": [
      "frog\n"
     ]
    },
    {
     "data": {
      "image/png": "[encoded data removed]",
      "text/plain": [
       "<PIL.Image.Image image mode=RGB size=32x32 at 0x115FFE128>"
      ]
     },
     "metadata": {},
     "output_type": "display_data"
    },
    {
     "name": "stdout",
     "output_type": "stream",
     "text": [
      "truck\n"
     ]
    },
    {
     "data": {
      "image/png": "[encoded data removed]",
      "text/plain": [
       "<PIL.Image.Image image mode=RGB size=32x32 at 0x115FFE080>"
      ]
     },
     "metadata": {},
     "output_type": "display_data"
    },
    {
     "name": "stdout",
     "output_type": "stream",
     "text": [
      "truck\n"
     ]
    },
    {
     "data": {
      "image/png": "[encoded data removed]",
      "text/plain": [
       "<PIL.Image.Image image mode=RGB size=32x32 at 0x114211160>"
      ]
     },
     "metadata": {},
     "output_type": "display_data"
    },
    {
     "name": "stdout",
     "output_type": "stream",
     "text": [
      "deer\n"
     ]
    },
    {
     "data": {
      "image/png": "[encoded data removed]",
      "text/plain": [
       "<PIL.Image.Image image mode=RGB size=32x32 at 0x1142115C0>"
      ]
     },
     "metadata": {},
     "output_type": "display_data"
    },
    {
     "name": "stdout",
     "output_type": "stream",
     "text": [
      "automobile\n"
     ]
    },
    {
     "data": {
      "image/png": "[encoded data removed]",
      "text/plain": [
       "<PIL.Image.Image image mode=RGB size=32x32 at 0x115FFE128>"
      ]
     },
     "metadata": {},
     "output_type": "display_data"
    },
    {
     "name": "stdout",
     "output_type": "stream",
     "text": [
      "automobile\n"
     ]
    },
    {
     "data": {
      "image/png": "[encoded data removed]",
      "text/plain": [
       "<PIL.Image.Image image mode=RGB size=32x32 at 0x114211160>"
      ]
     },
     "metadata": {},
     "output_type": "display_data"
    },
    {
     "name": "stdout",
     "output_type": "stream",
     "text": [
      "bird\n"
     ]
    },
    {
     "data": {
      "image/png": "[encoded data removed]",
      "text/plain": [
       "<PIL.Image.Image image mode=RGB size=32x32 at 0x116064DA0>"
      ]
     },
     "metadata": {},
     "output_type": "display_data"
    },
    {
     "name": "stdout",
     "output_type": "stream",
     "text": [
      "horse\n"
     ]
    },
    {
     "data": {
      "image/png": "[encoded data removed]",
      "text/plain": [
       "<PIL.Image.Image image mode=RGB size=32x32 at 0x115FFE080>"
      ]
     },
     "metadata": {},
     "output_type": "display_data"
    },
    {
     "name": "stdout",
     "output_type": "stream",
     "text": [
      "ship\n"
     ]
    },
    {
     "data": {
      "image/png": "[encoded data removed]",
      "text/plain": [
       "<PIL.Image.Image image mode=RGB size=32x32 at 0x116064DA0>"
      ]
     },
     "metadata": {},
     "output_type": "display_data"
    },
    {
     "name": "stdout",
     "output_type": "stream",
     "text": [
      "cat\n"
     ]
    }
   ],
   "source": [
    "import show_img as si\n",
    "for i in range(0, 10):\n",
    "    si.show_img(sample_img_data, img_label, meta, i)"
   ]
  },
  {
   "cell_type": "markdown",
   "metadata": {},
   "source": [
    "Lets run our KNN algorithm now"
   ]
  },
  {
   "cell_type": "markdown",
   "metadata": {},
   "source": [
    "*Since this algorith is slow, it takes time to run the model and get predicted outcome. Select the number of test data on which you would want to run the model.*"
   ]
  },
  {
   "cell_type": "code",
   "execution_count": 21,
   "metadata": {},
   "outputs": [],
   "source": [
    "data_point_no = 10"
   ]
  },
  {
   "cell_type": "code",
   "execution_count": 22,
   "metadata": {},
   "outputs": [
    {
     "name": "stdout",
     "output_type": "stream",
     "text": [
      "completed 10 of total 10\n"
     ]
    }
   ],
   "source": [
    "import time\n",
    "def progress(i, total):\n",
    "    clear_output(wait=True)\n",
    "    print('completed ' + str(i + 1) + ' of total ' + str(total))\n",
    "    time.sleep(10)\n",
    "    \n",
    "sample_test_data = test_data[:data_point_no, :]\n",
    "knn = knnalgo.KNN(3, progress_fn=progress) # 3 Nearest neighbour\n",
    "knn.train(img_data, img_label)\n",
    "Ypred = knn.predict(sample_test_data)"
   ]
  },
  {
   "cell_type": "markdown",
   "metadata": {},
   "source": [
    "Lets look at the result now"
   ]
  },
  {
   "cell_type": "code",
   "execution_count": 23,
   "metadata": {},
   "outputs": [
    {
     "data": {
      "image/png": "[encoded data removed]",
      "text/plain": [
       "<PIL.Image.Image image mode=RGB size=32x32 at 0x11628ED30>"
      ]
     },
     "metadata": {},
     "output_type": "display_data"
    },
    {
     "name": "stdout",
     "output_type": "stream",
     "text": [
      "cat::airplane\n"
     ]
    },
    {
     "data": {
      "image/png": "[encoded data removed]",
      "text/plain": [
       "<PIL.Image.Image image mode=RGB size=32x32 at 0x11628EAC8>"
      ]
     },
     "metadata": {},
     "output_type": "display_data"
    },
    {
     "name": "stdout",
     "output_type": "stream",
     "text": [
      "ship::truck\n"
     ]
    },
    {
     "data": {
      "image/png": "[encoded data removed]",
      "text/plain": [
       "<PIL.Image.Image image mode=RGB size=32x32 at 0x11628ED30>"
      ]
     },
     "metadata": {},
     "output_type": "display_data"
    },
    {
     "name": "stdout",
     "output_type": "stream",
     "text": [
      "ship::ship\n"
     ]
    },
    {
     "data": {
      "image/png": "[encoded data removed]",
      "text/plain": [
       "<PIL.Image.Image image mode=RGB size=32x32 at 0x11628EB00>"
      ]
     },
     "metadata": {},
     "output_type": "display_data"
    },
    {
     "name": "stdout",
     "output_type": "stream",
     "text": [
      "airplane::bird\n"
     ]
    },
    {
     "data": {
      "image/png": "[encoded data removed]",
      "text/plain": [
       "<PIL.Image.Image image mode=RGB size=32x32 at 0x11628ED30>"
      ]
     },
     "metadata": {},
     "output_type": "display_data"
    },
    {
     "name": "stdout",
     "output_type": "stream",
     "text": [
      "frog::cat\n"
     ]
    },
    {
     "data": {
      "image/png": "[encoded data removed]",
      "text/plain": [
       "<PIL.Image.Image image mode=RGB size=32x32 at 0x11628EB00>"
      ]
     },
     "metadata": {},
     "output_type": "display_data"
    },
    {
     "name": "stdout",
     "output_type": "stream",
     "text": [
      "frog::frog\n"
     ]
    },
    {
     "data": {
      "image/png": "[encoded data removed]",
      "text/plain": [
       "<PIL.Image.Image image mode=RGB size=32x32 at 0x11628E0B8>"
      ]
     },
     "metadata": {},
     "output_type": "display_data"
    },
    {
     "name": "stdout",
     "output_type": "stream",
     "text": [
      "automobile::bird\n"
     ]
    },
    {
     "data": {
      "image/png": "[encoded data removed]",
      "text/plain": [
       "<PIL.Image.Image image mode=RGB size=32x32 at 0x11628EB00>"
      ]
     },
     "metadata": {},
     "output_type": "display_data"
    },
    {
     "name": "stdout",
     "output_type": "stream",
     "text": [
      "frog::deer\n"
     ]
    },
    {
     "data": {
      "image/png": "[encoded data removed]",
      "text/plain": [
       "<PIL.Image.Image image mode=RGB size=32x32 at 0x11628ED30>"
      ]
     },
     "metadata": {},
     "output_type": "display_data"
    },
    {
     "name": "stdout",
     "output_type": "stream",
     "text": [
      "cat::bird\n"
     ]
    },
    {
     "data": {
      "image/png": "[encoded data removed]",
      "text/plain": [
       "<PIL.Image.Image image mode=RGB size=32x32 at 0x11628EAC8>"
      ]
     },
     "metadata": {},
     "output_type": "display_data"
    },
    {
     "name": "stdout",
     "output_type": "stream",
     "text": [
      "automobile::bird\n"
     ]
    }
   ],
   "source": [
    "def pred_label_fn(i, original):\n",
    "    return original + '::' + meta[Ypred[i]].decode('utf-8')\n",
    "    \n",
    "for i in range(0, len(Ypred)):\n",
    "    si.show_img(sample_test_data, test_label, meta, i, label_fn=pred_label_fn)"
   ]
  },
  {
   "cell_type": "markdown",
   "metadata": {},
   "source": [
    "# SOA solution"
   ]
  },
  {
   "cell_type": "code",
   "execution_count": 24,
   "metadata": {},
   "outputs": [],
   "source": [
    "from sklearn.neighbors import KNeighborsClassifier"
   ]
  },
  {
   "cell_type": "code",
   "execution_count": 25,
   "metadata": {},
   "outputs": [],
   "source": [
    "nbrs = KNeighborsClassifier(n_neighbors=3, algorithm='brute').fit(img_data, img_label_orig)\n",
    "YPred_soa = nbrs.predict(sample_test_data)"
   ]
  },
  {
   "cell_type": "code",
   "execution_count": 26,
   "metadata": {},
   "outputs": [
    {
     "data": {
      "image/png": "[encoded data removed]",
      "text/plain": [
       "<PIL.Image.Image image mode=RGB size=32x32 at 0x11A983860>"
      ]
     },
     "metadata": {},
     "output_type": "display_data"
    },
    {
     "name": "stdout",
     "output_type": "stream",
     "text": [
      "cat::deer\n"
     ]
    },
    {
     "data": {
      "image/png": "[encoded data removed]",
      "text/plain": [
       "<PIL.Image.Image image mode=RGB size=32x32 at 0x11A9837B8>"
      ]
     },
     "metadata": {},
     "output_type": "display_data"
    },
    {
     "name": "stdout",
     "output_type": "stream",
     "text": [
      "ship::ship\n"
     ]
    },
    {
     "data": {
      "image/png": "[encoded data removed]",
      "text/plain": [
       "<PIL.Image.Image image mode=RGB size=32x32 at 0x11A983898>"
      ]
     },
     "metadata": {},
     "output_type": "display_data"
    },
    {
     "name": "stdout",
     "output_type": "stream",
     "text": [
      "ship::ship\n"
     ]
    },
    {
     "data": {
      "image/png": "[encoded data removed]",
      "text/plain": [
       "<PIL.Image.Image image mode=RGB size=32x32 at 0x11A9837B8>"
      ]
     },
     "metadata": {},
     "output_type": "display_data"
    },
    {
     "name": "stdout",
     "output_type": "stream",
     "text": [
      "airplane::airplane\n"
     ]
    },
    {
     "data": {
      "image/png": "[encoded data removed]",
      "text/plain": [
       "<PIL.Image.Image image mode=RGB size=32x32 at 0x11A983860>"
      ]
     },
     "metadata": {},
     "output_type": "display_data"
    },
    {
     "name": "stdout",
     "output_type": "stream",
     "text": [
      "frog::dog\n"
     ]
    },
    {
     "data": {
      "image/png": "[encoded data removed]",
      "text/plain": [
       "<PIL.Image.Image image mode=RGB size=32x32 at 0x11A983898>"
      ]
     },
     "metadata": {},
     "output_type": "display_data"
    },
    {
     "name": "stdout",
     "output_type": "stream",
     "text": [
      "frog::bird\n"
     ]
    },
    {
     "data": {
      "image/png": "[encoded data removed]",
      "text/plain": [
       "<PIL.Image.Image image mode=RGB size=32x32 at 0x11A9838D0>"
      ]
     },
     "metadata": {},
     "output_type": "display_data"
    },
    {
     "name": "stdout",
     "output_type": "stream",
     "text": [
      "automobile::cat\n"
     ]
    },
    {
     "data": {
      "image/png": "[encoded data removed]",
      "text/plain": [
       "<PIL.Image.Image image mode=RGB size=32x32 at 0x11A9837B8>"
      ]
     },
     "metadata": {},
     "output_type": "display_data"
    },
    {
     "name": "stdout",
     "output_type": "stream",
     "text": [
      "frog::bird\n"
     ]
    },
    {
     "data": {
      "image/png": "[encoded data removed]",
      "text/plain": [
       "<PIL.Image.Image image mode=RGB size=32x32 at 0x11A983748>"
      ]
     },
     "metadata": {},
     "output_type": "display_data"
    },
    {
     "name": "stdout",
     "output_type": "stream",
     "text": [
      "cat::bird\n"
     ]
    },
    {
     "data": {
      "image/png": "[encoded data removed]",
      "text/plain": [
       "<PIL.Image.Image image mode=RGB size=32x32 at 0x11A9837F0>"
      ]
     },
     "metadata": {},
     "output_type": "display_data"
    },
    {
     "name": "stdout",
     "output_type": "stream",
     "text": [
      "automobile::ship\n"
     ]
    }
   ],
   "source": [
    "def pred_label_fn(i, original):\n",
    "    return original + '::' + meta[YPred_soa[i]].decode('utf-8')\n",
    "\n",
    "for i in range(0, len(YPred_soa)):\n",
    "    si.show_img(sample_test_data, test_label, meta, i, label_fn=pred_label_fn)"
   ]
  },
  {
   "cell_type": "code",
   "execution_count": null,
   "metadata": {},
   "outputs": [],
   "source": []
  }
 ],
 "metadata": {
  "kernelspec": {
   "display_name": "Python 3",
   "language": "python",
   "name": "python3"
  },
  "language_info": {
   "codemirror_mode": {
    "name": "ipython",
    "version": 3
   },
   "file_extension": ".py",
   "mimetype": "text/x-python",
   "name": "python",
   "nbconvert_exporter": "python",
   "pygments_lexer": "ipython3",
   "version": "3.6.1"
  }
 },
 "nbformat": 4,
 "nbformat_minor": 2
}
