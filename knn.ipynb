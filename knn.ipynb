{
 "cells": [
  {
   "cell_type": "markdown",
   "metadata": {},
   "source": [
    "*Python Executables*"
   ]
  },
  {
   "cell_type": "code",
   "execution_count": 1,
   "metadata": {},
   "outputs": [
    {
     "data": {
      "text/plain": [
       "'/Library/Frameworks/Python.framework/Versions/3.6/bin/python3'"
      ]
     },
     "execution_count": 1,
     "metadata": {},
     "output_type": "execute_result"
    }
   ],
   "source": [
    "import sys\n",
    "sys.executable"
   ]
  },
  {
   "cell_type": "markdown",
   "metadata": {},
   "source": [
    "# K Nearest Neighbour"
   ]
  },
  {
   "cell_type": "code",
   "execution_count": 2,
   "metadata": {},
   "outputs": [],
   "source": [
    "import pandas as pd\n",
    "import numpy as np\n",
    "from vega3 import VegaLite"
   ]
  },
  {
   "cell_type": "markdown",
   "metadata": {},
   "source": [
    "## Prepare data"
   ]
  },
  {
   "cell_type": "markdown",
   "metadata": {},
   "source": [
    "Here is the logic to generate our own clustered dataset. This is fairly simple. First the logic creates cluster center randomly. Then it generates points with a given standard deviation"
   ]
  },
  {
   "cell_type": "code",
   "execution_count": 3,
   "metadata": {},
   "outputs": [],
   "source": [
    "# %load gen_points.py\n",
    "import numpy as np\n",
    "import random\n",
    "import math\n",
    "\n",
    "def gen_points(val_seed_xy=(80, 100), num_class=2, num_points=100, global_std=20):\n",
    "    # cluster center\n",
    "    centers = []\n",
    "    for i in range(num_class):\n",
    "        centers.append((val_seed_xy[0] * random.random(), val_seed_xy[1] * random.random()))\n",
    "    \n",
    "    # Points near centers\n",
    "    X = np.empty(shape=[0, 2])\n",
    "    y = np.empty(shape=[0, 1])\n",
    "    for i in range(num_points):\n",
    "        cls = num_class * random.random()\n",
    "        cls = math.floor(cls)\n",
    "        xcord = centers[cls][0] + global_std * random.random()\n",
    "        ycord = centers[cls][1] + global_std * random.random()\n",
    "        X = np.append(X, [[xcord, ycord]], axis=0)\n",
    "        y = np.append(y, [[cls]], axis=0)\n",
    "    \n",
    "    return (X, y)"
   ]
  },
  {
   "cell_type": "markdown",
   "metadata": {},
   "source": [
    "Here we have our own clusters of point. Now visualize it to check if the data which has been generated is according yo our expectation or not."
   ]
  },
  {
   "cell_type": "code",
   "execution_count": 12,
   "metadata": {},
   "outputs": [],
   "source": [
    "(X, y) = gen_points()"
   ]
  },
  {
   "cell_type": "markdown",
   "metadata": {},
   "source": [
    "Now that we have our data ready, lets make a dataframe so that we can visualize it"
   ]
  },
  {
   "cell_type": "code",
   "execution_count": 13,
   "metadata": {},
   "outputs": [
    {
     "data": {
      "text/html": [
       "<div>\n",
       "<style scoped>\n",
       "    .dataframe tbody tr th:only-of-type {\n",
       "        vertical-align: middle;\n",
       "    }\n",
       "\n",
       "    .dataframe tbody tr th {\n",
       "        vertical-align: top;\n",
       "    }\n",
       "\n",
       "    .dataframe thead th {\n",
       "        text-align: right;\n",
       "    }\n",
       "</style>\n",
       "<table border=\"1\" class=\"dataframe\">\n",
       "  <thead>\n",
       "    <tr style=\"text-align: right;\">\n",
       "      <th></th>\n",
       "      <th>x</th>\n",
       "      <th>y</th>\n",
       "      <th>c</th>\n",
       "    </tr>\n",
       "  </thead>\n",
       "  <tbody>\n",
       "    <tr>\n",
       "      <th>0</th>\n",
       "      <td>76.398897</td>\n",
       "      <td>10.097186</td>\n",
       "      <td>1.0</td>\n",
       "    </tr>\n",
       "    <tr>\n",
       "      <th>1</th>\n",
       "      <td>28.021109</td>\n",
       "      <td>100.895462</td>\n",
       "      <td>0.0</td>\n",
       "    </tr>\n",
       "    <tr>\n",
       "      <th>2</th>\n",
       "      <td>43.033187</td>\n",
       "      <td>98.051409</td>\n",
       "      <td>0.0</td>\n",
       "    </tr>\n",
       "    <tr>\n",
       "      <th>3</th>\n",
       "      <td>84.273856</td>\n",
       "      <td>8.172033</td>\n",
       "      <td>1.0</td>\n",
       "    </tr>\n",
       "    <tr>\n",
       "      <th>4</th>\n",
       "      <td>70.007736</td>\n",
       "      <td>17.194023</td>\n",
       "      <td>1.0</td>\n",
       "    </tr>\n",
       "  </tbody>\n",
       "</table>\n",
       "</div>"
      ],
      "text/plain": [
       "           x           y    c\n",
       "0  76.398897   10.097186  1.0\n",
       "1  28.021109  100.895462  0.0\n",
       "2  43.033187   98.051409  0.0\n",
       "3  84.273856    8.172033  1.0\n",
       "4  70.007736   17.194023  1.0"
      ]
     },
     "execution_count": 13,
     "metadata": {},
     "output_type": "execute_result"
    }
   ],
   "source": [
    "columns = [\"x\", \"y\", \"c\"]\n",
    "mat = np.hstack((X, y))\n",
    "df = pd.DataFrame(mat, columns=columns)\n",
    "df.head()"
   ]
  },
  {
   "cell_type": "markdown",
   "metadata": {},
   "source": [
    "Now lets visualize it"
   ]
  },
  {
   "cell_type": "code",
   "execution_count": 14,
   "metadata": {},
   "outputs": [
    {
     "data": {
      "text/html": [
       "<div class=\"vega-embed\" id=\"8641a6c7-cc0b-4c3c-bb92-56403d5ea5b8\"></div>\n",
       "\n",
       "<style>\n",
       ".vega-embed svg, .vega-embed canvas {\n",
       "  border: 1px dotted gray;\n",
       "}\n",
       "\n",
       ".vega-embed .vega-actions a {\n",
       "  margin-right: 6px;\n",
       "}\n",
       "</style>\n"
      ]
     },
     "metadata": {
      "jupyter-vega3": "#8641a6c7-cc0b-4c3c-bb92-56403d5ea5b8"
     },
     "output_type": "display_data"
    },
    {
     "data": {
      "application/javascript": [
       "var spec = {\"mark\": {\"type\": \"point\", \"filled\": \"true\"}, \"encoding\": {\"y\": {\"type\": \"quantitative\", \"field\": \"y\", \"scale\": {\"domain\": [-1.8279672587023867, 120.72860881769026]}}, \"x\": {\"type\": \"quantitative\", \"field\": \"x\", \"scale\": {\"domain\": [13.343606902303481, 97.92320142901531]}}, \"color\": {\"type\": \"nominal\", \"field\": \"c\"}}, \"data\": {\"values\": [{\"x\": 76.39889744939799, \"y\": 10.0971858989706, \"c\": 1.0}, {\"x\": 28.021108568089595, \"y\": 100.89546232944268, \"c\": 0.0}, {\"x\": 43.033186851063604, \"y\": 98.05140934815009, \"c\": 0.0}, {\"x\": 84.27385606711943, \"y\": 8.172032741297613, \"c\": 1.0}, {\"x\": 70.00773611139736, \"y\": 17.19402254396619, \"c\": 1.0}, {\"x\": 41.64541191075488, \"y\": 102.955693981286, \"c\": 0.0}, {\"x\": 34.09475862446917, \"y\": 96.5980407701303, \"c\": 0.0}, {\"x\": 37.20931956748244, \"y\": 99.08989289891865, \"c\": 0.0}, {\"x\": 68.36561714362742, \"y\": 22.282666022583765, \"c\": 1.0}, {\"x\": 32.91347284301345, \"y\": 94.41094603453914, \"c\": 0.0}, {\"x\": 80.94924180229935, \"y\": 10.605712878644324, \"c\": 1.0}, {\"x\": 37.61524975615772, \"y\": 100.64327806451294, \"c\": 0.0}, {\"x\": 37.57854250648013, \"y\": 101.17014930386124, \"c\": 0.0}, {\"x\": 87.92320142901531, \"y\": 8.82166626055622, \"c\": 1.0}, {\"x\": 23.865662250642604, \"y\": 98.29391081387334, \"c\": 0.0}, {\"x\": 70.14004028956683, \"y\": 24.294387009504632, \"c\": 1.0}, {\"x\": 81.62672925576996, \"y\": 16.81896167567504, \"c\": 1.0}, {\"x\": 26.012161966026795, \"y\": 97.58186054377815, \"c\": 0.0}, {\"x\": 37.23346255982325, \"y\": 94.01136970165908, \"c\": 0.0}, {\"x\": 71.74604894577087, \"y\": 11.735275947390607, \"c\": 1.0}, {\"x\": 25.64909499151642, \"y\": 107.99578469967472, \"c\": 0.0}, {\"x\": 37.46316111634925, \"y\": 100.46963094584203, \"c\": 0.0}, {\"x\": 27.806239881192077, \"y\": 101.57258948188404, \"c\": 0.0}, {\"x\": 85.15668911662762, \"y\": 17.809421258972176, \"c\": 1.0}, {\"x\": 25.97575856247706, \"y\": 110.72860881769026, \"c\": 0.0}, {\"x\": 84.9289366749422, \"y\": 14.477545230849302, \"c\": 1.0}, {\"x\": 76.4758998177469, \"y\": 9.974459578764305, \"c\": 1.0}, {\"x\": 28.780909687330134, \"y\": 101.09209708704135, \"c\": 0.0}, {\"x\": 27.678182400841315, \"y\": 101.1883012087291, \"c\": 0.0}, {\"x\": 28.454458591719728, \"y\": 96.0509401796024, \"c\": 0.0}, {\"x\": 68.23659970345015, \"y\": 11.31368019016801, \"c\": 1.0}, {\"x\": 73.75760397869782, \"y\": 22.013878025049646, \"c\": 1.0}, {\"x\": 23.34360690230348, \"y\": 106.59124900973546, \"c\": 0.0}, {\"x\": 24.44953907133557, \"y\": 96.30966712709879, \"c\": 0.0}, {\"x\": 86.04973289150361, \"y\": 10.272411832488878, \"c\": 1.0}, {\"x\": 25.10559963165204, \"y\": 105.4215874117877, \"c\": 0.0}, {\"x\": 37.965851174576386, \"y\": 91.74318948231053, \"c\": 0.0}, {\"x\": 83.2378135779941, \"y\": 15.410104058319593, \"c\": 1.0}, {\"x\": 30.734704414313313, \"y\": 91.67699347271501, \"c\": 0.0}, {\"x\": 23.98971966685104, \"y\": 93.1163224102152, \"c\": 0.0}, {\"x\": 28.448612478458067, \"y\": 97.72076338379236, \"c\": 0.0}, {\"x\": 42.0448363410547, \"y\": 95.72389567786963, \"c\": 0.0}, {\"x\": 74.14803486308561, \"y\": 17.443867302837788, \"c\": 1.0}, {\"x\": 76.71459729604507, \"y\": 25.28871723208012, \"c\": 1.0}, {\"x\": 28.45521485631431, \"y\": 99.1547686275346, \"c\": 0.0}, {\"x\": 30.011160421721524, \"y\": 110.30987552294496, \"c\": 0.0}, {\"x\": 74.02891212336145, \"y\": 20.44276793137825, \"c\": 1.0}, {\"x\": 31.960892230797, \"y\": 104.31402235049731, \"c\": 0.0}, {\"x\": 32.19140970158227, \"y\": 99.84366882106393, \"c\": 0.0}, {\"x\": 79.76096392225296, \"y\": 13.71097118015188, \"c\": 1.0}, {\"x\": 68.43363108645754, \"y\": 18.041656098790426, \"c\": 1.0}, {\"x\": 80.52357025376327, \"y\": 14.716406337377375, \"c\": 1.0}, {\"x\": 25.689085058980417, \"y\": 97.96595890805531, \"c\": 0.0}, {\"x\": 26.577362880432588, \"y\": 104.86068047681175, \"c\": 0.0}, {\"x\": 86.26431974147667, \"y\": 26.452044755942484, \"c\": 1.0}, {\"x\": 28.184001205904572, \"y\": 102.40762924807805, \"c\": 0.0}, {\"x\": 80.01836288264509, \"y\": 26.39770256433652, \"c\": 1.0}, {\"x\": 33.340291020873885, \"y\": 96.58707912059306, \"c\": 0.0}, {\"x\": 40.57465258261344, \"y\": 101.65012235697284, \"c\": 0.0}, {\"x\": 84.79624653998076, \"y\": 10.607378051645801, \"c\": 1.0}, {\"x\": 31.7059663634845, \"y\": 98.12658900808944, \"c\": 0.0}, {\"x\": 26.93671906536305, \"y\": 93.44835970339331, \"c\": 0.0}, {\"x\": 26.969125611782868, \"y\": 104.0552196861163, \"c\": 0.0}, {\"x\": 79.87511731367871, \"y\": 23.775500199781188, \"c\": 1.0}, {\"x\": 80.0020558365717, \"y\": 9.265858233492326, \"c\": 1.0}, {\"x\": 38.965479192596675, \"y\": 98.73609072170609, \"c\": 0.0}, {\"x\": 33.85494376524568, \"y\": 106.33376407513312, \"c\": 0.0}, {\"x\": 25.325060362281356, \"y\": 104.54402965370666, \"c\": 0.0}, {\"x\": 26.521910137583966, \"y\": 91.81191952221918, \"c\": 0.0}, {\"x\": 28.5790835362481, \"y\": 100.54954033184265, \"c\": 0.0}, {\"x\": 28.717457160782484, \"y\": 92.7554964631241, \"c\": 0.0}, {\"x\": 86.01332457855398, \"y\": 16.259262583706093, \"c\": 1.0}, {\"x\": 76.23070320885705, \"y\": 25.613051003085328, \"c\": 1.0}, {\"x\": 74.14774713069271, \"y\": 8.497121570291997, \"c\": 1.0}, {\"x\": 40.25703913763036, \"y\": 94.9213705155476, \"c\": 0.0}, {\"x\": 71.65117258899542, \"y\": 8.43000127053854, \"c\": 1.0}, {\"x\": 35.18115968654517, \"y\": 107.93642305013071, \"c\": 0.0}, {\"x\": 73.8818484513952, \"y\": 16.92996133878909, \"c\": 1.0}, {\"x\": 41.36591675209244, \"y\": 103.38227705910272, \"c\": 0.0}, {\"x\": 42.55253488916943, \"y\": 99.07201727547475, \"c\": 0.0}, {\"x\": 35.16202594532754, \"y\": 110.22166330473408, \"c\": 0.0}, {\"x\": 32.54139904743417, \"y\": 102.53839417830437, \"c\": 0.0}, {\"x\": 73.63648630921428, \"y\": 19.241167638060585, \"c\": 1.0}, {\"x\": 25.35278219883538, \"y\": 97.39995657682935, \"c\": 0.0}, {\"x\": 38.04688032192442, \"y\": 108.82900042760733, \"c\": 0.0}, {\"x\": 70.49689548313253, \"y\": 14.316660707606172, \"c\": 1.0}, {\"x\": 68.47312851431471, \"y\": 17.614790208395743, \"c\": 1.0}, {\"x\": 82.21445087375692, \"y\": 24.166773174464943, \"c\": 1.0}, {\"x\": 86.01731316441257, \"y\": 15.725021213709613, \"c\": 1.0}, {\"x\": 84.8677747024851, \"y\": 15.476100299945312, \"c\": 1.0}, {\"x\": 86.0157469981146, \"y\": 12.943974452336352, \"c\": 1.0}, {\"x\": 84.947410107007, \"y\": 13.55914286474708, \"c\": 1.0}, {\"x\": 38.9760966708385, \"y\": 101.91908511549812, \"c\": 0.0}, {\"x\": 36.24269744256378, \"y\": 102.02385611918436, \"c\": 0.0}, {\"x\": 31.494895249816526, \"y\": 106.02803174053192, \"c\": 0.0}, {\"x\": 32.15801357883694, \"y\": 104.70034456652132, \"c\": 0.0}, {\"x\": 85.95009636080276, \"y\": 13.466135001296227, \"c\": 1.0}, {\"x\": 76.72039123031034, \"y\": 17.386524658560624, \"c\": 1.0}, {\"x\": 75.0854915560693, \"y\": 12.71666511620198, \"c\": 1.0}, {\"x\": 34.20388741716097, \"y\": 93.37368819862381, \"c\": 0.0}]}};\n",
       "var selector = \"#8641a6c7-cc0b-4c3c-bb92-56403d5ea5b8\";\n",
       "var type = \"vega-lite\";\n",
       "\n",
       "var output_area = this;\n",
       "require(['nbextensions/jupyter-vega3/index'], function(vega) {\n",
       "  vega.render(selector, spec, type, output_area);\n",
       "}, function (err) {\n",
       "  if (err.requireType !== 'scripterror') {\n",
       "    throw(err);\n",
       "  }\n",
       "});\n"
      ]
     },
     "metadata": {
      "jupyter-vega3": "#8641a6c7-cc0b-4c3c-bb92-56403d5ea5b8"
     },
     "output_type": "display_data"
    },
    {
     "data": {
      "image/png": "[encoded data removed]"
     },
     "metadata": {
      "jupyter-vega3": "#8641a6c7-cc0b-4c3c-bb92-56403d5ea5b8"
     },
     "output_type": "display_data"
    }
   ],
   "source": [
    "VegaLite({\n",
    "    \"mark\": { \"type\": \"point\", \"filled\": \"true\" },\n",
    "    \"encoding\": {\n",
    "        \"y\": { \n",
    "            \"type\": \"quantitative\",\n",
    "            \"field\": \"y\",\n",
    "            \"scale\": { \n",
    "                \"domain\": [df['y'].min() - 10, df['y'].max() + 10]\n",
    "            } \n",
    "        },\n",
    "        \"x\": { \n",
    "            \"type\": \"quantitative\", \n",
    "            \"field\": \"x\", \n",
    "            \"scale\": { \n",
    "                \"domain\": [df['x'].min() - 10, df['x'].max() + 10]\n",
    "            } \n",
    "        },\n",
    "        \"color\": { \"type\": \"nominal\", \"field\": \"c\" }\n",
    "    }\n",
    "}, df)"
   ]
  },
  {
   "cell_type": "markdown",
   "metadata": {},
   "source": [
    "Looks like we can apply clear classification with this dataset."
   ]
  },
  {
   "cell_type": "markdown",
   "metadata": {},
   "source": [
    "*You can optionally save the dataset if you want*"
   ]
  },
  {
   "cell_type": "code",
   "execution_count": 8,
   "metadata": {},
   "outputs": [],
   "source": [
    "df.to_csv('gen-data.csv', index=False)"
   ]
  },
  {
   "cell_type": "markdown",
   "metadata": {},
   "source": [
    "## Algorithm"
   ]
  },
  {
   "cell_type": "markdown",
   "metadata": {},
   "source": [
    "The algorithm is pretty simple. The visual illustration of the algorithm is here [link goes here]"
   ]
  },
  {
   "cell_type": "code",
   "execution_count": 15,
   "metadata": {},
   "outputs": [],
   "source": [
    "# %load knn_algo.py\n",
    "import numpy as np\n",
    "\n",
    "class KNN:\n",
    "    def __init__ (self, k):\n",
    "        \"\"\" Pass k as the hyperparameter\"\"\"\n",
    "        self.k = k\n",
    "\n",
    "    def train(self, X, y):\n",
    "        \"\"\"\n",
    "            X is the example training matrix. Every row of X contains one training example. Each training example\n",
    "            may have `d` features. If there are `m` such examples then X is `m x d` matrix.\n",
    "            y is the label matrix corrosponding to each training example. Hence y is `m x 1` matrix.\n",
    "        \"\"\"\n",
    "\n",
    "        # During training time stores the references of the input only\n",
    "        self.tX = X\n",
    "        self.ty = y\n",
    "\n",
    "    def predict(self, X):\n",
    "        \"\"\"\n",
    "            Predict y based on test data X.\n",
    "        \"\"\"\n",
    "\n",
    "        num_training = X.shape[0]\n",
    "        YPred = np.zeros(num_training, dtype = self.ty.dtype)\n",
    "\n",
    "        for i in range(num_training):\n",
    "            # Euclidean distance is used to find out the distance between two datapoint.\n",
    "            distances = np.reshape(np.sqrt(np.sum(np.square(self.tX - X[i, :]), axis=1)), (-1, 1))\n",
    "            # Along with the distance stack the labels so that we can vote easily\n",
    "            distance_label = np.hstack((distances, self.ty))\n",
    "            # Simple majority voting based on the minimum distance\n",
    "            sorted_distance = distance_label[distance_label[:,0].argsort()]\n",
    "            k_sorted_distance = sorted_distance[:self.k,:]\n",
    "            (labels, occurence) = np.unique(k_sorted_distance[:, 1], return_counts=True)\n",
    "            label = labels[occurence.argsort()[0]]\n",
    "            YPred[i] = label\n",
    "\n",
    "        return YPred"
   ]
  },
  {
   "cell_type": "markdown",
   "metadata": {},
   "source": [
    "Now that our KNN algorithm is ready. Lets use it with our existing dataset"
   ]
  },
  {
   "cell_type": "code",
   "execution_count": 16,
   "metadata": {},
   "outputs": [
    {
     "data": {
      "text/plain": [
       "array([0., 1.])"
      ]
     },
     "execution_count": 16,
     "metadata": {},
     "output_type": "execute_result"
    }
   ],
   "source": [
    "import knn_algo as knnalgo\n",
    "knn = knnalgo.KNN(3) # 3 Nearest neighbour\n",
    "knn.train(X, y)\n",
    "knn.predict(np.array([[10, 100], [10, 10]]))"
   ]
  },
  {
   "cell_type": "markdown",
   "metadata": {},
   "source": [
    "Its classifying our data correctly."
   ]
  },
  {
   "cell_type": "markdown",
   "metadata": {},
   "source": [
    "# Real data"
   ]
  },
  {
   "cell_type": "markdown",
   "metadata": {},
   "source": [
    "Base locaiton where data resides.\n",
    "\n",
    "Download the data from http://www.cs.toronto.edu/~kriz/cifar.html"
   ]
  },
  {
   "cell_type": "code",
   "execution_count": 12,
   "metadata": {},
   "outputs": [],
   "source": [
    "basedir_data = \"./data/\""
   ]
  },
  {
   "cell_type": "code",
   "execution_count": 13,
   "metadata": {},
   "outputs": [],
   "source": [
    "rel_path = basedir_data + \"cifar-10-batches-py/\""
   ]
  },
  {
   "cell_type": "markdown",
   "metadata": {},
   "source": [
    "Deserialize image files"
   ]
  },
  {
   "cell_type": "code",
   "execution_count": 15,
   "metadata": {},
   "outputs": [],
   "source": [
    "def unpickle(file):\n",
    "    import pickle\n",
    "    with open(file, 'rb') as fo:\n",
    "        dict = pickle.load(fo, encoding='bytes')\n",
    "    return dict\n",
    "\n",
    "X = unpickle(rel_path + 'data_batch_1')\n",
    "img_data = X[b'data']\n",
    "img_label = X[b'labels']\n",
    "img_label = np.array(img_label).reshape(-1, 1)"
   ]
  },
  {
   "cell_type": "markdown",
   "metadata": {},
   "source": [
    "Now that our data and labels are loaded lets check the same"
   ]
  },
  {
   "cell_type": "code",
   "execution_count": 16,
   "metadata": {},
   "outputs": [
    {
     "name": "stdout",
     "output_type": "stream",
     "text": [
      "[[ 59  43  50 ... 140  84  72]\n",
      " [154 126 105 ... 139 142 144]\n",
      " [255 253 253 ...  83  83  84]\n",
      " ...\n",
      " [ 71  60  74 ...  68  69  68]\n",
      " [250 254 211 ... 215 255 254]\n",
      " [ 62  61  60 ... 130 130 131]]\n",
      "shape (10000, 3072)\n"
     ]
    }
   ],
   "source": [
    "print(img_data)\n",
    "print('shape', img_data.shape)"
   ]
  },
  {
   "cell_type": "markdown",
   "metadata": {},
   "source": [
    "There are 10k rows, hence 10k examples. Each example has 32 x 32 image which is 1024px. Each px has (r, g, b) value hence 3 x 1024 = 3072 values for one single image.\n",
    ">  a 10000x3072 numpy array of uint8s. Each row of the array stores a 32x32 colour image. The first 1024 entries contain the red channel values, the next 1024 the green, and the final 1024 the blue. The image is stored in row-major order, so that the first 32 entries of the array are the red channel values of the first row of the image."
   ]
  },
  {
   "cell_type": "markdown",
   "metadata": {},
   "source": [
    "---"
   ]
  },
  {
   "cell_type": "markdown",
   "metadata": {},
   "source": [
    "Now lets check the labels"
   ]
  },
  {
   "cell_type": "code",
   "execution_count": 17,
   "metadata": {},
   "outputs": [
    {
     "name": "stdout",
     "output_type": "stream",
     "text": [
      "[[6]\n",
      " [9]\n",
      " [9]\n",
      " ...\n",
      " [1]\n",
      " [1]\n",
      " [5]]\n",
      "shape (10000, 1)\n"
     ]
    }
   ],
   "source": [
    "print(img_label)\n",
    "print('shape', img_label.shape)"
   ]
  },
  {
   "cell_type": "markdown",
   "metadata": {},
   "source": [
    "Now we have the labels as 10000 x 1 matrix"
   ]
  },
  {
   "cell_type": "markdown",
   "metadata": {},
   "source": [
    "Now lets load the testing data."
   ]
  },
  {
   "cell_type": "code",
   "execution_count": 18,
   "metadata": {},
   "outputs": [],
   "source": [
    "test_X = unpickle(rel_path + 'test_batch');\n",
    "test_data = test_X[b'data']"
   ]
  },
  {
   "cell_type": "markdown",
   "metadata": {},
   "source": [
    "Check if the test data shape is same as training data shape"
   ]
  },
  {
   "cell_type": "code",
   "execution_count": 19,
   "metadata": {},
   "outputs": [
    {
     "name": "stdout",
     "output_type": "stream",
     "text": [
      "[[158 159 165 ... 124 129 110]\n",
      " [235 231 232 ... 178 191 199]\n",
      " [158 158 139 ...   8   3   7]\n",
      " ...\n",
      " [ 20  19  15 ...  50  53  47]\n",
      " [ 25  15  23 ...  80  81  80]\n",
      " [ 73  98  99 ...  94  58  26]]\n",
      "shape (10000, 3072)\n"
     ]
    }
   ],
   "source": [
    "print(test_data)\n",
    "print('shape', test_data.shape)"
   ]
  },
  {
   "cell_type": "markdown",
   "metadata": {},
   "source": [
    "Yes it's same. The number of cols in row the vectors are what we are checking."
   ]
  },
  {
   "cell_type": "markdown",
   "metadata": {},
   "source": [
    "---"
   ]
  },
  {
   "cell_type": "markdown",
   "metadata": {},
   "source": [
    "Lets sample first 5 images from the data and see what the image file contains"
   ]
  },
  {
   "cell_type": "code",
   "execution_count": 20,
   "metadata": {},
   "outputs": [
    {
     "name": "stdout",
     "output_type": "stream",
     "text": [
      "[[ 59  43  50 ... 140  84  72]\n",
      " [154 126 105 ... 139 142 144]\n",
      " [255 253 253 ...  83  83  84]\n",
      " ...\n",
      " [ 28  30  33 ... 100  99  96]\n",
      " [134 131 128 ... 136 137 138]\n",
      " [125 110 102 ...  82  84  86]]\n",
      "shape (10, 3072)\n"
     ]
    }
   ],
   "source": [
    "sample_img_data = img_data[0:10, :]\n",
    "print(sample_img_data)\n",
    "print('shape', sample_img_data.shape)"
   ]
  },
  {
   "cell_type": "markdown",
   "metadata": {},
   "source": [
    "Lets get the batch file so that image name can be displayed"
   ]
  },
  {
   "cell_type": "code",
   "execution_count": 21,
   "metadata": {},
   "outputs": [
    {
     "name": "stdout",
     "output_type": "stream",
     "text": [
      "[b'airplane', b'automobile', b'bird', b'cat', b'deer', b'dog', b'frog', b'horse', b'ship', b'truck']\n"
     ]
    }
   ],
   "source": [
    "batch = unpickle(rel_path + 'batches.meta');\n",
    "meta = batch[b'label_names']\n",
    "print(meta)"
   ]
  },
  {
   "cell_type": "markdown",
   "metadata": {},
   "source": [
    "Here is the procedure to show image"
   ]
  },
  {
   "cell_type": "code",
   "execution_count": null,
   "metadata": {},
   "outputs": [],
   "source": [
    "# %load show_img.py\n",
    "from PIL import Image\n",
    "import numpy as np\n",
    "from IPython.display import display\n",
    "\n",
    "def show_img(img_arr, label_arr, meta, index):\n",
    "    \"\"\"\n",
    "        Given a numpy array of image from CIFAR-10 labels this method transform the data so that PIL can read and show\n",
    "        the image.\n",
    "        Check here how CIFAR encodes the image http://www.cs.toronto.edu/~kriz/cifar.html\n",
    "    \"\"\"\n",
    "    \n",
    "    one_img = img_arr[index, :]\n",
    "    # Assume image size is 32 x 32. First 1024 px is r, next 1024 px is g, last 1024 px is b from the (r,g b) channel\n",
    "    r = one_img[:1024].reshape(32, 32)\n",
    "    g = one_img[1024:2048].reshape(32, 32)\n",
    "    b = one_img[2048:]. reshape(32, 32)\n",
    "    rgb = np.dstack([r, g, b])\n",
    "    img = Image.fromarray(np.array(rgb), 'RGB')\n",
    "    display(img)\n",
    "    print(meta[label_arr[index][0]].decode('utf-8'))"
   ]
  },
  {
   "cell_type": "code",
   "execution_count": 30,
   "metadata": {},
   "outputs": [
    {
     "data": {
      "image/png": "[encoded data removed]",
      "text/plain": [
       "<PIL.Image.Image image mode=RGB size=32x32 at 0x116A9F4A8>"
      ]
     },
     "metadata": {},
     "output_type": "display_data"
    },
    {
     "name": "stdout",
     "output_type": "stream",
     "text": [
      "b'frog'\n"
     ]
    },
    {
     "data": {
      "image/png": "[encoded data removed]",
      "text/plain": [
       "<PIL.Image.Image image mode=RGB size=32x32 at 0x116A9F4E0>"
      ]
     },
     "metadata": {},
     "output_type": "display_data"
    },
    {
     "name": "stdout",
     "output_type": "stream",
     "text": [
      "b'truck'\n"
     ]
    },
    {
     "data": {
      "image/png": "[encoded data removed]",
      "text/plain": [
       "<PIL.Image.Image image mode=RGB size=32x32 at 0x116A9F2B0>"
      ]
     },
     "metadata": {},
     "output_type": "display_data"
    },
    {
     "name": "stdout",
     "output_type": "stream",
     "text": [
      "b'truck'\n"
     ]
    },
    {
     "data": {
      "image/png": "[encoded data removed]",
      "text/plain": [
       "<PIL.Image.Image image mode=RGB size=32x32 at 0x116A9F2E8>"
      ]
     },
     "metadata": {},
     "output_type": "display_data"
    },
    {
     "name": "stdout",
     "output_type": "stream",
     "text": [
      "b'deer'\n"
     ]
    },
    {
     "data": {
      "image/png": "[encoded data removed]",
      "text/plain": [
       "<PIL.Image.Image image mode=RGB size=32x32 at 0x116A9F4A8>"
      ]
     },
     "metadata": {},
     "output_type": "display_data"
    },
    {
     "name": "stdout",
     "output_type": "stream",
     "text": [
      "b'automobile'\n"
     ]
    },
    {
     "data": {
      "image/png": "[encoded data removed]",
      "text/plain": [
       "<PIL.Image.Image image mode=RGB size=32x32 at 0x116A9F4E0>"
      ]
     },
     "metadata": {},
     "output_type": "display_data"
    },
    {
     "name": "stdout",
     "output_type": "stream",
     "text": [
      "b'automobile'\n"
     ]
    },
    {
     "data": {
      "image/png": "[encoded data removed]",
      "text/plain": [
       "<PIL.Image.Image image mode=RGB size=32x32 at 0x116A9F2B0>"
      ]
     },
     "metadata": {},
     "output_type": "display_data"
    },
    {
     "name": "stdout",
     "output_type": "stream",
     "text": [
      "b'bird'\n"
     ]
    },
    {
     "data": {
      "image/png": "[encoded data removed]",
      "text/plain": [
       "<PIL.Image.Image image mode=RGB size=32x32 at 0x116A9F2E8>"
      ]
     },
     "metadata": {},
     "output_type": "display_data"
    },
    {
     "name": "stdout",
     "output_type": "stream",
     "text": [
      "b'horse'\n"
     ]
    },
    {
     "data": {
      "image/png": "[encoded data removed]",
      "text/plain": [
       "<PIL.Image.Image image mode=RGB size=32x32 at 0x116A9F2B0>"
      ]
     },
     "metadata": {},
     "output_type": "display_data"
    },
    {
     "name": "stdout",
     "output_type": "stream",
     "text": [
      "b'ship'\n"
     ]
    },
    {
     "data": {
      "image/png": "[encoded data removed]",
      "text/plain": [
       "<PIL.Image.Image image mode=RGB size=32x32 at 0x116A9F470>"
      ]
     },
     "metadata": {},
     "output_type": "display_data"
    },
    {
     "name": "stdout",
     "output_type": "stream",
     "text": [
      "b'cat'\n"
     ]
    }
   ],
   "source": [
    "import show_img as si\n",
    "for i in range(0, 10):\n",
    "    si.show_img(sample_img_data, img_label, meta, i)"
   ]
  }
 ],
 "metadata": {
  "kernelspec": {
   "display_name": "Python 3",
   "language": "python",
   "name": "python3"
  },
  "language_info": {
   "codemirror_mode": {
    "name": "ipython",
    "version": 3
   },
   "file_extension": ".py",
   "mimetype": "text/x-python",
   "name": "python",
   "nbconvert_exporter": "python",
   "pygments_lexer": "ipython3",
   "version": "3.6.1"
  }
 },
 "nbformat": 4,
 "nbformat_minor": 2
}
